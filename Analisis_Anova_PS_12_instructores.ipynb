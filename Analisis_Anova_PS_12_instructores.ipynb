{
  "nbformat": 4,
  "nbformat_minor": 0,
  "metadata": {
    "colab": {
      "provenance": [],
      "authorship_tag": "ABX9TyMm1Ux3Yh/57dXrF740VyFu",
      "include_colab_link": true
    },
    "kernelspec": {
      "name": "python3",
      "display_name": "Python 3"
    },
    "language_info": {
      "name": "python"
    }
  },
  "cells": [
    {
      "cell_type": "markdown",
      "metadata": {
        "id": "view-in-github",
        "colab_type": "text"
      },
      "source": [
        "<a href=\"https://colab.research.google.com/github/juanFFlorezM/Extraccion_de_datos/blob/main/Analisis_Anova_PS_12_instructores.ipynb\" target=\"_parent\"><img src=\"https://colab.research.google.com/assets/colab-badge.svg\" alt=\"Open In Colab\"/></a>"
      ]
    },
    {
      "cell_type": "code",
      "execution_count": 1,
      "metadata": {
        "id": "6ewqiutpsABZ"
      },
      "outputs": [],
      "source": [
        "import pandas as pd\n",
        "import statsmodels.api as sm\n",
        "from statsmodels.formula.api import ols\n",
        "from statsmodels.stats.anova import anova_lm\n",
        "from statsmodels.stats.multicomp import pairwise_tukeyhsd"
      ]
    },
    {
      "cell_type": "code",
      "source": [
        "# Paso 1: Cargar el archivo Excel\n",
        "archivo_excel = 'Qt_3PS_excel.xlsx'  # Cambia esto por la ruta a tu archivo\n",
        "datos = pd.read_excel(archivo_excel)"
      ],
      "metadata": {
        "id": "ulBEY2twsiEF"
      },
      "execution_count": 2,
      "outputs": []
    },
    {
      "cell_type": "code",
      "source": [
        "# Paso 2: Verifica la estructura de los datos\n",
        "print(\"Datos cargados:\")\n",
        "print(datos.head())"
      ],
      "metadata": {
        "colab": {
          "base_uri": "https://localhost:8080/"
        },
        "id": "yVJJHB6Fst8L",
        "outputId": "7e32fe97-061d-4f94-ac2d-0e31d62fb258"
      },
      "execution_count": 3,
      "outputs": [
        {
          "output_type": "stream",
          "name": "stdout",
          "text": [
            "Datos cargados:\n",
            "  Instructor  S1  S2  S3\n",
            "0         Q1   7   7   7\n",
            "1         Q1   5   5   5\n",
            "2         Q1   1   1   1\n",
            "3         Q1   5   6   5\n",
            "4         Q1   6   6   6\n"
          ]
        }
      ]
    },
    {
      "cell_type": "code",
      "source": [
        "# Paso 3: Transformar los datos a formato largo\n",
        "# Usamos pd.melt para transformar el DataFrame\n",
        "datos_largos = pd.melt(datos, id_vars=['Instructor'], value_vars=['S1', 'S2', 'S3'],\n",
        "                       var_name='Pregunta', value_name='Valor')"
      ],
      "metadata": {
        "id": "QsgjdF1dsyJx"
      },
      "execution_count": 4,
      "outputs": []
    },
    {
      "cell_type": "code",
      "source": [
        "# Paso 4: Verifica la transformación\n",
        "print(\"\\nDatos transformados a formato largo:\")\n",
        "print(datos_largos.head())"
      ],
      "metadata": {
        "id": "YWtJv5BetJU3",
        "colab": {
          "base_uri": "https://localhost:8080/"
        },
        "outputId": "37beaa52-96bb-42ce-e91c-7b801765f82a"
      },
      "execution_count": 5,
      "outputs": [
        {
          "output_type": "stream",
          "name": "stdout",
          "text": [
            "\n",
            "Datos transformados a formato largo:\n",
            "  Instructor Pregunta  Valor\n",
            "0         Q1       S1      7\n",
            "1         Q1       S1      5\n",
            "2         Q1       S1      1\n",
            "3         Q1       S1      5\n",
            "4         Q1       S1      6\n"
          ]
        }
      ]
    },
    {
      "cell_type": "code",
      "source": [
        "# Paso 5: Realizar ANOVA\n",
        "modelo = ols('Valor ~ C(Instructor)', data=datos_largos).fit()  # Ajusta el modelo OLS\n",
        "anova_resultado = anova_lm(modelo, typ=2)                      # Realiza ANOVA\n",
        "print(\"\\nResultados de ANOVA:\")\n",
        "print(anova_resultado)"
      ],
      "metadata": {
        "colab": {
          "base_uri": "https://localhost:8080/"
        },
        "id": "qp-crQiQwIfI",
        "outputId": "ce23e226-8b0e-4fd3-f758-84112c9208a6"
      },
      "execution_count": 6,
      "outputs": [
        {
          "output_type": "stream",
          "name": "stdout",
          "text": [
            "\n",
            "Resultados de ANOVA:\n",
            "                   sum_sq     df         F    PR(>F)\n",
            "C(Instructor)   62.864785   11.0  3.643621  0.000052\n",
            "Residual       912.860805  582.0       NaN       NaN\n"
          ]
        }
      ]
    },
    {
      "cell_type": "code",
      "source": [
        "# Paso 6: Interpretar el resultado ANOVA\n",
        "p_value_anova = anova_resultado['PR(>F)'][0]\n",
        "if p_value_anova < 0.05:\n",
        "    print(\"Hay diferencias significativas entre los instructores (p < 0.05).\")"
      ],
      "metadata": {
        "colab": {
          "base_uri": "https://localhost:8080/"
        },
        "id": "SO9HBGx2_K3_",
        "outputId": "94968c4b-de15-41e8-c076-c81601db78b5",
        "collapsed": true
      },
      "execution_count": 7,
      "outputs": [
        {
          "output_type": "stream",
          "name": "stdout",
          "text": [
            "Hay diferencias significativas entre los instructores (p < 0.05).\n"
          ]
        },
        {
          "output_type": "stream",
          "name": "stderr",
          "text": [
            "<ipython-input-7-532034d692fc>:2: FutureWarning: Series.__getitem__ treating keys as positions is deprecated. In a future version, integer keys will always be treated as labels (consistent with DataFrame behavior). To access a value by position, use `ser.iloc[pos]`\n",
            "  p_value_anova = anova_resultado['PR(>F)'][0]\n"
          ]
        }
      ]
    },
    {
      "cell_type": "code",
      "source": [
        "# Paso 7: Realizar la prueba post-hoc Tukey HSD si hay diferencias significativas\n",
        "if p_value_anova < 0.05:\n",
        "    tukey_resultado = pairwise_tukeyhsd(endog=datos_largos['Valor'], groups=datos_largos['Instructor'], alpha=0.05)\n",
        "    print(\"\\nResultados de Tukey HSD:\")\n",
        "    print(tukey_resultado)\n",
        "else:\n",
        "    print(\"No hay diferencias significativas entre los instructores (p >= 0.05).\")"
      ],
      "metadata": {
        "colab": {
          "base_uri": "https://localhost:8080/"
        },
        "id": "TUzIw3nr_Uv-",
        "outputId": "bd62dde0-6e14-4f6c-ea4b-e2ff89dd648b",
        "collapsed": true
      },
      "execution_count": 8,
      "outputs": [
        {
          "output_type": "stream",
          "name": "stdout",
          "text": [
            "\n",
            "Resultados de Tukey HSD:\n",
            "Multiple Comparison of Means - Tukey HSD, FWER=0.05 \n",
            "====================================================\n",
            "group1 group2 meandiff p-adj   lower   upper  reject\n",
            "----------------------------------------------------\n",
            "    Q1    Q10   0.1343    1.0 -0.6056  0.8741  False\n",
            "    Q1    Q11  -0.4663  0.748 -1.2642  0.3317  False\n",
            "    Q1    Q12   0.1912 0.9998 -0.6258  1.0083  False\n",
            "    Q1     Q2   0.1038    1.0 -0.6484  0.8559  False\n",
            "    Q1     Q3   0.5861 0.5842 -0.3069  1.4792  False\n",
            "    Q1     Q4   0.4459  0.525 -0.2089  1.1006  False\n",
            "    Q1     Q5   0.8323 0.0415  0.0152  1.6494   True\n",
            "    Q1     Q6  -0.2866 0.9951 -1.1505  0.5773  False\n",
            "    Q1     Q7  -0.1917 0.9997 -0.9726  0.5893  False\n",
            "    Q1     Q8  -0.0652    1.0 -0.8823  0.7519  False\n",
            "    Q1     Q9   0.2242 0.9968 -0.4848  0.9332  False\n",
            "   Q10    Q11  -0.6005 0.4559  -1.446   0.245  False\n",
            "   Q10    Q12    0.057    1.0 -0.8066  0.9206  False\n",
            "   Q10     Q2  -0.0305    1.0  -0.833   0.772  False\n",
            "   Q10     Q3   0.4519 0.9143  -0.484  1.3877  False\n",
            "   Q10     Q4   0.3116 0.9559 -0.4003  1.0236  False\n",
            "   Q10     Q5    0.698 0.2534 -0.1656  1.5616  False\n",
            "   Q10     Q6  -0.4209 0.9345 -1.3289  0.4872  False\n",
            "   Q10     Q7  -0.3259 0.9803 -1.1554  0.5036  False\n",
            "   Q10     Q8  -0.1994 0.9998  -1.063  0.6642  False\n",
            "   Q10     Q9   0.0899    1.0 -0.6722  0.8521  False\n",
            "   Q11    Q12   0.6575 0.4346 -0.2564  1.5714  False\n",
            "   Q11     Q2     0.57 0.5617 -0.2863  1.4264  False\n",
            "   Q11     Q3   1.0524 0.0237    0.07  2.0348   True\n",
            "   Q11     Q4   0.9122 0.0066    0.14  1.6843   True\n",
            "   Q11     Q5   1.2985 0.0002  0.3846  2.2124   True\n",
            "   Q11     Q6   0.1797    1.0 -0.7763  1.1356  False\n",
            "   Q11     Q7   0.2746 0.9972 -0.6071  1.1563  False\n",
            "   Q11     Q8   0.4011 0.9551 -0.5128   1.315  False\n",
            "   Q11     Q9   0.6905 0.1968 -0.1282  1.5091  False\n",
            "   Q12     Q2  -0.0875    1.0 -0.9617  0.7867  False\n",
            "   Q12     Q3   0.3949 0.9792 -0.6031  1.3929  False\n",
            "   Q12     Q4   0.2546 0.9963 -0.5373  1.0466  False\n",
            "   Q12     Q5    0.641 0.5064 -0.2896  1.5717  False\n",
            "   Q12     Q6  -0.4779 0.9039 -1.4499  0.4942  False\n",
            "   Q12     Q7  -0.3829 0.9638  -1.282  0.5162  False\n",
            "   Q12     Q8  -0.2564 0.9991 -1.1871  0.6742  False\n",
            "   Q12     Q9    0.033    1.0 -0.8044  0.8703  False\n",
            "    Q2     Q3   0.4824 0.8795 -0.4632  1.4279  False\n",
            "    Q2     Q4   0.3421  0.926 -0.3826  1.0669  False\n",
            "    Q2     Q5   0.7285  0.212 -0.1457  1.6027  False\n",
            "    Q2     Q6  -0.3904 0.9642 -1.3085  0.5278  False\n",
            "    Q2     Q7  -0.2954  0.992 -1.1359  0.5451  False\n",
            "    Q2     Q8  -0.1689    1.0 -1.0431  0.7053  False\n",
            "    Q2     Q9   0.1204    1.0 -0.6537  0.8946  False\n",
            "    Q3     Q4  -0.1402    1.0 -1.0103  0.7299  False\n",
            "    Q3     Q5   0.2462 0.9997 -0.7519  1.2442  False\n",
            "    Q3     Q6  -0.8727 0.1992 -1.9094   0.164  False\n",
            "    Q3     Q7  -0.7778 0.2627 -1.7464  0.1909  False\n",
            "    Q3     Q8  -0.6513 0.5931 -1.6493  0.3467  False\n",
            "    Q3     Q9  -0.3619 0.9786 -1.2735  0.5497  False\n",
            "    Q4     Q5   0.3864 0.9084 -0.4056  1.1783  False\n",
            "    Q4     Q6  -0.7325 0.1581 -1.5727  0.1077  False\n",
            "    Q4     Q7  -0.6375 0.1947 -1.3922  0.1171  False\n",
            "    Q4     Q8  -0.5111 0.6104  -1.303  0.2809  False\n",
            "    Q4     Q9  -0.2217 0.9958 -0.9015  0.4582  False\n",
            "    Q5     Q6  -1.1189 0.0095 -2.0909 -0.1468   True\n",
            "    Q5     Q7  -1.0239  0.011  -1.923 -0.1248   True\n",
            "    Q5     Q8  -0.8974 0.0707 -1.8281  0.0332  False\n",
            "    Q5     Q9  -0.6081 0.4194 -1.4454  0.2293  False\n",
            "    Q6     Q7   0.0949    1.0 -0.8469  1.0368  False\n",
            "    Q6     Q8   0.2214 0.9999 -0.7506  1.1935  False\n",
            "    Q6     Q9   0.5108 0.7602 -0.3723  1.3939  False\n",
            "    Q7     Q8   0.1265    1.0 -0.7726  1.0256  False\n",
            "    Q7     Q9   0.4159 0.8673 -0.3863   1.218  False\n",
            "    Q8     Q9   0.2894  0.993  -0.548  1.1267  False\n",
            "----------------------------------------------------\n"
          ]
        }
      ]
    },
    {
      "cell_type": "markdown",
      "source": [
        "El test de tukey aplicado a los datos crudos arroja las siguientes seis parejas con diferencias significativas:\n",
        "\n",
        "Q1-Q5\n",
        "Q11-(Q3,Q4,Q5)\n",
        "Q5-(Q6,Q7)"
      ],
      "metadata": {
        "id": "-bbpdLXUUCJn"
      }
    },
    {
      "cell_type": "code",
      "source": [
        "# Este es un codigo que me permite realizar un diagrama de cajas y bigotes con la data en datos_largos\n",
        "import plotly.express as px\n",
        "fig = px.box(datos_largos, x='Instructor', y='Valor', title='Diagrama de Caja y Bigotes')\n",
        "fig.show()"
      ],
      "metadata": {
        "colab": {
          "base_uri": "https://localhost:8080/",
          "height": 542
        },
        "id": "myehIBYpb6gP",
        "outputId": "b7913fe3-0262-47e3-f65b-1dbe1159625d"
      },
      "execution_count": 9,
      "outputs": [
        {
          "output_type": "display_data",
          "data": {
            "text/html": [
              "<html>\n",
              "<head><meta charset=\"utf-8\" /></head>\n",
              "<body>\n",
              "    <div>            <script src=\"https://cdnjs.cloudflare.com/ajax/libs/mathjax/2.7.5/MathJax.js?config=TeX-AMS-MML_SVG\"></script><script type=\"text/javascript\">if (window.MathJax && window.MathJax.Hub && window.MathJax.Hub.Config) {window.MathJax.Hub.Config({SVG: {font: \"STIX-Web\"}});}</script>                <script type=\"text/javascript\">window.PlotlyConfig = {MathJaxConfig: 'local'};</script>\n",
              "        <script charset=\"utf-8\" src=\"https://cdn.plot.ly/plotly-2.35.2.min.js\"></script>                <div id=\"8908d2bc-161d-4c8c-bd67-530f16e32f94\" class=\"plotly-graph-div\" style=\"height:525px; width:100%;\"></div>            <script type=\"text/javascript\">                                    window.PLOTLYENV=window.PLOTLYENV || {};                                    if (document.getElementById(\"8908d2bc-161d-4c8c-bd67-530f16e32f94\")) {                    Plotly.newPlot(                        \"8908d2bc-161d-4c8c-bd67-530f16e32f94\",                        [{\"alignmentgroup\":\"True\",\"hovertemplate\":\"Instructor=%{x}\\u003cbr\\u003eValor=%{y}\\u003cextra\\u003e\\u003c\\u002fextra\\u003e\",\"legendgroup\":\"\",\"marker\":{\"color\":\"#636efa\"},\"name\":\"\",\"notched\":false,\"offsetgroup\":\"\",\"orientation\":\"v\",\"showlegend\":false,\"x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x0\":\" \",\"xaxis\":\"x\",\"y\":[7,5,1,5,6,6,5,4,6,4,7,7,5,5,5,7,5,6,6,6,7,6,6,4,5,7,4,4,5,5,5,7,5,6,7,5,4,6,2,7,6,6,6,7,7,6,7,6,5,7,5,7,5,6,7,5,7,7,6,6,5,6,6,7,7,1,5,5,7,6,6,7,7,7,5,4,6,7,7,7,7,7,6,6,5,7,7,6,7,7,7,7,5,4,5,5,5,4,4,5,7,5,6,2,7,2,4,7,6,6,7,4,5,3,5,7,5,4,7,7,6,4,4,5,3,5,3,7,6,6,5,4,7,6,7,6,7,7,5,6,4,4,7,6,6,7,6,7,4,7,6,3,6,5,5,7,6,5,6,6,7,6,5,6,5,4,6,6,6,5,5,6,7,5,5,6,6,7,2,5,5,5,2,5,6,7,4,6,5,6,7,6,7,5,5,6,5,6,7,5,1,6,6,6,5,4,6,7,7,7,6,6,5,7,5,7,7,7,7,6,6,7,6,7,7,7,7,5,7,7,6,7,7,7,5,6,2,7,6,7,6,7,7,6,7,6,5,7,7,7,5,7,7,5,7,7,6,6,6,6,7,7,7,1,5,5,7,6,6,7,7,7,7,7,5,7,7,7,7,6,6,6,5,7,7,7,7,7,7,7,5,7,6,6,5,5,6,5,5,5,6,6,7,2,7,7,7,7,6,5,5,3,5,7,5,4,7,7,7,4,6,6,5,6,6,7,6,7,5,4,7,7,7,5,7,7,6,6,5,4,7,6,7,7,7,7,1,7,6,1,7,5,7,7,5,5,7,6,7,6,5,7,6,6,7,6,6,5,5,6,7,5,5,6,7,7,2,5,5,6,1,6,5,7,5,5,5,5,7,4,7,5,6,7,7,6,7,5,1,5,6,5,5,4,5,7,7,6,6,6,5,7,5,7,6,7,6,6,6,5,6,7,4,6,7,5,7,7,5,7,6,6,5,6,2,7,6,5,7,7,6,6,7,6,4,6,7,7,5,7,7,5,7,7,7,6,5,6,6,7,7,1,6,4,6,6,7,7,6,7,6,7,6,7,7,6,7,7,6,6,6,7,7,7,7,7,7,7,5,7,6,6,4,6,6,5,7,5,7,5,7,2,7,7,6,7,6,5,5,4,5,7,5,4,7,7,7,6,6,6,6,6,5,7,6,7,5,4,7,7,7,5,7,7,4,6,4,5,7,6,7,7,7,7,1,6,6,4,7,5,5,7,6,5,7,5,7,6,5,7,6,5,7,6,5,5,6,6,7,5,5,6,4,7,2,5,5,7,4,6,5,6,5,7,5,4,6,7,7,5,6,7,7,6],\"y0\":\" \",\"yaxis\":\"y\",\"type\":\"box\"}],                        {\"template\":{\"data\":{\"histogram2dcontour\":[{\"type\":\"histogram2dcontour\",\"colorbar\":{\"outlinewidth\":0,\"ticks\":\"\"},\"colorscale\":[[0.0,\"#0d0887\"],[0.1111111111111111,\"#46039f\"],[0.2222222222222222,\"#7201a8\"],[0.3333333333333333,\"#9c179e\"],[0.4444444444444444,\"#bd3786\"],[0.5555555555555556,\"#d8576b\"],[0.6666666666666666,\"#ed7953\"],[0.7777777777777778,\"#fb9f3a\"],[0.8888888888888888,\"#fdca26\"],[1.0,\"#f0f921\"]]}],\"choropleth\":[{\"type\":\"choropleth\",\"colorbar\":{\"outlinewidth\":0,\"ticks\":\"\"}}],\"histogram2d\":[{\"type\":\"histogram2d\",\"colorbar\":{\"outlinewidth\":0,\"ticks\":\"\"},\"colorscale\":[[0.0,\"#0d0887\"],[0.1111111111111111,\"#46039f\"],[0.2222222222222222,\"#7201a8\"],[0.3333333333333333,\"#9c179e\"],[0.4444444444444444,\"#bd3786\"],[0.5555555555555556,\"#d8576b\"],[0.6666666666666666,\"#ed7953\"],[0.7777777777777778,\"#fb9f3a\"],[0.8888888888888888,\"#fdca26\"],[1.0,\"#f0f921\"]]}],\"heatmap\":[{\"type\":\"heatmap\",\"colorbar\":{\"outlinewidth\":0,\"ticks\":\"\"},\"colorscale\":[[0.0,\"#0d0887\"],[0.1111111111111111,\"#46039f\"],[0.2222222222222222,\"#7201a8\"],[0.3333333333333333,\"#9c179e\"],[0.4444444444444444,\"#bd3786\"],[0.5555555555555556,\"#d8576b\"],[0.6666666666666666,\"#ed7953\"],[0.7777777777777778,\"#fb9f3a\"],[0.8888888888888888,\"#fdca26\"],[1.0,\"#f0f921\"]]}],\"heatmapgl\":[{\"type\":\"heatmapgl\",\"colorbar\":{\"outlinewidth\":0,\"ticks\":\"\"},\"colorscale\":[[0.0,\"#0d0887\"],[0.1111111111111111,\"#46039f\"],[0.2222222222222222,\"#7201a8\"],[0.3333333333333333,\"#9c179e\"],[0.4444444444444444,\"#bd3786\"],[0.5555555555555556,\"#d8576b\"],[0.6666666666666666,\"#ed7953\"],[0.7777777777777778,\"#fb9f3a\"],[0.8888888888888888,\"#fdca26\"],[1.0,\"#f0f921\"]]}],\"contourcarpet\":[{\"type\":\"contourcarpet\",\"colorbar\":{\"outlinewidth\":0,\"ticks\":\"\"}}],\"contour\":[{\"type\":\"contour\",\"colorbar\":{\"outlinewidth\":0,\"ticks\":\"\"},\"colorscale\":[[0.0,\"#0d0887\"],[0.1111111111111111,\"#46039f\"],[0.2222222222222222,\"#7201a8\"],[0.3333333333333333,\"#9c179e\"],[0.4444444444444444,\"#bd3786\"],[0.5555555555555556,\"#d8576b\"],[0.6666666666666666,\"#ed7953\"],[0.7777777777777778,\"#fb9f3a\"],[0.8888888888888888,\"#fdca26\"],[1.0,\"#f0f921\"]]}],\"surface\":[{\"type\":\"surface\",\"colorbar\":{\"outlinewidth\":0,\"ticks\":\"\"},\"colorscale\":[[0.0,\"#0d0887\"],[0.1111111111111111,\"#46039f\"],[0.2222222222222222,\"#7201a8\"],[0.3333333333333333,\"#9c179e\"],[0.4444444444444444,\"#bd3786\"],[0.5555555555555556,\"#d8576b\"],[0.6666666666666666,\"#ed7953\"],[0.7777777777777778,\"#fb9f3a\"],[0.8888888888888888,\"#fdca26\"],[1.0,\"#f0f921\"]]}],\"mesh3d\":[{\"type\":\"mesh3d\",\"colorbar\":{\"outlinewidth\":0,\"ticks\":\"\"}}],\"scatter\":[{\"fillpattern\":{\"fillmode\":\"overlay\",\"size\":10,\"solidity\":0.2},\"type\":\"scatter\"}],\"parcoords\":[{\"type\":\"parcoords\",\"line\":{\"colorbar\":{\"outlinewidth\":0,\"ticks\":\"\"}}}],\"scatterpolargl\":[{\"type\":\"scatterpolargl\",\"marker\":{\"colorbar\":{\"outlinewidth\":0,\"ticks\":\"\"}}}],\"bar\":[{\"error_x\":{\"color\":\"#2a3f5f\"},\"error_y\":{\"color\":\"#2a3f5f\"},\"marker\":{\"line\":{\"color\":\"#E5ECF6\",\"width\":0.5},\"pattern\":{\"fillmode\":\"overlay\",\"size\":10,\"solidity\":0.2}},\"type\":\"bar\"}],\"scattergeo\":[{\"type\":\"scattergeo\",\"marker\":{\"colorbar\":{\"outlinewidth\":0,\"ticks\":\"\"}}}],\"scatterpolar\":[{\"type\":\"scatterpolar\",\"marker\":{\"colorbar\":{\"outlinewidth\":0,\"ticks\":\"\"}}}],\"histogram\":[{\"marker\":{\"pattern\":{\"fillmode\":\"overlay\",\"size\":10,\"solidity\":0.2}},\"type\":\"histogram\"}],\"scattergl\":[{\"type\":\"scattergl\",\"marker\":{\"colorbar\":{\"outlinewidth\":0,\"ticks\":\"\"}}}],\"scatter3d\":[{\"type\":\"scatter3d\",\"line\":{\"colorbar\":{\"outlinewidth\":0,\"ticks\":\"\"}},\"marker\":{\"colorbar\":{\"outlinewidth\":0,\"ticks\":\"\"}}}],\"scattermapbox\":[{\"type\":\"scattermapbox\",\"marker\":{\"colorbar\":{\"outlinewidth\":0,\"ticks\":\"\"}}}],\"scatterternary\":[{\"type\":\"scatterternary\",\"marker\":{\"colorbar\":{\"outlinewidth\":0,\"ticks\":\"\"}}}],\"scattercarpet\":[{\"type\":\"scattercarpet\",\"marker\":{\"colorbar\":{\"outlinewidth\":0,\"ticks\":\"\"}}}],\"carpet\":[{\"aaxis\":{\"endlinecolor\":\"#2a3f5f\",\"gridcolor\":\"white\",\"linecolor\":\"white\",\"minorgridcolor\":\"white\",\"startlinecolor\":\"#2a3f5f\"},\"baxis\":{\"endlinecolor\":\"#2a3f5f\",\"gridcolor\":\"white\",\"linecolor\":\"white\",\"minorgridcolor\":\"white\",\"startlinecolor\":\"#2a3f5f\"},\"type\":\"carpet\"}],\"table\":[{\"cells\":{\"fill\":{\"color\":\"#EBF0F8\"},\"line\":{\"color\":\"white\"}},\"header\":{\"fill\":{\"color\":\"#C8D4E3\"},\"line\":{\"color\":\"white\"}},\"type\":\"table\"}],\"barpolar\":[{\"marker\":{\"line\":{\"color\":\"#E5ECF6\",\"width\":0.5},\"pattern\":{\"fillmode\":\"overlay\",\"size\":10,\"solidity\":0.2}},\"type\":\"barpolar\"}],\"pie\":[{\"automargin\":true,\"type\":\"pie\"}]},\"layout\":{\"autotypenumbers\":\"strict\",\"colorway\":[\"#636efa\",\"#EF553B\",\"#00cc96\",\"#ab63fa\",\"#FFA15A\",\"#19d3f3\",\"#FF6692\",\"#B6E880\",\"#FF97FF\",\"#FECB52\"],\"font\":{\"color\":\"#2a3f5f\"},\"hovermode\":\"closest\",\"hoverlabel\":{\"align\":\"left\"},\"paper_bgcolor\":\"white\",\"plot_bgcolor\":\"#E5ECF6\",\"polar\":{\"bgcolor\":\"#E5ECF6\",\"angularaxis\":{\"gridcolor\":\"white\",\"linecolor\":\"white\",\"ticks\":\"\"},\"radialaxis\":{\"gridcolor\":\"white\",\"linecolor\":\"white\",\"ticks\":\"\"}},\"ternary\":{\"bgcolor\":\"#E5ECF6\",\"aaxis\":{\"gridcolor\":\"white\",\"linecolor\":\"white\",\"ticks\":\"\"},\"baxis\":{\"gridcolor\":\"white\",\"linecolor\":\"white\",\"ticks\":\"\"},\"caxis\":{\"gridcolor\":\"white\",\"linecolor\":\"white\",\"ticks\":\"\"}},\"coloraxis\":{\"colorbar\":{\"outlinewidth\":0,\"ticks\":\"\"}},\"colorscale\":{\"sequential\":[[0.0,\"#0d0887\"],[0.1111111111111111,\"#46039f\"],[0.2222222222222222,\"#7201a8\"],[0.3333333333333333,\"#9c179e\"],[0.4444444444444444,\"#bd3786\"],[0.5555555555555556,\"#d8576b\"],[0.6666666666666666,\"#ed7953\"],[0.7777777777777778,\"#fb9f3a\"],[0.8888888888888888,\"#fdca26\"],[1.0,\"#f0f921\"]],\"sequentialminus\":[[0.0,\"#0d0887\"],[0.1111111111111111,\"#46039f\"],[0.2222222222222222,\"#7201a8\"],[0.3333333333333333,\"#9c179e\"],[0.4444444444444444,\"#bd3786\"],[0.5555555555555556,\"#d8576b\"],[0.6666666666666666,\"#ed7953\"],[0.7777777777777778,\"#fb9f3a\"],[0.8888888888888888,\"#fdca26\"],[1.0,\"#f0f921\"]],\"diverging\":[[0,\"#8e0152\"],[0.1,\"#c51b7d\"],[0.2,\"#de77ae\"],[0.3,\"#f1b6da\"],[0.4,\"#fde0ef\"],[0.5,\"#f7f7f7\"],[0.6,\"#e6f5d0\"],[0.7,\"#b8e186\"],[0.8,\"#7fbc41\"],[0.9,\"#4d9221\"],[1,\"#276419\"]]},\"xaxis\":{\"gridcolor\":\"white\",\"linecolor\":\"white\",\"ticks\":\"\",\"title\":{\"standoff\":15},\"zerolinecolor\":\"white\",\"automargin\":true,\"zerolinewidth\":2},\"yaxis\":{\"gridcolor\":\"white\",\"linecolor\":\"white\",\"ticks\":\"\",\"title\":{\"standoff\":15},\"zerolinecolor\":\"white\",\"automargin\":true,\"zerolinewidth\":2},\"scene\":{\"xaxis\":{\"backgroundcolor\":\"#E5ECF6\",\"gridcolor\":\"white\",\"linecolor\":\"white\",\"showbackground\":true,\"ticks\":\"\",\"zerolinecolor\":\"white\",\"gridwidth\":2},\"yaxis\":{\"backgroundcolor\":\"#E5ECF6\",\"gridcolor\":\"white\",\"linecolor\":\"white\",\"showbackground\":true,\"ticks\":\"\",\"zerolinecolor\":\"white\",\"gridwidth\":2},\"zaxis\":{\"backgroundcolor\":\"#E5ECF6\",\"gridcolor\":\"white\",\"linecolor\":\"white\",\"showbackground\":true,\"ticks\":\"\",\"zerolinecolor\":\"white\",\"gridwidth\":2}},\"shapedefaults\":{\"line\":{\"color\":\"#2a3f5f\"}},\"annotationdefaults\":{\"arrowcolor\":\"#2a3f5f\",\"arrowhead\":0,\"arrowwidth\":1},\"geo\":{\"bgcolor\":\"white\",\"landcolor\":\"#E5ECF6\",\"subunitcolor\":\"white\",\"showland\":true,\"showlakes\":true,\"lakecolor\":\"white\"},\"title\":{\"x\":0.05},\"mapbox\":{\"style\":\"light\"}}},\"xaxis\":{\"anchor\":\"y\",\"domain\":[0.0,1.0],\"title\":{\"text\":\"Instructor\"}},\"yaxis\":{\"anchor\":\"x\",\"domain\":[0.0,1.0],\"title\":{\"text\":\"Valor\"}},\"legend\":{\"tracegroupgap\":0},\"title\":{\"text\":\"Diagrama de Caja y Bigotes\"},\"boxmode\":\"group\"},                        {\"responsive\": true}                    ).then(function(){\n",
              "                            \n",
              "var gd = document.getElementById('8908d2bc-161d-4c8c-bd67-530f16e32f94');\n",
              "var x = new MutationObserver(function (mutations, observer) {{\n",
              "        var display = window.getComputedStyle(gd).display;\n",
              "        if (!display || display === 'none') {{\n",
              "            console.log([gd, 'removed!']);\n",
              "            Plotly.purge(gd);\n",
              "            observer.disconnect();\n",
              "        }}\n",
              "}});\n",
              "\n",
              "// Listen for the removal of the full notebook cells\n",
              "var notebookContainer = gd.closest('#notebook-container');\n",
              "if (notebookContainer) {{\n",
              "    x.observe(notebookContainer, {childList: true});\n",
              "}}\n",
              "\n",
              "// Listen for the clearing of the current output cell\n",
              "var outputEl = gd.closest('.output');\n",
              "if (outputEl) {{\n",
              "    x.observe(outputEl, {childList: true});\n",
              "}}\n",
              "\n",
              "                        })                };                            </script>        </div>\n",
              "</body>\n",
              "</html>"
            ]
          },
          "metadata": {}
        }
      ]
    },
    {
      "cell_type": "markdown",
      "source": [
        "LA figura de Arriba es un diagrama de cajas y bigotes de los datos crudos."
      ],
      "metadata": {
        "id": "Iddc5bRMU4q3"
      }
    },
    {
      "cell_type": "code",
      "source": [
        "# El siguiente codigo genera una tabla comparativa de los valores de mediana y media de la presencia social de los 12 instructores presente en datos_largos\n",
        "tabla_comparativa = datos_largos.groupby('Instructor')['Valor'].agg(['median', 'mean'])\n",
        "print(tabla_comparativa)"
      ],
      "metadata": {
        "colab": {
          "base_uri": "https://localhost:8080/"
        },
        "id": "FDyGcmOwlPC8",
        "outputId": "1cbe582e-a1cf-48d9-d26b-95d378665a27"
      },
      "execution_count": 11,
      "outputs": [
        {
          "output_type": "stream",
          "name": "stdout",
          "text": [
            "            median      mean\n",
            "Instructor                  \n",
            "Q1             6.0  5.680556\n",
            "Q10            6.0  5.814815\n",
            "Q11            5.0  5.214286\n",
            "Q12            6.0  5.871795\n",
            "Q2             6.0  5.784314\n",
            "Q3             6.0  6.266667\n",
            "Q4             7.0  6.126437\n",
            "Q5             7.0  6.512821\n",
            "Q6             5.0  5.393939\n",
            "Q7             6.0  5.488889\n",
            "Q8             6.0  5.615385\n",
            "Q9             6.0  5.904762\n"
          ]
        }
      ]
    },
    {
      "cell_type": "code",
      "source": [
        "#Este codigo organiza de los datos de media y mediana de  la presencia social de los instructores presente en la estructura datos_largos de mayor a menor valor\n",
        "tabla_comparativa = tabla_comparativa.sort_values(by='median', ascending=False)\n",
        "print(tabla_comparativa)"
      ],
      "metadata": {
        "colab": {
          "base_uri": "https://localhost:8080/"
        },
        "id": "de7I45yVl8vC",
        "outputId": "b8632d07-7aa4-4ed0-e8b3-f8fd0547b0df"
      },
      "execution_count": 74,
      "outputs": [
        {
          "output_type": "stream",
          "name": "stdout",
          "text": [
            "            median      mean\n",
            "Instructor                  \n",
            "Q5             7.0  6.512821\n",
            "Q4             7.0  6.126437\n",
            "Q3             6.0  6.266667\n",
            "Q9             6.0  5.904762\n",
            "Q12            6.0  5.871795\n",
            "Q10            6.0  5.814815\n",
            "Q2             6.0  5.784314\n",
            "Q1             6.0  5.680556\n",
            "Q8             6.0  5.615385\n",
            "Q7             6.0  5.488889\n",
            "Q6             5.0  5.393939\n",
            "Q11            5.0  5.214286\n"
          ]
        }
      ]
    },
    {
      "cell_type": "markdown",
      "source": [
        "Esta seccion del archivo hace un analisis de atipicos y vuelve a dibujar el diagrama de cajas y bigotes"
      ],
      "metadata": {
        "id": "gDES0nhev1Ql"
      }
    },
    {
      "cell_type": "markdown",
      "source": [
        "Metodo1_ Desviacion Estandar"
      ],
      "metadata": {
        "id": "3tIQo6Nexuui"
      }
    },
    {
      "cell_type": "code",
      "source": [
        "# Este código en Python calcula los limites superior e inferior de la columna valor de datos_largos usando el metodo\n",
        "# de la desviacion estandar e imprime los valores\n",
        "media = datos_largos['Valor'].mean()\n",
        "desviacion_estandar = datos_largos['Valor'].std()\n",
        "limite_superior = media + 3 * desviacion_estandar\n",
        "limite_inferior = media - 3 * desviacion_estandar\n",
        "print(\"Limite Superior:\", limite_superior)\n",
        "print(\"Limite Inferior:\", limite_inferior)"
      ],
      "metadata": {
        "colab": {
          "base_uri": "https://localhost:8080/"
        },
        "id": "37Agkxvcn-C9",
        "outputId": "aa438b9a-f8ea-461f-efe9-4e6d4872a180"
      },
      "execution_count": 13,
      "outputs": [
        {
          "output_type": "stream",
          "name": "stdout",
          "text": [
            "Limite Superior: 9.668066385103426\n",
            "Limite Inferior: 1.971664254627215\n"
          ]
        }
      ]
    },
    {
      "cell_type": "code",
      "source": [
        "#Generamos un dataframe datos_largos_f con el resultado de aplicar el metodo de desviacion estandar a datos largos\n",
        "datos_largos_da = datos_largos[(datos_largos['Valor'] >= limite_inferior) & (datos_largos['Valor'] <= limite_superior)]"
      ],
      "metadata": {
        "id": "gaTzOhd-v-GU"
      },
      "execution_count": 14,
      "outputs": []
    },
    {
      "cell_type": "code",
      "source": [
        "# corroboramos los nulos de datos_largos\n",
        "datos_largos.isnull().sum()"
      ],
      "metadata": {
        "colab": {
          "base_uri": "https://localhost:8080/",
          "height": 178
        },
        "id": "0CFx2wvUwwd5",
        "outputId": "be33d33e-f6c6-4161-8ce8-1b2af251b220"
      },
      "execution_count": 15,
      "outputs": [
        {
          "output_type": "execute_result",
          "data": {
            "text/plain": [
              "Instructor    0\n",
              "Pregunta      0\n",
              "Valor         0\n",
              "dtype: int64"
            ],
            "text/html": [
              "<div>\n",
              "<style scoped>\n",
              "    .dataframe tbody tr th:only-of-type {\n",
              "        vertical-align: middle;\n",
              "    }\n",
              "\n",
              "    .dataframe tbody tr th {\n",
              "        vertical-align: top;\n",
              "    }\n",
              "\n",
              "    .dataframe thead th {\n",
              "        text-align: right;\n",
              "    }\n",
              "</style>\n",
              "<table border=\"1\" class=\"dataframe\">\n",
              "  <thead>\n",
              "    <tr style=\"text-align: right;\">\n",
              "      <th></th>\n",
              "      <th>0</th>\n",
              "    </tr>\n",
              "  </thead>\n",
              "  <tbody>\n",
              "    <tr>\n",
              "      <th>Instructor</th>\n",
              "      <td>0</td>\n",
              "    </tr>\n",
              "    <tr>\n",
              "      <th>Pregunta</th>\n",
              "      <td>0</td>\n",
              "    </tr>\n",
              "    <tr>\n",
              "      <th>Valor</th>\n",
              "      <td>0</td>\n",
              "    </tr>\n",
              "  </tbody>\n",
              "</table>\n",
              "</div><br><label><b>dtype:</b> int64</label>"
            ]
          },
          "metadata": {},
          "execution_count": 15
        }
      ]
    },
    {
      "cell_type": "code",
      "source": [
        "#Corroboramos los nulos de datos_largos_f\n",
        "datos_largos_da.isnull().sum()"
      ],
      "metadata": {
        "colab": {
          "base_uri": "https://localhost:8080/",
          "height": 178
        },
        "id": "P8z1uX0zw50Y",
        "outputId": "c97e74b1-b697-4642-84ce-ccb9893f192f"
      },
      "execution_count": 16,
      "outputs": [
        {
          "output_type": "execute_result",
          "data": {
            "text/plain": [
              "Instructor    0\n",
              "Pregunta      0\n",
              "Valor         0\n",
              "dtype: int64"
            ],
            "text/html": [
              "<div>\n",
              "<style scoped>\n",
              "    .dataframe tbody tr th:only-of-type {\n",
              "        vertical-align: middle;\n",
              "    }\n",
              "\n",
              "    .dataframe tbody tr th {\n",
              "        vertical-align: top;\n",
              "    }\n",
              "\n",
              "    .dataframe thead th {\n",
              "        text-align: right;\n",
              "    }\n",
              "</style>\n",
              "<table border=\"1\" class=\"dataframe\">\n",
              "  <thead>\n",
              "    <tr style=\"text-align: right;\">\n",
              "      <th></th>\n",
              "      <th>0</th>\n",
              "    </tr>\n",
              "  </thead>\n",
              "  <tbody>\n",
              "    <tr>\n",
              "      <th>Instructor</th>\n",
              "      <td>0</td>\n",
              "    </tr>\n",
              "    <tr>\n",
              "      <th>Pregunta</th>\n",
              "      <td>0</td>\n",
              "    </tr>\n",
              "    <tr>\n",
              "      <th>Valor</th>\n",
              "      <td>0</td>\n",
              "    </tr>\n",
              "  </tbody>\n",
              "</table>\n",
              "</div><br><label><b>dtype:</b> int64</label>"
            ]
          },
          "metadata": {},
          "execution_count": 16
        }
      ]
    },
    {
      "cell_type": "markdown",
      "source": [
        "Metodo2_ IQR"
      ],
      "metadata": {
        "id": "XSZhzNFgxzgt"
      }
    },
    {
      "cell_type": "code",
      "source": [
        "#Se calculan los limites superior e inferior de datos_largos usando el metodo de cuartiles y se imprime el valor de los limites\n",
        "Q1 = datos_largos['Valor'].quantile(0.25)\n",
        "Q3 = datos_largos['Valor'].quantile(0.75)\n",
        "IQR = Q3 - Q1\n",
        "limite_superior_iqr = Q3 + 1.5 * IQR\n",
        "limite_inferior_iqr = Q1 - 1.5 * IQR\n",
        "print(\"Limite Superior:\", limite_superior_iqr)\n",
        "print(\"Limite Inferior:\", limite_inferior_iqr)"
      ],
      "metadata": {
        "colab": {
          "base_uri": "https://localhost:8080/"
        },
        "id": "-kwVrDRux2Wm",
        "outputId": "7be562f5-4f74-4799-cf8e-06c1b8c693e8"
      },
      "execution_count": 17,
      "outputs": [
        {
          "output_type": "stream",
          "name": "stdout",
          "text": [
            "Limite Superior: 10.0\n",
            "Limite Inferior: 2.0\n"
          ]
        }
      ]
    },
    {
      "cell_type": "code",
      "source": [
        "#se genera un dataframa datos_largos_iqr donde se guarda el resultado aplicar el metodo de cuartiles a datos_largos\n",
        "datos_largos_iqr = datos_largos[(datos_largos['Valor'] >= limite_inferior_iqr) & (datos_largos['Valor'] <= limite_superior_iqr)]"
      ],
      "metadata": {
        "id": "HR8oHNYYyaKV"
      },
      "execution_count": 18,
      "outputs": []
    },
    {
      "cell_type": "code",
      "source": [
        "# se listan los valores nulos presentes en datos_largos_iqr\n",
        "datos_largos_iqr.isnull().sum()"
      ],
      "metadata": {
        "colab": {
          "base_uri": "https://localhost:8080/",
          "height": 178
        },
        "id": "Nv7iOxPZywJD",
        "outputId": "307d26b6-5164-46b8-b6eb-af44f2db658b"
      },
      "execution_count": 19,
      "outputs": [
        {
          "output_type": "execute_result",
          "data": {
            "text/plain": [
              "Instructor    0\n",
              "Pregunta      0\n",
              "Valor         0\n",
              "dtype: int64"
            ],
            "text/html": [
              "<div>\n",
              "<style scoped>\n",
              "    .dataframe tbody tr th:only-of-type {\n",
              "        vertical-align: middle;\n",
              "    }\n",
              "\n",
              "    .dataframe tbody tr th {\n",
              "        vertical-align: top;\n",
              "    }\n",
              "\n",
              "    .dataframe thead th {\n",
              "        text-align: right;\n",
              "    }\n",
              "</style>\n",
              "<table border=\"1\" class=\"dataframe\">\n",
              "  <thead>\n",
              "    <tr style=\"text-align: right;\">\n",
              "      <th></th>\n",
              "      <th>0</th>\n",
              "    </tr>\n",
              "  </thead>\n",
              "  <tbody>\n",
              "    <tr>\n",
              "      <th>Instructor</th>\n",
              "      <td>0</td>\n",
              "    </tr>\n",
              "    <tr>\n",
              "      <th>Pregunta</th>\n",
              "      <td>0</td>\n",
              "    </tr>\n",
              "    <tr>\n",
              "      <th>Valor</th>\n",
              "      <td>0</td>\n",
              "    </tr>\n",
              "  </tbody>\n",
              "</table>\n",
              "</div><br><label><b>dtype:</b> int64</label>"
            ]
          },
          "metadata": {},
          "execution_count": 19
        }
      ]
    },
    {
      "cell_type": "markdown",
      "source": [
        "Conclusion: Despues de aplicar limpieza de atipicos con DE o IQR el resultado es el mismo al dataframe original."
      ],
      "metadata": {
        "id": "2aceEXlNy60O"
      }
    },
    {
      "cell_type": "markdown",
      "source": [
        "Ahora se dibujan en una misma grafica las cajas y bigotes de los tres dataframes:"
      ],
      "metadata": {
        "id": "zQbXmX501kZO"
      }
    },
    {
      "cell_type": "code",
      "source": [
        "# Este codigo genera en una misma figura los diagramas de cajas y bigotes de datos_largos, datos_largos_da y datos_largos_iqr\n",
        "fig = px.box(datos_largos, x='Instructor', y='Valor', title='Boxplot original')\n",
        "fig.add_trace(px.box(datos_largos_da, x='Instructor', y='Valor', title='Boxplot DE').data[0])\n",
        "fig.add_trace(px.box(datos_largos_iqr, x='Instructor', y='Valor', title='Boxplot IQR').data[0])\n",
        "fig.show()\n"
      ],
      "metadata": {
        "colab": {
          "base_uri": "https://localhost:8080/",
          "height": 542
        },
        "id": "aJM7sktKzOfe",
        "outputId": "3e26c0f9-7ce4-48c7-ed25-4c6fa747382e"
      },
      "execution_count": 20,
      "outputs": [
        {
          "output_type": "display_data",
          "data": {
            "text/html": [
              "<html>\n",
              "<head><meta charset=\"utf-8\" /></head>\n",
              "<body>\n",
              "    <div>            <script src=\"https://cdnjs.cloudflare.com/ajax/libs/mathjax/2.7.5/MathJax.js?config=TeX-AMS-MML_SVG\"></script><script type=\"text/javascript\">if (window.MathJax && window.MathJax.Hub && window.MathJax.Hub.Config) {window.MathJax.Hub.Config({SVG: {font: \"STIX-Web\"}});}</script>                <script type=\"text/javascript\">window.PlotlyConfig = {MathJaxConfig: 'local'};</script>\n",
              "        <script charset=\"utf-8\" src=\"https://cdn.plot.ly/plotly-2.35.2.min.js\"></script>                <div id=\"393443e3-9931-44dd-97cc-12d8583b8a2d\" class=\"plotly-graph-div\" style=\"height:525px; width:100%;\"></div>            <script type=\"text/javascript\">                                    window.PLOTLYENV=window.PLOTLYENV || {};                                    if (document.getElementById(\"393443e3-9931-44dd-97cc-12d8583b8a2d\")) {                    Plotly.newPlot(                        \"393443e3-9931-44dd-97cc-12d8583b8a2d\",                        [{\"alignmentgroup\":\"True\",\"hovertemplate\":\"Instructor=%{x}\\u003cbr\\u003eValor=%{y}\\u003cextra\\u003e\\u003c\\u002fextra\\u003e\",\"legendgroup\":\"\",\"marker\":{\"color\":\"#636efa\"},\"name\":\"\",\"notched\":false,\"offsetgroup\":\"\",\"orientation\":\"v\",\"showlegend\":false,\"x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x0\":\" \",\"xaxis\":\"x\",\"y\":[7,5,1,5,6,6,5,4,6,4,7,7,5,5,5,7,5,6,6,6,7,6,6,4,5,7,4,4,5,5,5,7,5,6,7,5,4,6,2,7,6,6,6,7,7,6,7,6,5,7,5,7,5,6,7,5,7,7,6,6,5,6,6,7,7,1,5,5,7,6,6,7,7,7,5,4,6,7,7,7,7,7,6,6,5,7,7,6,7,7,7,7,5,4,5,5,5,4,4,5,7,5,6,2,7,2,4,7,6,6,7,4,5,3,5,7,5,4,7,7,6,4,4,5,3,5,3,7,6,6,5,4,7,6,7,6,7,7,5,6,4,4,7,6,6,7,6,7,4,7,6,3,6,5,5,7,6,5,6,6,7,6,5,6,5,4,6,6,6,5,5,6,7,5,5,6,6,7,2,5,5,5,2,5,6,7,4,6,5,6,7,6,7,5,5,6,5,6,7,5,1,6,6,6,5,4,6,7,7,7,6,6,5,7,5,7,7,7,7,6,6,7,6,7,7,7,7,5,7,7,6,7,7,7,5,6,2,7,6,7,6,7,7,6,7,6,5,7,7,7,5,7,7,5,7,7,6,6,6,6,7,7,7,1,5,5,7,6,6,7,7,7,7,7,5,7,7,7,7,6,6,6,5,7,7,7,7,7,7,7,5,7,6,6,5,5,6,5,5,5,6,6,7,2,7,7,7,7,6,5,5,3,5,7,5,4,7,7,7,4,6,6,5,6,6,7,6,7,5,4,7,7,7,5,7,7,6,6,5,4,7,6,7,7,7,7,1,7,6,1,7,5,7,7,5,5,7,6,7,6,5,7,6,6,7,6,6,5,5,6,7,5,5,6,7,7,2,5,5,6,1,6,5,7,5,5,5,5,7,4,7,5,6,7,7,6,7,5,1,5,6,5,5,4,5,7,7,6,6,6,5,7,5,7,6,7,6,6,6,5,6,7,4,6,7,5,7,7,5,7,6,6,5,6,2,7,6,5,7,7,6,6,7,6,4,6,7,7,5,7,7,5,7,7,7,6,5,6,6,7,7,1,6,4,6,6,7,7,6,7,6,7,6,7,7,6,7,7,6,6,6,7,7,7,7,7,7,7,5,7,6,6,4,6,6,5,7,5,7,5,7,2,7,7,6,7,6,5,5,4,5,7,5,4,7,7,7,6,6,6,6,6,5,7,6,7,5,4,7,7,7,5,7,7,4,6,4,5,7,6,7,7,7,7,1,6,6,4,7,5,5,7,6,5,7,5,7,6,5,7,6,5,7,6,5,5,6,6,7,5,5,6,4,7,2,5,5,7,4,6,5,6,5,7,5,4,6,7,7,5,6,7,7,6],\"y0\":\" \",\"yaxis\":\"y\",\"type\":\"box\"},{\"alignmentgroup\":\"True\",\"hovertemplate\":\"Instructor=%{x}\\u003cbr\\u003eValor=%{y}\\u003cextra\\u003e\\u003c\\u002fextra\\u003e\",\"legendgroup\":\"\",\"marker\":{\"color\":\"#636efa\"},\"name\":\"\",\"notched\":false,\"offsetgroup\":\"\",\"orientation\":\"v\",\"showlegend\":false,\"x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x0\":\" \",\"xaxis\":\"x\",\"y\":[7,5,5,6,6,5,4,6,4,7,7,5,5,5,7,5,6,6,6,7,6,6,4,5,7,4,4,5,5,5,7,5,6,7,5,4,6,2,7,6,6,6,7,7,6,7,6,5,7,5,7,5,6,7,5,7,7,6,6,5,6,6,7,7,5,5,7,6,6,7,7,7,5,4,6,7,7,7,7,7,6,6,5,7,7,6,7,7,7,7,5,4,5,5,5,4,4,5,7,5,6,2,7,2,4,7,6,6,7,4,5,3,5,7,5,4,7,7,6,4,4,5,3,5,3,7,6,6,5,4,7,6,7,6,7,7,5,6,4,4,7,6,6,7,6,7,4,7,6,3,6,5,5,7,6,5,6,6,7,6,5,6,5,4,6,6,6,5,5,6,7,5,5,6,6,7,2,5,5,5,2,5,6,7,4,6,5,6,7,6,7,5,5,6,5,6,7,5,6,6,6,5,4,6,7,7,7,6,6,5,7,5,7,7,7,7,6,6,7,6,7,7,7,7,5,7,7,6,7,7,7,5,6,2,7,6,7,6,7,7,6,7,6,5,7,7,7,5,7,7,5,7,7,6,6,6,6,7,7,7,5,5,7,6,6,7,7,7,7,7,5,7,7,7,7,6,6,6,5,7,7,7,7,7,7,7,5,7,6,6,5,5,6,5,5,5,6,6,7,2,7,7,7,7,6,5,5,3,5,7,5,4,7,7,7,4,6,6,5,6,6,7,6,7,5,4,7,7,7,5,7,7,6,6,5,4,7,6,7,7,7,7,7,6,7,5,7,7,5,5,7,6,7,6,5,7,6,6,7,6,6,5,5,6,7,5,5,6,7,7,2,5,5,6,6,5,7,5,5,5,5,7,4,7,5,6,7,7,6,7,5,5,6,5,5,4,5,7,7,6,6,6,5,7,5,7,6,7,6,6,6,5,6,7,4,6,7,5,7,7,5,7,6,6,5,6,2,7,6,5,7,7,6,6,7,6,4,6,7,7,5,7,7,5,7,7,7,6,5,6,6,7,7,6,4,6,6,7,7,6,7,6,7,6,7,7,6,7,7,6,6,6,7,7,7,7,7,7,7,5,7,6,6,4,6,6,5,7,5,7,5,7,2,7,7,6,7,6,5,5,4,5,7,5,4,7,7,7,6,6,6,6,6,5,7,6,7,5,4,7,7,7,5,7,7,4,6,4,5,7,6,7,7,7,7,6,6,4,7,5,5,7,6,5,7,5,7,6,5,7,6,5,7,6,5,5,6,6,7,5,5,6,4,7,2,5,5,7,4,6,5,6,5,7,5,4,6,7,7,5,6,7,7,6],\"y0\":\" \",\"yaxis\":\"y\",\"type\":\"box\"},{\"alignmentgroup\":\"True\",\"hovertemplate\":\"Instructor=%{x}\\u003cbr\\u003eValor=%{y}\\u003cextra\\u003e\\u003c\\u002fextra\\u003e\",\"legendgroup\":\"\",\"marker\":{\"color\":\"#636efa\"},\"name\":\"\",\"notched\":false,\"offsetgroup\":\"\",\"orientation\":\"v\",\"showlegend\":false,\"x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x0\":\" \",\"xaxis\":\"x\",\"y\":[7,5,5,6,6,5,4,6,4,7,7,5,5,5,7,5,6,6,6,7,6,6,4,5,7,4,4,5,5,5,7,5,6,7,5,4,6,2,7,6,6,6,7,7,6,7,6,5,7,5,7,5,6,7,5,7,7,6,6,5,6,6,7,7,5,5,7,6,6,7,7,7,5,4,6,7,7,7,7,7,6,6,5,7,7,6,7,7,7,7,5,4,5,5,5,4,4,5,7,5,6,2,7,2,4,7,6,6,7,4,5,3,5,7,5,4,7,7,6,4,4,5,3,5,3,7,6,6,5,4,7,6,7,6,7,7,5,6,4,4,7,6,6,7,6,7,4,7,6,3,6,5,5,7,6,5,6,6,7,6,5,6,5,4,6,6,6,5,5,6,7,5,5,6,6,7,2,5,5,5,2,5,6,7,4,6,5,6,7,6,7,5,5,6,5,6,7,5,6,6,6,5,4,6,7,7,7,6,6,5,7,5,7,7,7,7,6,6,7,6,7,7,7,7,5,7,7,6,7,7,7,5,6,2,7,6,7,6,7,7,6,7,6,5,7,7,7,5,7,7,5,7,7,6,6,6,6,7,7,7,5,5,7,6,6,7,7,7,7,7,5,7,7,7,7,6,6,6,5,7,7,7,7,7,7,7,5,7,6,6,5,5,6,5,5,5,6,6,7,2,7,7,7,7,6,5,5,3,5,7,5,4,7,7,7,4,6,6,5,6,6,7,6,7,5,4,7,7,7,5,7,7,6,6,5,4,7,6,7,7,7,7,7,6,7,5,7,7,5,5,7,6,7,6,5,7,6,6,7,6,6,5,5,6,7,5,5,6,7,7,2,5,5,6,6,5,7,5,5,5,5,7,4,7,5,6,7,7,6,7,5,5,6,5,5,4,5,7,7,6,6,6,5,7,5,7,6,7,6,6,6,5,6,7,4,6,7,5,7,7,5,7,6,6,5,6,2,7,6,5,7,7,6,6,7,6,4,6,7,7,5,7,7,5,7,7,7,6,5,6,6,7,7,6,4,6,6,7,7,6,7,6,7,6,7,7,6,7,7,6,6,6,7,7,7,7,7,7,7,5,7,6,6,4,6,6,5,7,5,7,5,7,2,7,7,6,7,6,5,5,4,5,7,5,4,7,7,7,6,6,6,6,6,5,7,6,7,5,4,7,7,7,5,7,7,4,6,4,5,7,6,7,7,7,7,6,6,4,7,5,5,7,6,5,7,5,7,6,5,7,6,5,7,6,5,5,6,6,7,5,5,6,4,7,2,5,5,7,4,6,5,6,5,7,5,4,6,7,7,5,6,7,7,6],\"y0\":\" \",\"yaxis\":\"y\",\"type\":\"box\"}],                        {\"template\":{\"data\":{\"histogram2dcontour\":[{\"type\":\"histogram2dcontour\",\"colorbar\":{\"outlinewidth\":0,\"ticks\":\"\"},\"colorscale\":[[0.0,\"#0d0887\"],[0.1111111111111111,\"#46039f\"],[0.2222222222222222,\"#7201a8\"],[0.3333333333333333,\"#9c179e\"],[0.4444444444444444,\"#bd3786\"],[0.5555555555555556,\"#d8576b\"],[0.6666666666666666,\"#ed7953\"],[0.7777777777777778,\"#fb9f3a\"],[0.8888888888888888,\"#fdca26\"],[1.0,\"#f0f921\"]]}],\"choropleth\":[{\"type\":\"choropleth\",\"colorbar\":{\"outlinewidth\":0,\"ticks\":\"\"}}],\"histogram2d\":[{\"type\":\"histogram2d\",\"colorbar\":{\"outlinewidth\":0,\"ticks\":\"\"},\"colorscale\":[[0.0,\"#0d0887\"],[0.1111111111111111,\"#46039f\"],[0.2222222222222222,\"#7201a8\"],[0.3333333333333333,\"#9c179e\"],[0.4444444444444444,\"#bd3786\"],[0.5555555555555556,\"#d8576b\"],[0.6666666666666666,\"#ed7953\"],[0.7777777777777778,\"#fb9f3a\"],[0.8888888888888888,\"#fdca26\"],[1.0,\"#f0f921\"]]}],\"heatmap\":[{\"type\":\"heatmap\",\"colorbar\":{\"outlinewidth\":0,\"ticks\":\"\"},\"colorscale\":[[0.0,\"#0d0887\"],[0.1111111111111111,\"#46039f\"],[0.2222222222222222,\"#7201a8\"],[0.3333333333333333,\"#9c179e\"],[0.4444444444444444,\"#bd3786\"],[0.5555555555555556,\"#d8576b\"],[0.6666666666666666,\"#ed7953\"],[0.7777777777777778,\"#fb9f3a\"],[0.8888888888888888,\"#fdca26\"],[1.0,\"#f0f921\"]]}],\"heatmapgl\":[{\"type\":\"heatmapgl\",\"colorbar\":{\"outlinewidth\":0,\"ticks\":\"\"},\"colorscale\":[[0.0,\"#0d0887\"],[0.1111111111111111,\"#46039f\"],[0.2222222222222222,\"#7201a8\"],[0.3333333333333333,\"#9c179e\"],[0.4444444444444444,\"#bd3786\"],[0.5555555555555556,\"#d8576b\"],[0.6666666666666666,\"#ed7953\"],[0.7777777777777778,\"#fb9f3a\"],[0.8888888888888888,\"#fdca26\"],[1.0,\"#f0f921\"]]}],\"contourcarpet\":[{\"type\":\"contourcarpet\",\"colorbar\":{\"outlinewidth\":0,\"ticks\":\"\"}}],\"contour\":[{\"type\":\"contour\",\"colorbar\":{\"outlinewidth\":0,\"ticks\":\"\"},\"colorscale\":[[0.0,\"#0d0887\"],[0.1111111111111111,\"#46039f\"],[0.2222222222222222,\"#7201a8\"],[0.3333333333333333,\"#9c179e\"],[0.4444444444444444,\"#bd3786\"],[0.5555555555555556,\"#d8576b\"],[0.6666666666666666,\"#ed7953\"],[0.7777777777777778,\"#fb9f3a\"],[0.8888888888888888,\"#fdca26\"],[1.0,\"#f0f921\"]]}],\"surface\":[{\"type\":\"surface\",\"colorbar\":{\"outlinewidth\":0,\"ticks\":\"\"},\"colorscale\":[[0.0,\"#0d0887\"],[0.1111111111111111,\"#46039f\"],[0.2222222222222222,\"#7201a8\"],[0.3333333333333333,\"#9c179e\"],[0.4444444444444444,\"#bd3786\"],[0.5555555555555556,\"#d8576b\"],[0.6666666666666666,\"#ed7953\"],[0.7777777777777778,\"#fb9f3a\"],[0.8888888888888888,\"#fdca26\"],[1.0,\"#f0f921\"]]}],\"mesh3d\":[{\"type\":\"mesh3d\",\"colorbar\":{\"outlinewidth\":0,\"ticks\":\"\"}}],\"scatter\":[{\"fillpattern\":{\"fillmode\":\"overlay\",\"size\":10,\"solidity\":0.2},\"type\":\"scatter\"}],\"parcoords\":[{\"type\":\"parcoords\",\"line\":{\"colorbar\":{\"outlinewidth\":0,\"ticks\":\"\"}}}],\"scatterpolargl\":[{\"type\":\"scatterpolargl\",\"marker\":{\"colorbar\":{\"outlinewidth\":0,\"ticks\":\"\"}}}],\"bar\":[{\"error_x\":{\"color\":\"#2a3f5f\"},\"error_y\":{\"color\":\"#2a3f5f\"},\"marker\":{\"line\":{\"color\":\"#E5ECF6\",\"width\":0.5},\"pattern\":{\"fillmode\":\"overlay\",\"size\":10,\"solidity\":0.2}},\"type\":\"bar\"}],\"scattergeo\":[{\"type\":\"scattergeo\",\"marker\":{\"colorbar\":{\"outlinewidth\":0,\"ticks\":\"\"}}}],\"scatterpolar\":[{\"type\":\"scatterpolar\",\"marker\":{\"colorbar\":{\"outlinewidth\":0,\"ticks\":\"\"}}}],\"histogram\":[{\"marker\":{\"pattern\":{\"fillmode\":\"overlay\",\"size\":10,\"solidity\":0.2}},\"type\":\"histogram\"}],\"scattergl\":[{\"type\":\"scattergl\",\"marker\":{\"colorbar\":{\"outlinewidth\":0,\"ticks\":\"\"}}}],\"scatter3d\":[{\"type\":\"scatter3d\",\"line\":{\"colorbar\":{\"outlinewidth\":0,\"ticks\":\"\"}},\"marker\":{\"colorbar\":{\"outlinewidth\":0,\"ticks\":\"\"}}}],\"scattermapbox\":[{\"type\":\"scattermapbox\",\"marker\":{\"colorbar\":{\"outlinewidth\":0,\"ticks\":\"\"}}}],\"scatterternary\":[{\"type\":\"scatterternary\",\"marker\":{\"colorbar\":{\"outlinewidth\":0,\"ticks\":\"\"}}}],\"scattercarpet\":[{\"type\":\"scattercarpet\",\"marker\":{\"colorbar\":{\"outlinewidth\":0,\"ticks\":\"\"}}}],\"carpet\":[{\"aaxis\":{\"endlinecolor\":\"#2a3f5f\",\"gridcolor\":\"white\",\"linecolor\":\"white\",\"minorgridcolor\":\"white\",\"startlinecolor\":\"#2a3f5f\"},\"baxis\":{\"endlinecolor\":\"#2a3f5f\",\"gridcolor\":\"white\",\"linecolor\":\"white\",\"minorgridcolor\":\"white\",\"startlinecolor\":\"#2a3f5f\"},\"type\":\"carpet\"}],\"table\":[{\"cells\":{\"fill\":{\"color\":\"#EBF0F8\"},\"line\":{\"color\":\"white\"}},\"header\":{\"fill\":{\"color\":\"#C8D4E3\"},\"line\":{\"color\":\"white\"}},\"type\":\"table\"}],\"barpolar\":[{\"marker\":{\"line\":{\"color\":\"#E5ECF6\",\"width\":0.5},\"pattern\":{\"fillmode\":\"overlay\",\"size\":10,\"solidity\":0.2}},\"type\":\"barpolar\"}],\"pie\":[{\"automargin\":true,\"type\":\"pie\"}]},\"layout\":{\"autotypenumbers\":\"strict\",\"colorway\":[\"#636efa\",\"#EF553B\",\"#00cc96\",\"#ab63fa\",\"#FFA15A\",\"#19d3f3\",\"#FF6692\",\"#B6E880\",\"#FF97FF\",\"#FECB52\"],\"font\":{\"color\":\"#2a3f5f\"},\"hovermode\":\"closest\",\"hoverlabel\":{\"align\":\"left\"},\"paper_bgcolor\":\"white\",\"plot_bgcolor\":\"#E5ECF6\",\"polar\":{\"bgcolor\":\"#E5ECF6\",\"angularaxis\":{\"gridcolor\":\"white\",\"linecolor\":\"white\",\"ticks\":\"\"},\"radialaxis\":{\"gridcolor\":\"white\",\"linecolor\":\"white\",\"ticks\":\"\"}},\"ternary\":{\"bgcolor\":\"#E5ECF6\",\"aaxis\":{\"gridcolor\":\"white\",\"linecolor\":\"white\",\"ticks\":\"\"},\"baxis\":{\"gridcolor\":\"white\",\"linecolor\":\"white\",\"ticks\":\"\"},\"caxis\":{\"gridcolor\":\"white\",\"linecolor\":\"white\",\"ticks\":\"\"}},\"coloraxis\":{\"colorbar\":{\"outlinewidth\":0,\"ticks\":\"\"}},\"colorscale\":{\"sequential\":[[0.0,\"#0d0887\"],[0.1111111111111111,\"#46039f\"],[0.2222222222222222,\"#7201a8\"],[0.3333333333333333,\"#9c179e\"],[0.4444444444444444,\"#bd3786\"],[0.5555555555555556,\"#d8576b\"],[0.6666666666666666,\"#ed7953\"],[0.7777777777777778,\"#fb9f3a\"],[0.8888888888888888,\"#fdca26\"],[1.0,\"#f0f921\"]],\"sequentialminus\":[[0.0,\"#0d0887\"],[0.1111111111111111,\"#46039f\"],[0.2222222222222222,\"#7201a8\"],[0.3333333333333333,\"#9c179e\"],[0.4444444444444444,\"#bd3786\"],[0.5555555555555556,\"#d8576b\"],[0.6666666666666666,\"#ed7953\"],[0.7777777777777778,\"#fb9f3a\"],[0.8888888888888888,\"#fdca26\"],[1.0,\"#f0f921\"]],\"diverging\":[[0,\"#8e0152\"],[0.1,\"#c51b7d\"],[0.2,\"#de77ae\"],[0.3,\"#f1b6da\"],[0.4,\"#fde0ef\"],[0.5,\"#f7f7f7\"],[0.6,\"#e6f5d0\"],[0.7,\"#b8e186\"],[0.8,\"#7fbc41\"],[0.9,\"#4d9221\"],[1,\"#276419\"]]},\"xaxis\":{\"gridcolor\":\"white\",\"linecolor\":\"white\",\"ticks\":\"\",\"title\":{\"standoff\":15},\"zerolinecolor\":\"white\",\"automargin\":true,\"zerolinewidth\":2},\"yaxis\":{\"gridcolor\":\"white\",\"linecolor\":\"white\",\"ticks\":\"\",\"title\":{\"standoff\":15},\"zerolinecolor\":\"white\",\"automargin\":true,\"zerolinewidth\":2},\"scene\":{\"xaxis\":{\"backgroundcolor\":\"#E5ECF6\",\"gridcolor\":\"white\",\"linecolor\":\"white\",\"showbackground\":true,\"ticks\":\"\",\"zerolinecolor\":\"white\",\"gridwidth\":2},\"yaxis\":{\"backgroundcolor\":\"#E5ECF6\",\"gridcolor\":\"white\",\"linecolor\":\"white\",\"showbackground\":true,\"ticks\":\"\",\"zerolinecolor\":\"white\",\"gridwidth\":2},\"zaxis\":{\"backgroundcolor\":\"#E5ECF6\",\"gridcolor\":\"white\",\"linecolor\":\"white\",\"showbackground\":true,\"ticks\":\"\",\"zerolinecolor\":\"white\",\"gridwidth\":2}},\"shapedefaults\":{\"line\":{\"color\":\"#2a3f5f\"}},\"annotationdefaults\":{\"arrowcolor\":\"#2a3f5f\",\"arrowhead\":0,\"arrowwidth\":1},\"geo\":{\"bgcolor\":\"white\",\"landcolor\":\"#E5ECF6\",\"subunitcolor\":\"white\",\"showland\":true,\"showlakes\":true,\"lakecolor\":\"white\"},\"title\":{\"x\":0.05},\"mapbox\":{\"style\":\"light\"}}},\"xaxis\":{\"anchor\":\"y\",\"domain\":[0.0,1.0],\"title\":{\"text\":\"Instructor\"}},\"yaxis\":{\"anchor\":\"x\",\"domain\":[0.0,1.0],\"title\":{\"text\":\"Valor\"}},\"legend\":{\"tracegroupgap\":0},\"title\":{\"text\":\"Boxplot original\"},\"boxmode\":\"group\"},                        {\"responsive\": true}                    ).then(function(){\n",
              "                            \n",
              "var gd = document.getElementById('393443e3-9931-44dd-97cc-12d8583b8a2d');\n",
              "var x = new MutationObserver(function (mutations, observer) {{\n",
              "        var display = window.getComputedStyle(gd).display;\n",
              "        if (!display || display === 'none') {{\n",
              "            console.log([gd, 'removed!']);\n",
              "            Plotly.purge(gd);\n",
              "            observer.disconnect();\n",
              "        }}\n",
              "}});\n",
              "\n",
              "// Listen for the removal of the full notebook cells\n",
              "var notebookContainer = gd.closest('#notebook-container');\n",
              "if (notebookContainer) {{\n",
              "    x.observe(notebookContainer, {childList: true});\n",
              "}}\n",
              "\n",
              "// Listen for the clearing of the current output cell\n",
              "var outputEl = gd.closest('.output');\n",
              "if (outputEl) {{\n",
              "    x.observe(outputEl, {childList: true});\n",
              "}}\n",
              "\n",
              "                        })                };                            </script>        </div>\n",
              "</body>\n",
              "</html>"
            ]
          },
          "metadata": {}
        }
      ]
    },
    {
      "cell_type": "markdown",
      "source": [
        "Conclusion: aunque para la mayoria de los instrcutores no hay cambio, para algunos el filtraje de atipicos si dio resultados diferentes: Q1,Q4,Q9 y Q11. Mi anterior conclusion estaba erronea."
      ],
      "metadata": {
        "id": "d0NDrNNO1sv3"
      }
    },
    {
      "cell_type": "markdown",
      "source": [
        "Entonces: se decide realizar un ANOVA a cada estrcutura de datos con atipicos y sin atipicos por los dos metodos DE e IQR"
      ],
      "metadata": {
        "id": "eseEGdA22FbX"
      }
    },
    {
      "cell_type": "code",
      "source": [
        "# El siguiente codigo realiza un analisis anova a los tres dataframes: datos_largos, datos_largos_da y datos_largos_iqr e imprime para cada uno de\n",
        "# ellos si existen o no existen diferencias significativas entre los instructores.\n",
        "modelo1 = ols('Valor ~ C(Instructor)', data=datos_largos).fit()\n",
        "anova_resultado1 = anova_lm(modelo1, typ=2)\n",
        "print(\"\\nResultados de ANOVA original:\")\n",
        "print(anova_resultado1)\n",
        "modelo2 = ols('Valor ~ C(Instructor)', data=datos_largos_da).fit()\n",
        "anova_resultado2 = anova_lm(modelo2, typ=2)\n",
        "print(\"\\nResultados de ANOVA DE:\")\n",
        "print(anova_resultado2)\n",
        "modelo3 = ols('Valor ~ C(Instructor)', data=datos_largos_iqr).fit()\n",
        "anova_resultado3 = anova_lm(modelo3, typ=2)\n",
        "print(\"\\nResultados de ANOVA IQR:\")\n",
        "print(anova_resultado3)\n",
        "#"
      ],
      "metadata": {
        "colab": {
          "base_uri": "https://localhost:8080/"
        },
        "id": "SQyz7iIt04IH",
        "outputId": "5b992f36-865f-4c49-8cc5-d6f47e9624da"
      },
      "execution_count": 21,
      "outputs": [
        {
          "output_type": "stream",
          "name": "stdout",
          "text": [
            "\n",
            "Resultados de ANOVA original:\n",
            "                   sum_sq     df         F    PR(>F)\n",
            "C(Instructor)   62.864785   11.0  3.643621  0.000052\n",
            "Residual       912.860805  582.0       NaN       NaN\n",
            "\n",
            "Resultados de ANOVA DE:\n",
            "                   sum_sq     df         F        PR(>F)\n",
            "C(Instructor)   70.784919   11.0  5.504833  2.170593e-08\n",
            "Residual       668.651725  572.0       NaN           NaN\n",
            "\n",
            "Resultados de ANOVA IQR:\n",
            "                   sum_sq     df         F        PR(>F)\n",
            "C(Instructor)   70.784919   11.0  5.504833  2.170593e-08\n",
            "Residual       668.651725  572.0       NaN           NaN\n"
          ]
        }
      ]
    },
    {
      "cell_type": "markdown",
      "source": [
        "De acuerdo al test de anova hay diferencias significativas en las tres estrcutura de datos, asi que realizamos un test de tukey para ver si las parejas en cada estrutura son las mismas. Otra cosa: el filtrado de ambos metodos elimino 10 datos pero no los coloco como nulos."
      ],
      "metadata": {
        "id": "qOw3-3Jw2jUW"
      }
    },
    {
      "cell_type": "code",
      "source": [
        "# El siguiente codigo realiza el test de tukey a datos_largos_iqr e imprime el resultado\n",
        "tukey_resultado = pairwise_tukeyhsd(endog=datos_largos['Valor'], groups=datos_largos['Instructor'], alpha=0.05)\n",
        "print(\"\\nResultados de Tukey HSD: datos_largos\")\n",
        "print(tukey_resultado)"
      ],
      "metadata": {
        "colab": {
          "base_uri": "https://localhost:8080/"
        },
        "id": "OO1nnKnh27ha",
        "outputId": "5f4a1657-8e91-40d3-8183-7b4c9a615afd"
      },
      "execution_count": 22,
      "outputs": [
        {
          "output_type": "stream",
          "name": "stdout",
          "text": [
            "\n",
            "Resultados de Tukey HSD: datos_largos\n",
            "Multiple Comparison of Means - Tukey HSD, FWER=0.05 \n",
            "====================================================\n",
            "group1 group2 meandiff p-adj   lower   upper  reject\n",
            "----------------------------------------------------\n",
            "    Q1    Q10   0.1343    1.0 -0.6056  0.8741  False\n",
            "    Q1    Q11  -0.4663  0.748 -1.2642  0.3317  False\n",
            "    Q1    Q12   0.1912 0.9998 -0.6258  1.0083  False\n",
            "    Q1     Q2   0.1038    1.0 -0.6484  0.8559  False\n",
            "    Q1     Q3   0.5861 0.5842 -0.3069  1.4792  False\n",
            "    Q1     Q4   0.4459  0.525 -0.2089  1.1006  False\n",
            "    Q1     Q5   0.8323 0.0415  0.0152  1.6494   True\n",
            "    Q1     Q6  -0.2866 0.9951 -1.1505  0.5773  False\n",
            "    Q1     Q7  -0.1917 0.9997 -0.9726  0.5893  False\n",
            "    Q1     Q8  -0.0652    1.0 -0.8823  0.7519  False\n",
            "    Q1     Q9   0.2242 0.9968 -0.4848  0.9332  False\n",
            "   Q10    Q11  -0.6005 0.4559  -1.446   0.245  False\n",
            "   Q10    Q12    0.057    1.0 -0.8066  0.9206  False\n",
            "   Q10     Q2  -0.0305    1.0  -0.833   0.772  False\n",
            "   Q10     Q3   0.4519 0.9143  -0.484  1.3877  False\n",
            "   Q10     Q4   0.3116 0.9559 -0.4003  1.0236  False\n",
            "   Q10     Q5    0.698 0.2534 -0.1656  1.5616  False\n",
            "   Q10     Q6  -0.4209 0.9345 -1.3289  0.4872  False\n",
            "   Q10     Q7  -0.3259 0.9803 -1.1554  0.5036  False\n",
            "   Q10     Q8  -0.1994 0.9998  -1.063  0.6642  False\n",
            "   Q10     Q9   0.0899    1.0 -0.6722  0.8521  False\n",
            "   Q11    Q12   0.6575 0.4346 -0.2564  1.5714  False\n",
            "   Q11     Q2     0.57 0.5617 -0.2863  1.4264  False\n",
            "   Q11     Q3   1.0524 0.0237    0.07  2.0348   True\n",
            "   Q11     Q4   0.9122 0.0066    0.14  1.6843   True\n",
            "   Q11     Q5   1.2985 0.0002  0.3846  2.2124   True\n",
            "   Q11     Q6   0.1797    1.0 -0.7763  1.1356  False\n",
            "   Q11     Q7   0.2746 0.9972 -0.6071  1.1563  False\n",
            "   Q11     Q8   0.4011 0.9551 -0.5128   1.315  False\n",
            "   Q11     Q9   0.6905 0.1968 -0.1282  1.5091  False\n",
            "   Q12     Q2  -0.0875    1.0 -0.9617  0.7867  False\n",
            "   Q12     Q3   0.3949 0.9792 -0.6031  1.3929  False\n",
            "   Q12     Q4   0.2546 0.9963 -0.5373  1.0466  False\n",
            "   Q12     Q5    0.641 0.5064 -0.2896  1.5717  False\n",
            "   Q12     Q6  -0.4779 0.9039 -1.4499  0.4942  False\n",
            "   Q12     Q7  -0.3829 0.9638  -1.282  0.5162  False\n",
            "   Q12     Q8  -0.2564 0.9991 -1.1871  0.6742  False\n",
            "   Q12     Q9    0.033    1.0 -0.8044  0.8703  False\n",
            "    Q2     Q3   0.4824 0.8795 -0.4632  1.4279  False\n",
            "    Q2     Q4   0.3421  0.926 -0.3826  1.0669  False\n",
            "    Q2     Q5   0.7285  0.212 -0.1457  1.6027  False\n",
            "    Q2     Q6  -0.3904 0.9642 -1.3085  0.5278  False\n",
            "    Q2     Q7  -0.2954  0.992 -1.1359  0.5451  False\n",
            "    Q2     Q8  -0.1689    1.0 -1.0431  0.7053  False\n",
            "    Q2     Q9   0.1204    1.0 -0.6537  0.8946  False\n",
            "    Q3     Q4  -0.1402    1.0 -1.0103  0.7299  False\n",
            "    Q3     Q5   0.2462 0.9997 -0.7519  1.2442  False\n",
            "    Q3     Q6  -0.8727 0.1992 -1.9094   0.164  False\n",
            "    Q3     Q7  -0.7778 0.2627 -1.7464  0.1909  False\n",
            "    Q3     Q8  -0.6513 0.5931 -1.6493  0.3467  False\n",
            "    Q3     Q9  -0.3619 0.9786 -1.2735  0.5497  False\n",
            "    Q4     Q5   0.3864 0.9084 -0.4056  1.1783  False\n",
            "    Q4     Q6  -0.7325 0.1581 -1.5727  0.1077  False\n",
            "    Q4     Q7  -0.6375 0.1947 -1.3922  0.1171  False\n",
            "    Q4     Q8  -0.5111 0.6104  -1.303  0.2809  False\n",
            "    Q4     Q9  -0.2217 0.9958 -0.9015  0.4582  False\n",
            "    Q5     Q6  -1.1189 0.0095 -2.0909 -0.1468   True\n",
            "    Q5     Q7  -1.0239  0.011  -1.923 -0.1248   True\n",
            "    Q5     Q8  -0.8974 0.0707 -1.8281  0.0332  False\n",
            "    Q5     Q9  -0.6081 0.4194 -1.4454  0.2293  False\n",
            "    Q6     Q7   0.0949    1.0 -0.8469  1.0368  False\n",
            "    Q6     Q8   0.2214 0.9999 -0.7506  1.1935  False\n",
            "    Q6     Q9   0.5108 0.7602 -0.3723  1.3939  False\n",
            "    Q7     Q8   0.1265    1.0 -0.7726  1.0256  False\n",
            "    Q7     Q9   0.4159 0.8673 -0.3863   1.218  False\n",
            "    Q8     Q9   0.2894  0.993  -0.548  1.1267  False\n",
            "----------------------------------------------------\n"
          ]
        }
      ]
    },
    {
      "cell_type": "code",
      "source": [
        "#El siguiente codigo dibuja una figura con los diagramas de cajas y bigotes de los intructores de datos_largos_iqr, de datos_largos_da y de datos_largos\n",
        "fig = px.box(datos_largos_iqr, x='Instructor', y='Valor', title='Boxplot IQR')\n",
        "fig.show()\n",
        "fig = px.box(datos_largos_da, x='Instructor', y='Valor', title='Boxplot DE')\n",
        "fig.show()\n",
        "fig = px.box(datos_largos, x='Instructor', y='Valor', title='Boxplot original')\n",
        "fig.show()"
      ],
      "metadata": {
        "colab": {
          "base_uri": "https://localhost:8080/",
          "height": 1000
        },
        "id": "3wL_CyvM72Hd",
        "outputId": "98ec6dea-3f0f-403e-c380-3170985bc98a"
      },
      "execution_count": 23,
      "outputs": [
        {
          "output_type": "display_data",
          "data": {
            "text/html": [
              "<html>\n",
              "<head><meta charset=\"utf-8\" /></head>\n",
              "<body>\n",
              "    <div>            <script src=\"https://cdnjs.cloudflare.com/ajax/libs/mathjax/2.7.5/MathJax.js?config=TeX-AMS-MML_SVG\"></script><script type=\"text/javascript\">if (window.MathJax && window.MathJax.Hub && window.MathJax.Hub.Config) {window.MathJax.Hub.Config({SVG: {font: \"STIX-Web\"}});}</script>                <script type=\"text/javascript\">window.PlotlyConfig = {MathJaxConfig: 'local'};</script>\n",
              "        <script charset=\"utf-8\" src=\"https://cdn.plot.ly/plotly-2.35.2.min.js\"></script>                <div id=\"420e9512-1a1d-4bec-a9d5-c0391bb95bc4\" class=\"plotly-graph-div\" style=\"height:525px; width:100%;\"></div>            <script type=\"text/javascript\">                                    window.PLOTLYENV=window.PLOTLYENV || {};                                    if (document.getElementById(\"420e9512-1a1d-4bec-a9d5-c0391bb95bc4\")) {                    Plotly.newPlot(                        \"420e9512-1a1d-4bec-a9d5-c0391bb95bc4\",                        [{\"alignmentgroup\":\"True\",\"hovertemplate\":\"Instructor=%{x}\\u003cbr\\u003eValor=%{y}\\u003cextra\\u003e\\u003c\\u002fextra\\u003e\",\"legendgroup\":\"\",\"marker\":{\"color\":\"#636efa\"},\"name\":\"\",\"notched\":false,\"offsetgroup\":\"\",\"orientation\":\"v\",\"showlegend\":false,\"x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x0\":\" \",\"xaxis\":\"x\",\"y\":[7,5,5,6,6,5,4,6,4,7,7,5,5,5,7,5,6,6,6,7,6,6,4,5,7,4,4,5,5,5,7,5,6,7,5,4,6,2,7,6,6,6,7,7,6,7,6,5,7,5,7,5,6,7,5,7,7,6,6,5,6,6,7,7,5,5,7,6,6,7,7,7,5,4,6,7,7,7,7,7,6,6,5,7,7,6,7,7,7,7,5,4,5,5,5,4,4,5,7,5,6,2,7,2,4,7,6,6,7,4,5,3,5,7,5,4,7,7,6,4,4,5,3,5,3,7,6,6,5,4,7,6,7,6,7,7,5,6,4,4,7,6,6,7,6,7,4,7,6,3,6,5,5,7,6,5,6,6,7,6,5,6,5,4,6,6,6,5,5,6,7,5,5,6,6,7,2,5,5,5,2,5,6,7,4,6,5,6,7,6,7,5,5,6,5,6,7,5,6,6,6,5,4,6,7,7,7,6,6,5,7,5,7,7,7,7,6,6,7,6,7,7,7,7,5,7,7,6,7,7,7,5,6,2,7,6,7,6,7,7,6,7,6,5,7,7,7,5,7,7,5,7,7,6,6,6,6,7,7,7,5,5,7,6,6,7,7,7,7,7,5,7,7,7,7,6,6,6,5,7,7,7,7,7,7,7,5,7,6,6,5,5,6,5,5,5,6,6,7,2,7,7,7,7,6,5,5,3,5,7,5,4,7,7,7,4,6,6,5,6,6,7,6,7,5,4,7,7,7,5,7,7,6,6,5,4,7,6,7,7,7,7,7,6,7,5,7,7,5,5,7,6,7,6,5,7,6,6,7,6,6,5,5,6,7,5,5,6,7,7,2,5,5,6,6,5,7,5,5,5,5,7,4,7,5,6,7,7,6,7,5,5,6,5,5,4,5,7,7,6,6,6,5,7,5,7,6,7,6,6,6,5,6,7,4,6,7,5,7,7,5,7,6,6,5,6,2,7,6,5,7,7,6,6,7,6,4,6,7,7,5,7,7,5,7,7,7,6,5,6,6,7,7,6,4,6,6,7,7,6,7,6,7,6,7,7,6,7,7,6,6,6,7,7,7,7,7,7,7,5,7,6,6,4,6,6,5,7,5,7,5,7,2,7,7,6,7,6,5,5,4,5,7,5,4,7,7,7,6,6,6,6,6,5,7,6,7,5,4,7,7,7,5,7,7,4,6,4,5,7,6,7,7,7,7,6,6,4,7,5,5,7,6,5,7,5,7,6,5,7,6,5,7,6,5,5,6,6,7,5,5,6,4,7,2,5,5,7,4,6,5,6,5,7,5,4,6,7,7,5,6,7,7,6],\"y0\":\" \",\"yaxis\":\"y\",\"type\":\"box\"}],                        {\"template\":{\"data\":{\"histogram2dcontour\":[{\"type\":\"histogram2dcontour\",\"colorbar\":{\"outlinewidth\":0,\"ticks\":\"\"},\"colorscale\":[[0.0,\"#0d0887\"],[0.1111111111111111,\"#46039f\"],[0.2222222222222222,\"#7201a8\"],[0.3333333333333333,\"#9c179e\"],[0.4444444444444444,\"#bd3786\"],[0.5555555555555556,\"#d8576b\"],[0.6666666666666666,\"#ed7953\"],[0.7777777777777778,\"#fb9f3a\"],[0.8888888888888888,\"#fdca26\"],[1.0,\"#f0f921\"]]}],\"choropleth\":[{\"type\":\"choropleth\",\"colorbar\":{\"outlinewidth\":0,\"ticks\":\"\"}}],\"histogram2d\":[{\"type\":\"histogram2d\",\"colorbar\":{\"outlinewidth\":0,\"ticks\":\"\"},\"colorscale\":[[0.0,\"#0d0887\"],[0.1111111111111111,\"#46039f\"],[0.2222222222222222,\"#7201a8\"],[0.3333333333333333,\"#9c179e\"],[0.4444444444444444,\"#bd3786\"],[0.5555555555555556,\"#d8576b\"],[0.6666666666666666,\"#ed7953\"],[0.7777777777777778,\"#fb9f3a\"],[0.8888888888888888,\"#fdca26\"],[1.0,\"#f0f921\"]]}],\"heatmap\":[{\"type\":\"heatmap\",\"colorbar\":{\"outlinewidth\":0,\"ticks\":\"\"},\"colorscale\":[[0.0,\"#0d0887\"],[0.1111111111111111,\"#46039f\"],[0.2222222222222222,\"#7201a8\"],[0.3333333333333333,\"#9c179e\"],[0.4444444444444444,\"#bd3786\"],[0.5555555555555556,\"#d8576b\"],[0.6666666666666666,\"#ed7953\"],[0.7777777777777778,\"#fb9f3a\"],[0.8888888888888888,\"#fdca26\"],[1.0,\"#f0f921\"]]}],\"heatmapgl\":[{\"type\":\"heatmapgl\",\"colorbar\":{\"outlinewidth\":0,\"ticks\":\"\"},\"colorscale\":[[0.0,\"#0d0887\"],[0.1111111111111111,\"#46039f\"],[0.2222222222222222,\"#7201a8\"],[0.3333333333333333,\"#9c179e\"],[0.4444444444444444,\"#bd3786\"],[0.5555555555555556,\"#d8576b\"],[0.6666666666666666,\"#ed7953\"],[0.7777777777777778,\"#fb9f3a\"],[0.8888888888888888,\"#fdca26\"],[1.0,\"#f0f921\"]]}],\"contourcarpet\":[{\"type\":\"contourcarpet\",\"colorbar\":{\"outlinewidth\":0,\"ticks\":\"\"}}],\"contour\":[{\"type\":\"contour\",\"colorbar\":{\"outlinewidth\":0,\"ticks\":\"\"},\"colorscale\":[[0.0,\"#0d0887\"],[0.1111111111111111,\"#46039f\"],[0.2222222222222222,\"#7201a8\"],[0.3333333333333333,\"#9c179e\"],[0.4444444444444444,\"#bd3786\"],[0.5555555555555556,\"#d8576b\"],[0.6666666666666666,\"#ed7953\"],[0.7777777777777778,\"#fb9f3a\"],[0.8888888888888888,\"#fdca26\"],[1.0,\"#f0f921\"]]}],\"surface\":[{\"type\":\"surface\",\"colorbar\":{\"outlinewidth\":0,\"ticks\":\"\"},\"colorscale\":[[0.0,\"#0d0887\"],[0.1111111111111111,\"#46039f\"],[0.2222222222222222,\"#7201a8\"],[0.3333333333333333,\"#9c179e\"],[0.4444444444444444,\"#bd3786\"],[0.5555555555555556,\"#d8576b\"],[0.6666666666666666,\"#ed7953\"],[0.7777777777777778,\"#fb9f3a\"],[0.8888888888888888,\"#fdca26\"],[1.0,\"#f0f921\"]]}],\"mesh3d\":[{\"type\":\"mesh3d\",\"colorbar\":{\"outlinewidth\":0,\"ticks\":\"\"}}],\"scatter\":[{\"fillpattern\":{\"fillmode\":\"overlay\",\"size\":10,\"solidity\":0.2},\"type\":\"scatter\"}],\"parcoords\":[{\"type\":\"parcoords\",\"line\":{\"colorbar\":{\"outlinewidth\":0,\"ticks\":\"\"}}}],\"scatterpolargl\":[{\"type\":\"scatterpolargl\",\"marker\":{\"colorbar\":{\"outlinewidth\":0,\"ticks\":\"\"}}}],\"bar\":[{\"error_x\":{\"color\":\"#2a3f5f\"},\"error_y\":{\"color\":\"#2a3f5f\"},\"marker\":{\"line\":{\"color\":\"#E5ECF6\",\"width\":0.5},\"pattern\":{\"fillmode\":\"overlay\",\"size\":10,\"solidity\":0.2}},\"type\":\"bar\"}],\"scattergeo\":[{\"type\":\"scattergeo\",\"marker\":{\"colorbar\":{\"outlinewidth\":0,\"ticks\":\"\"}}}],\"scatterpolar\":[{\"type\":\"scatterpolar\",\"marker\":{\"colorbar\":{\"outlinewidth\":0,\"ticks\":\"\"}}}],\"histogram\":[{\"marker\":{\"pattern\":{\"fillmode\":\"overlay\",\"size\":10,\"solidity\":0.2}},\"type\":\"histogram\"}],\"scattergl\":[{\"type\":\"scattergl\",\"marker\":{\"colorbar\":{\"outlinewidth\":0,\"ticks\":\"\"}}}],\"scatter3d\":[{\"type\":\"scatter3d\",\"line\":{\"colorbar\":{\"outlinewidth\":0,\"ticks\":\"\"}},\"marker\":{\"colorbar\":{\"outlinewidth\":0,\"ticks\":\"\"}}}],\"scattermapbox\":[{\"type\":\"scattermapbox\",\"marker\":{\"colorbar\":{\"outlinewidth\":0,\"ticks\":\"\"}}}],\"scatterternary\":[{\"type\":\"scatterternary\",\"marker\":{\"colorbar\":{\"outlinewidth\":0,\"ticks\":\"\"}}}],\"scattercarpet\":[{\"type\":\"scattercarpet\",\"marker\":{\"colorbar\":{\"outlinewidth\":0,\"ticks\":\"\"}}}],\"carpet\":[{\"aaxis\":{\"endlinecolor\":\"#2a3f5f\",\"gridcolor\":\"white\",\"linecolor\":\"white\",\"minorgridcolor\":\"white\",\"startlinecolor\":\"#2a3f5f\"},\"baxis\":{\"endlinecolor\":\"#2a3f5f\",\"gridcolor\":\"white\",\"linecolor\":\"white\",\"minorgridcolor\":\"white\",\"startlinecolor\":\"#2a3f5f\"},\"type\":\"carpet\"}],\"table\":[{\"cells\":{\"fill\":{\"color\":\"#EBF0F8\"},\"line\":{\"color\":\"white\"}},\"header\":{\"fill\":{\"color\":\"#C8D4E3\"},\"line\":{\"color\":\"white\"}},\"type\":\"table\"}],\"barpolar\":[{\"marker\":{\"line\":{\"color\":\"#E5ECF6\",\"width\":0.5},\"pattern\":{\"fillmode\":\"overlay\",\"size\":10,\"solidity\":0.2}},\"type\":\"barpolar\"}],\"pie\":[{\"automargin\":true,\"type\":\"pie\"}]},\"layout\":{\"autotypenumbers\":\"strict\",\"colorway\":[\"#636efa\",\"#EF553B\",\"#00cc96\",\"#ab63fa\",\"#FFA15A\",\"#19d3f3\",\"#FF6692\",\"#B6E880\",\"#FF97FF\",\"#FECB52\"],\"font\":{\"color\":\"#2a3f5f\"},\"hovermode\":\"closest\",\"hoverlabel\":{\"align\":\"left\"},\"paper_bgcolor\":\"white\",\"plot_bgcolor\":\"#E5ECF6\",\"polar\":{\"bgcolor\":\"#E5ECF6\",\"angularaxis\":{\"gridcolor\":\"white\",\"linecolor\":\"white\",\"ticks\":\"\"},\"radialaxis\":{\"gridcolor\":\"white\",\"linecolor\":\"white\",\"ticks\":\"\"}},\"ternary\":{\"bgcolor\":\"#E5ECF6\",\"aaxis\":{\"gridcolor\":\"white\",\"linecolor\":\"white\",\"ticks\":\"\"},\"baxis\":{\"gridcolor\":\"white\",\"linecolor\":\"white\",\"ticks\":\"\"},\"caxis\":{\"gridcolor\":\"white\",\"linecolor\":\"white\",\"ticks\":\"\"}},\"coloraxis\":{\"colorbar\":{\"outlinewidth\":0,\"ticks\":\"\"}},\"colorscale\":{\"sequential\":[[0.0,\"#0d0887\"],[0.1111111111111111,\"#46039f\"],[0.2222222222222222,\"#7201a8\"],[0.3333333333333333,\"#9c179e\"],[0.4444444444444444,\"#bd3786\"],[0.5555555555555556,\"#d8576b\"],[0.6666666666666666,\"#ed7953\"],[0.7777777777777778,\"#fb9f3a\"],[0.8888888888888888,\"#fdca26\"],[1.0,\"#f0f921\"]],\"sequentialminus\":[[0.0,\"#0d0887\"],[0.1111111111111111,\"#46039f\"],[0.2222222222222222,\"#7201a8\"],[0.3333333333333333,\"#9c179e\"],[0.4444444444444444,\"#bd3786\"],[0.5555555555555556,\"#d8576b\"],[0.6666666666666666,\"#ed7953\"],[0.7777777777777778,\"#fb9f3a\"],[0.8888888888888888,\"#fdca26\"],[1.0,\"#f0f921\"]],\"diverging\":[[0,\"#8e0152\"],[0.1,\"#c51b7d\"],[0.2,\"#de77ae\"],[0.3,\"#f1b6da\"],[0.4,\"#fde0ef\"],[0.5,\"#f7f7f7\"],[0.6,\"#e6f5d0\"],[0.7,\"#b8e186\"],[0.8,\"#7fbc41\"],[0.9,\"#4d9221\"],[1,\"#276419\"]]},\"xaxis\":{\"gridcolor\":\"white\",\"linecolor\":\"white\",\"ticks\":\"\",\"title\":{\"standoff\":15},\"zerolinecolor\":\"white\",\"automargin\":true,\"zerolinewidth\":2},\"yaxis\":{\"gridcolor\":\"white\",\"linecolor\":\"white\",\"ticks\":\"\",\"title\":{\"standoff\":15},\"zerolinecolor\":\"white\",\"automargin\":true,\"zerolinewidth\":2},\"scene\":{\"xaxis\":{\"backgroundcolor\":\"#E5ECF6\",\"gridcolor\":\"white\",\"linecolor\":\"white\",\"showbackground\":true,\"ticks\":\"\",\"zerolinecolor\":\"white\",\"gridwidth\":2},\"yaxis\":{\"backgroundcolor\":\"#E5ECF6\",\"gridcolor\":\"white\",\"linecolor\":\"white\",\"showbackground\":true,\"ticks\":\"\",\"zerolinecolor\":\"white\",\"gridwidth\":2},\"zaxis\":{\"backgroundcolor\":\"#E5ECF6\",\"gridcolor\":\"white\",\"linecolor\":\"white\",\"showbackground\":true,\"ticks\":\"\",\"zerolinecolor\":\"white\",\"gridwidth\":2}},\"shapedefaults\":{\"line\":{\"color\":\"#2a3f5f\"}},\"annotationdefaults\":{\"arrowcolor\":\"#2a3f5f\",\"arrowhead\":0,\"arrowwidth\":1},\"geo\":{\"bgcolor\":\"white\",\"landcolor\":\"#E5ECF6\",\"subunitcolor\":\"white\",\"showland\":true,\"showlakes\":true,\"lakecolor\":\"white\"},\"title\":{\"x\":0.05},\"mapbox\":{\"style\":\"light\"}}},\"xaxis\":{\"anchor\":\"y\",\"domain\":[0.0,1.0],\"title\":{\"text\":\"Instructor\"}},\"yaxis\":{\"anchor\":\"x\",\"domain\":[0.0,1.0],\"title\":{\"text\":\"Valor\"}},\"legend\":{\"tracegroupgap\":0},\"title\":{\"text\":\"Boxplot IQR\"},\"boxmode\":\"group\"},                        {\"responsive\": true}                    ).then(function(){\n",
              "                            \n",
              "var gd = document.getElementById('420e9512-1a1d-4bec-a9d5-c0391bb95bc4');\n",
              "var x = new MutationObserver(function (mutations, observer) {{\n",
              "        var display = window.getComputedStyle(gd).display;\n",
              "        if (!display || display === 'none') {{\n",
              "            console.log([gd, 'removed!']);\n",
              "            Plotly.purge(gd);\n",
              "            observer.disconnect();\n",
              "        }}\n",
              "}});\n",
              "\n",
              "// Listen for the removal of the full notebook cells\n",
              "var notebookContainer = gd.closest('#notebook-container');\n",
              "if (notebookContainer) {{\n",
              "    x.observe(notebookContainer, {childList: true});\n",
              "}}\n",
              "\n",
              "// Listen for the clearing of the current output cell\n",
              "var outputEl = gd.closest('.output');\n",
              "if (outputEl) {{\n",
              "    x.observe(outputEl, {childList: true});\n",
              "}}\n",
              "\n",
              "                        })                };                            </script>        </div>\n",
              "</body>\n",
              "</html>"
            ]
          },
          "metadata": {}
        },
        {
          "output_type": "display_data",
          "data": {
            "text/html": [
              "<html>\n",
              "<head><meta charset=\"utf-8\" /></head>\n",
              "<body>\n",
              "    <div>            <script src=\"https://cdnjs.cloudflare.com/ajax/libs/mathjax/2.7.5/MathJax.js?config=TeX-AMS-MML_SVG\"></script><script type=\"text/javascript\">if (window.MathJax && window.MathJax.Hub && window.MathJax.Hub.Config) {window.MathJax.Hub.Config({SVG: {font: \"STIX-Web\"}});}</script>                <script type=\"text/javascript\">window.PlotlyConfig = {MathJaxConfig: 'local'};</script>\n",
              "        <script charset=\"utf-8\" src=\"https://cdn.plot.ly/plotly-2.35.2.min.js\"></script>                <div id=\"e40b7e3a-4b3b-4e2a-a0eb-ab7b756ec818\" class=\"plotly-graph-div\" style=\"height:525px; width:100%;\"></div>            <script type=\"text/javascript\">                                    window.PLOTLYENV=window.PLOTLYENV || {};                                    if (document.getElementById(\"e40b7e3a-4b3b-4e2a-a0eb-ab7b756ec818\")) {                    Plotly.newPlot(                        \"e40b7e3a-4b3b-4e2a-a0eb-ab7b756ec818\",                        [{\"alignmentgroup\":\"True\",\"hovertemplate\":\"Instructor=%{x}\\u003cbr\\u003eValor=%{y}\\u003cextra\\u003e\\u003c\\u002fextra\\u003e\",\"legendgroup\":\"\",\"marker\":{\"color\":\"#636efa\"},\"name\":\"\",\"notched\":false,\"offsetgroup\":\"\",\"orientation\":\"v\",\"showlegend\":false,\"x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x0\":\" \",\"xaxis\":\"x\",\"y\":[7,5,5,6,6,5,4,6,4,7,7,5,5,5,7,5,6,6,6,7,6,6,4,5,7,4,4,5,5,5,7,5,6,7,5,4,6,2,7,6,6,6,7,7,6,7,6,5,7,5,7,5,6,7,5,7,7,6,6,5,6,6,7,7,5,5,7,6,6,7,7,7,5,4,6,7,7,7,7,7,6,6,5,7,7,6,7,7,7,7,5,4,5,5,5,4,4,5,7,5,6,2,7,2,4,7,6,6,7,4,5,3,5,7,5,4,7,7,6,4,4,5,3,5,3,7,6,6,5,4,7,6,7,6,7,7,5,6,4,4,7,6,6,7,6,7,4,7,6,3,6,5,5,7,6,5,6,6,7,6,5,6,5,4,6,6,6,5,5,6,7,5,5,6,6,7,2,5,5,5,2,5,6,7,4,6,5,6,7,6,7,5,5,6,5,6,7,5,6,6,6,5,4,6,7,7,7,6,6,5,7,5,7,7,7,7,6,6,7,6,7,7,7,7,5,7,7,6,7,7,7,5,6,2,7,6,7,6,7,7,6,7,6,5,7,7,7,5,7,7,5,7,7,6,6,6,6,7,7,7,5,5,7,6,6,7,7,7,7,7,5,7,7,7,7,6,6,6,5,7,7,7,7,7,7,7,5,7,6,6,5,5,6,5,5,5,6,6,7,2,7,7,7,7,6,5,5,3,5,7,5,4,7,7,7,4,6,6,5,6,6,7,6,7,5,4,7,7,7,5,7,7,6,6,5,4,7,6,7,7,7,7,7,6,7,5,7,7,5,5,7,6,7,6,5,7,6,6,7,6,6,5,5,6,7,5,5,6,7,7,2,5,5,6,6,5,7,5,5,5,5,7,4,7,5,6,7,7,6,7,5,5,6,5,5,4,5,7,7,6,6,6,5,7,5,7,6,7,6,6,6,5,6,7,4,6,7,5,7,7,5,7,6,6,5,6,2,7,6,5,7,7,6,6,7,6,4,6,7,7,5,7,7,5,7,7,7,6,5,6,6,7,7,6,4,6,6,7,7,6,7,6,7,6,7,7,6,7,7,6,6,6,7,7,7,7,7,7,7,5,7,6,6,4,6,6,5,7,5,7,5,7,2,7,7,6,7,6,5,5,4,5,7,5,4,7,7,7,6,6,6,6,6,5,7,6,7,5,4,7,7,7,5,7,7,4,6,4,5,7,6,7,7,7,7,6,6,4,7,5,5,7,6,5,7,5,7,6,5,7,6,5,7,6,5,5,6,6,7,5,5,6,4,7,2,5,5,7,4,6,5,6,5,7,5,4,6,7,7,5,6,7,7,6],\"y0\":\" \",\"yaxis\":\"y\",\"type\":\"box\"}],                        {\"template\":{\"data\":{\"histogram2dcontour\":[{\"type\":\"histogram2dcontour\",\"colorbar\":{\"outlinewidth\":0,\"ticks\":\"\"},\"colorscale\":[[0.0,\"#0d0887\"],[0.1111111111111111,\"#46039f\"],[0.2222222222222222,\"#7201a8\"],[0.3333333333333333,\"#9c179e\"],[0.4444444444444444,\"#bd3786\"],[0.5555555555555556,\"#d8576b\"],[0.6666666666666666,\"#ed7953\"],[0.7777777777777778,\"#fb9f3a\"],[0.8888888888888888,\"#fdca26\"],[1.0,\"#f0f921\"]]}],\"choropleth\":[{\"type\":\"choropleth\",\"colorbar\":{\"outlinewidth\":0,\"ticks\":\"\"}}],\"histogram2d\":[{\"type\":\"histogram2d\",\"colorbar\":{\"outlinewidth\":0,\"ticks\":\"\"},\"colorscale\":[[0.0,\"#0d0887\"],[0.1111111111111111,\"#46039f\"],[0.2222222222222222,\"#7201a8\"],[0.3333333333333333,\"#9c179e\"],[0.4444444444444444,\"#bd3786\"],[0.5555555555555556,\"#d8576b\"],[0.6666666666666666,\"#ed7953\"],[0.7777777777777778,\"#fb9f3a\"],[0.8888888888888888,\"#fdca26\"],[1.0,\"#f0f921\"]]}],\"heatmap\":[{\"type\":\"heatmap\",\"colorbar\":{\"outlinewidth\":0,\"ticks\":\"\"},\"colorscale\":[[0.0,\"#0d0887\"],[0.1111111111111111,\"#46039f\"],[0.2222222222222222,\"#7201a8\"],[0.3333333333333333,\"#9c179e\"],[0.4444444444444444,\"#bd3786\"],[0.5555555555555556,\"#d8576b\"],[0.6666666666666666,\"#ed7953\"],[0.7777777777777778,\"#fb9f3a\"],[0.8888888888888888,\"#fdca26\"],[1.0,\"#f0f921\"]]}],\"heatmapgl\":[{\"type\":\"heatmapgl\",\"colorbar\":{\"outlinewidth\":0,\"ticks\":\"\"},\"colorscale\":[[0.0,\"#0d0887\"],[0.1111111111111111,\"#46039f\"],[0.2222222222222222,\"#7201a8\"],[0.3333333333333333,\"#9c179e\"],[0.4444444444444444,\"#bd3786\"],[0.5555555555555556,\"#d8576b\"],[0.6666666666666666,\"#ed7953\"],[0.7777777777777778,\"#fb9f3a\"],[0.8888888888888888,\"#fdca26\"],[1.0,\"#f0f921\"]]}],\"contourcarpet\":[{\"type\":\"contourcarpet\",\"colorbar\":{\"outlinewidth\":0,\"ticks\":\"\"}}],\"contour\":[{\"type\":\"contour\",\"colorbar\":{\"outlinewidth\":0,\"ticks\":\"\"},\"colorscale\":[[0.0,\"#0d0887\"],[0.1111111111111111,\"#46039f\"],[0.2222222222222222,\"#7201a8\"],[0.3333333333333333,\"#9c179e\"],[0.4444444444444444,\"#bd3786\"],[0.5555555555555556,\"#d8576b\"],[0.6666666666666666,\"#ed7953\"],[0.7777777777777778,\"#fb9f3a\"],[0.8888888888888888,\"#fdca26\"],[1.0,\"#f0f921\"]]}],\"surface\":[{\"type\":\"surface\",\"colorbar\":{\"outlinewidth\":0,\"ticks\":\"\"},\"colorscale\":[[0.0,\"#0d0887\"],[0.1111111111111111,\"#46039f\"],[0.2222222222222222,\"#7201a8\"],[0.3333333333333333,\"#9c179e\"],[0.4444444444444444,\"#bd3786\"],[0.5555555555555556,\"#d8576b\"],[0.6666666666666666,\"#ed7953\"],[0.7777777777777778,\"#fb9f3a\"],[0.8888888888888888,\"#fdca26\"],[1.0,\"#f0f921\"]]}],\"mesh3d\":[{\"type\":\"mesh3d\",\"colorbar\":{\"outlinewidth\":0,\"ticks\":\"\"}}],\"scatter\":[{\"fillpattern\":{\"fillmode\":\"overlay\",\"size\":10,\"solidity\":0.2},\"type\":\"scatter\"}],\"parcoords\":[{\"type\":\"parcoords\",\"line\":{\"colorbar\":{\"outlinewidth\":0,\"ticks\":\"\"}}}],\"scatterpolargl\":[{\"type\":\"scatterpolargl\",\"marker\":{\"colorbar\":{\"outlinewidth\":0,\"ticks\":\"\"}}}],\"bar\":[{\"error_x\":{\"color\":\"#2a3f5f\"},\"error_y\":{\"color\":\"#2a3f5f\"},\"marker\":{\"line\":{\"color\":\"#E5ECF6\",\"width\":0.5},\"pattern\":{\"fillmode\":\"overlay\",\"size\":10,\"solidity\":0.2}},\"type\":\"bar\"}],\"scattergeo\":[{\"type\":\"scattergeo\",\"marker\":{\"colorbar\":{\"outlinewidth\":0,\"ticks\":\"\"}}}],\"scatterpolar\":[{\"type\":\"scatterpolar\",\"marker\":{\"colorbar\":{\"outlinewidth\":0,\"ticks\":\"\"}}}],\"histogram\":[{\"marker\":{\"pattern\":{\"fillmode\":\"overlay\",\"size\":10,\"solidity\":0.2}},\"type\":\"histogram\"}],\"scattergl\":[{\"type\":\"scattergl\",\"marker\":{\"colorbar\":{\"outlinewidth\":0,\"ticks\":\"\"}}}],\"scatter3d\":[{\"type\":\"scatter3d\",\"line\":{\"colorbar\":{\"outlinewidth\":0,\"ticks\":\"\"}},\"marker\":{\"colorbar\":{\"outlinewidth\":0,\"ticks\":\"\"}}}],\"scattermapbox\":[{\"type\":\"scattermapbox\",\"marker\":{\"colorbar\":{\"outlinewidth\":0,\"ticks\":\"\"}}}],\"scatterternary\":[{\"type\":\"scatterternary\",\"marker\":{\"colorbar\":{\"outlinewidth\":0,\"ticks\":\"\"}}}],\"scattercarpet\":[{\"type\":\"scattercarpet\",\"marker\":{\"colorbar\":{\"outlinewidth\":0,\"ticks\":\"\"}}}],\"carpet\":[{\"aaxis\":{\"endlinecolor\":\"#2a3f5f\",\"gridcolor\":\"white\",\"linecolor\":\"white\",\"minorgridcolor\":\"white\",\"startlinecolor\":\"#2a3f5f\"},\"baxis\":{\"endlinecolor\":\"#2a3f5f\",\"gridcolor\":\"white\",\"linecolor\":\"white\",\"minorgridcolor\":\"white\",\"startlinecolor\":\"#2a3f5f\"},\"type\":\"carpet\"}],\"table\":[{\"cells\":{\"fill\":{\"color\":\"#EBF0F8\"},\"line\":{\"color\":\"white\"}},\"header\":{\"fill\":{\"color\":\"#C8D4E3\"},\"line\":{\"color\":\"white\"}},\"type\":\"table\"}],\"barpolar\":[{\"marker\":{\"line\":{\"color\":\"#E5ECF6\",\"width\":0.5},\"pattern\":{\"fillmode\":\"overlay\",\"size\":10,\"solidity\":0.2}},\"type\":\"barpolar\"}],\"pie\":[{\"automargin\":true,\"type\":\"pie\"}]},\"layout\":{\"autotypenumbers\":\"strict\",\"colorway\":[\"#636efa\",\"#EF553B\",\"#00cc96\",\"#ab63fa\",\"#FFA15A\",\"#19d3f3\",\"#FF6692\",\"#B6E880\",\"#FF97FF\",\"#FECB52\"],\"font\":{\"color\":\"#2a3f5f\"},\"hovermode\":\"closest\",\"hoverlabel\":{\"align\":\"left\"},\"paper_bgcolor\":\"white\",\"plot_bgcolor\":\"#E5ECF6\",\"polar\":{\"bgcolor\":\"#E5ECF6\",\"angularaxis\":{\"gridcolor\":\"white\",\"linecolor\":\"white\",\"ticks\":\"\"},\"radialaxis\":{\"gridcolor\":\"white\",\"linecolor\":\"white\",\"ticks\":\"\"}},\"ternary\":{\"bgcolor\":\"#E5ECF6\",\"aaxis\":{\"gridcolor\":\"white\",\"linecolor\":\"white\",\"ticks\":\"\"},\"baxis\":{\"gridcolor\":\"white\",\"linecolor\":\"white\",\"ticks\":\"\"},\"caxis\":{\"gridcolor\":\"white\",\"linecolor\":\"white\",\"ticks\":\"\"}},\"coloraxis\":{\"colorbar\":{\"outlinewidth\":0,\"ticks\":\"\"}},\"colorscale\":{\"sequential\":[[0.0,\"#0d0887\"],[0.1111111111111111,\"#46039f\"],[0.2222222222222222,\"#7201a8\"],[0.3333333333333333,\"#9c179e\"],[0.4444444444444444,\"#bd3786\"],[0.5555555555555556,\"#d8576b\"],[0.6666666666666666,\"#ed7953\"],[0.7777777777777778,\"#fb9f3a\"],[0.8888888888888888,\"#fdca26\"],[1.0,\"#f0f921\"]],\"sequentialminus\":[[0.0,\"#0d0887\"],[0.1111111111111111,\"#46039f\"],[0.2222222222222222,\"#7201a8\"],[0.3333333333333333,\"#9c179e\"],[0.4444444444444444,\"#bd3786\"],[0.5555555555555556,\"#d8576b\"],[0.6666666666666666,\"#ed7953\"],[0.7777777777777778,\"#fb9f3a\"],[0.8888888888888888,\"#fdca26\"],[1.0,\"#f0f921\"]],\"diverging\":[[0,\"#8e0152\"],[0.1,\"#c51b7d\"],[0.2,\"#de77ae\"],[0.3,\"#f1b6da\"],[0.4,\"#fde0ef\"],[0.5,\"#f7f7f7\"],[0.6,\"#e6f5d0\"],[0.7,\"#b8e186\"],[0.8,\"#7fbc41\"],[0.9,\"#4d9221\"],[1,\"#276419\"]]},\"xaxis\":{\"gridcolor\":\"white\",\"linecolor\":\"white\",\"ticks\":\"\",\"title\":{\"standoff\":15},\"zerolinecolor\":\"white\",\"automargin\":true,\"zerolinewidth\":2},\"yaxis\":{\"gridcolor\":\"white\",\"linecolor\":\"white\",\"ticks\":\"\",\"title\":{\"standoff\":15},\"zerolinecolor\":\"white\",\"automargin\":true,\"zerolinewidth\":2},\"scene\":{\"xaxis\":{\"backgroundcolor\":\"#E5ECF6\",\"gridcolor\":\"white\",\"linecolor\":\"white\",\"showbackground\":true,\"ticks\":\"\",\"zerolinecolor\":\"white\",\"gridwidth\":2},\"yaxis\":{\"backgroundcolor\":\"#E5ECF6\",\"gridcolor\":\"white\",\"linecolor\":\"white\",\"showbackground\":true,\"ticks\":\"\",\"zerolinecolor\":\"white\",\"gridwidth\":2},\"zaxis\":{\"backgroundcolor\":\"#E5ECF6\",\"gridcolor\":\"white\",\"linecolor\":\"white\",\"showbackground\":true,\"ticks\":\"\",\"zerolinecolor\":\"white\",\"gridwidth\":2}},\"shapedefaults\":{\"line\":{\"color\":\"#2a3f5f\"}},\"annotationdefaults\":{\"arrowcolor\":\"#2a3f5f\",\"arrowhead\":0,\"arrowwidth\":1},\"geo\":{\"bgcolor\":\"white\",\"landcolor\":\"#E5ECF6\",\"subunitcolor\":\"white\",\"showland\":true,\"showlakes\":true,\"lakecolor\":\"white\"},\"title\":{\"x\":0.05},\"mapbox\":{\"style\":\"light\"}}},\"xaxis\":{\"anchor\":\"y\",\"domain\":[0.0,1.0],\"title\":{\"text\":\"Instructor\"}},\"yaxis\":{\"anchor\":\"x\",\"domain\":[0.0,1.0],\"title\":{\"text\":\"Valor\"}},\"legend\":{\"tracegroupgap\":0},\"title\":{\"text\":\"Boxplot DE\"},\"boxmode\":\"group\"},                        {\"responsive\": true}                    ).then(function(){\n",
              "                            \n",
              "var gd = document.getElementById('e40b7e3a-4b3b-4e2a-a0eb-ab7b756ec818');\n",
              "var x = new MutationObserver(function (mutations, observer) {{\n",
              "        var display = window.getComputedStyle(gd).display;\n",
              "        if (!display || display === 'none') {{\n",
              "            console.log([gd, 'removed!']);\n",
              "            Plotly.purge(gd);\n",
              "            observer.disconnect();\n",
              "        }}\n",
              "}});\n",
              "\n",
              "// Listen for the removal of the full notebook cells\n",
              "var notebookContainer = gd.closest('#notebook-container');\n",
              "if (notebookContainer) {{\n",
              "    x.observe(notebookContainer, {childList: true});\n",
              "}}\n",
              "\n",
              "// Listen for the clearing of the current output cell\n",
              "var outputEl = gd.closest('.output');\n",
              "if (outputEl) {{\n",
              "    x.observe(outputEl, {childList: true});\n",
              "}}\n",
              "\n",
              "                        })                };                            </script>        </div>\n",
              "</body>\n",
              "</html>"
            ]
          },
          "metadata": {}
        },
        {
          "output_type": "display_data",
          "data": {
            "text/html": [
              "<html>\n",
              "<head><meta charset=\"utf-8\" /></head>\n",
              "<body>\n",
              "    <div>            <script src=\"https://cdnjs.cloudflare.com/ajax/libs/mathjax/2.7.5/MathJax.js?config=TeX-AMS-MML_SVG\"></script><script type=\"text/javascript\">if (window.MathJax && window.MathJax.Hub && window.MathJax.Hub.Config) {window.MathJax.Hub.Config({SVG: {font: \"STIX-Web\"}});}</script>                <script type=\"text/javascript\">window.PlotlyConfig = {MathJaxConfig: 'local'};</script>\n",
              "        <script charset=\"utf-8\" src=\"https://cdn.plot.ly/plotly-2.35.2.min.js\"></script>                <div id=\"50bbceaf-6466-47a8-95ee-c04ef67bce6a\" class=\"plotly-graph-div\" style=\"height:525px; width:100%;\"></div>            <script type=\"text/javascript\">                                    window.PLOTLYENV=window.PLOTLYENV || {};                                    if (document.getElementById(\"50bbceaf-6466-47a8-95ee-c04ef67bce6a\")) {                    Plotly.newPlot(                        \"50bbceaf-6466-47a8-95ee-c04ef67bce6a\",                        [{\"alignmentgroup\":\"True\",\"hovertemplate\":\"Instructor=%{x}\\u003cbr\\u003eValor=%{y}\\u003cextra\\u003e\\u003c\\u002fextra\\u003e\",\"legendgroup\":\"\",\"marker\":{\"color\":\"#636efa\"},\"name\":\"\",\"notched\":false,\"offsetgroup\":\"\",\"orientation\":\"v\",\"showlegend\":false,\"x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x0\":\" \",\"xaxis\":\"x\",\"y\":[7,5,1,5,6,6,5,4,6,4,7,7,5,5,5,7,5,6,6,6,7,6,6,4,5,7,4,4,5,5,5,7,5,6,7,5,4,6,2,7,6,6,6,7,7,6,7,6,5,7,5,7,5,6,7,5,7,7,6,6,5,6,6,7,7,1,5,5,7,6,6,7,7,7,5,4,6,7,7,7,7,7,6,6,5,7,7,6,7,7,7,7,5,4,5,5,5,4,4,5,7,5,6,2,7,2,4,7,6,6,7,4,5,3,5,7,5,4,7,7,6,4,4,5,3,5,3,7,6,6,5,4,7,6,7,6,7,7,5,6,4,4,7,6,6,7,6,7,4,7,6,3,6,5,5,7,6,5,6,6,7,6,5,6,5,4,6,6,6,5,5,6,7,5,5,6,6,7,2,5,5,5,2,5,6,7,4,6,5,6,7,6,7,5,5,6,5,6,7,5,1,6,6,6,5,4,6,7,7,7,6,6,5,7,5,7,7,7,7,6,6,7,6,7,7,7,7,5,7,7,6,7,7,7,5,6,2,7,6,7,6,7,7,6,7,6,5,7,7,7,5,7,7,5,7,7,6,6,6,6,7,7,7,1,5,5,7,6,6,7,7,7,7,7,5,7,7,7,7,6,6,6,5,7,7,7,7,7,7,7,5,7,6,6,5,5,6,5,5,5,6,6,7,2,7,7,7,7,6,5,5,3,5,7,5,4,7,7,7,4,6,6,5,6,6,7,6,7,5,4,7,7,7,5,7,7,6,6,5,4,7,6,7,7,7,7,1,7,6,1,7,5,7,7,5,5,7,6,7,6,5,7,6,6,7,6,6,5,5,6,7,5,5,6,7,7,2,5,5,6,1,6,5,7,5,5,5,5,7,4,7,5,6,7,7,6,7,5,1,5,6,5,5,4,5,7,7,6,6,6,5,7,5,7,6,7,6,6,6,5,6,7,4,6,7,5,7,7,5,7,6,6,5,6,2,7,6,5,7,7,6,6,7,6,4,6,7,7,5,7,7,5,7,7,7,6,5,6,6,7,7,1,6,4,6,6,7,7,6,7,6,7,6,7,7,6,7,7,6,6,6,7,7,7,7,7,7,7,5,7,6,6,4,6,6,5,7,5,7,5,7,2,7,7,6,7,6,5,5,4,5,7,5,4,7,7,7,6,6,6,6,6,5,7,6,7,5,4,7,7,7,5,7,7,4,6,4,5,7,6,7,7,7,7,1,6,6,4,7,5,5,7,6,5,7,5,7,6,5,7,6,5,7,6,5,5,6,6,7,5,5,6,4,7,2,5,5,7,4,6,5,6,5,7,5,4,6,7,7,5,6,7,7,6],\"y0\":\" \",\"yaxis\":\"y\",\"type\":\"box\"}],                        {\"template\":{\"data\":{\"histogram2dcontour\":[{\"type\":\"histogram2dcontour\",\"colorbar\":{\"outlinewidth\":0,\"ticks\":\"\"},\"colorscale\":[[0.0,\"#0d0887\"],[0.1111111111111111,\"#46039f\"],[0.2222222222222222,\"#7201a8\"],[0.3333333333333333,\"#9c179e\"],[0.4444444444444444,\"#bd3786\"],[0.5555555555555556,\"#d8576b\"],[0.6666666666666666,\"#ed7953\"],[0.7777777777777778,\"#fb9f3a\"],[0.8888888888888888,\"#fdca26\"],[1.0,\"#f0f921\"]]}],\"choropleth\":[{\"type\":\"choropleth\",\"colorbar\":{\"outlinewidth\":0,\"ticks\":\"\"}}],\"histogram2d\":[{\"type\":\"histogram2d\",\"colorbar\":{\"outlinewidth\":0,\"ticks\":\"\"},\"colorscale\":[[0.0,\"#0d0887\"],[0.1111111111111111,\"#46039f\"],[0.2222222222222222,\"#7201a8\"],[0.3333333333333333,\"#9c179e\"],[0.4444444444444444,\"#bd3786\"],[0.5555555555555556,\"#d8576b\"],[0.6666666666666666,\"#ed7953\"],[0.7777777777777778,\"#fb9f3a\"],[0.8888888888888888,\"#fdca26\"],[1.0,\"#f0f921\"]]}],\"heatmap\":[{\"type\":\"heatmap\",\"colorbar\":{\"outlinewidth\":0,\"ticks\":\"\"},\"colorscale\":[[0.0,\"#0d0887\"],[0.1111111111111111,\"#46039f\"],[0.2222222222222222,\"#7201a8\"],[0.3333333333333333,\"#9c179e\"],[0.4444444444444444,\"#bd3786\"],[0.5555555555555556,\"#d8576b\"],[0.6666666666666666,\"#ed7953\"],[0.7777777777777778,\"#fb9f3a\"],[0.8888888888888888,\"#fdca26\"],[1.0,\"#f0f921\"]]}],\"heatmapgl\":[{\"type\":\"heatmapgl\",\"colorbar\":{\"outlinewidth\":0,\"ticks\":\"\"},\"colorscale\":[[0.0,\"#0d0887\"],[0.1111111111111111,\"#46039f\"],[0.2222222222222222,\"#7201a8\"],[0.3333333333333333,\"#9c179e\"],[0.4444444444444444,\"#bd3786\"],[0.5555555555555556,\"#d8576b\"],[0.6666666666666666,\"#ed7953\"],[0.7777777777777778,\"#fb9f3a\"],[0.8888888888888888,\"#fdca26\"],[1.0,\"#f0f921\"]]}],\"contourcarpet\":[{\"type\":\"contourcarpet\",\"colorbar\":{\"outlinewidth\":0,\"ticks\":\"\"}}],\"contour\":[{\"type\":\"contour\",\"colorbar\":{\"outlinewidth\":0,\"ticks\":\"\"},\"colorscale\":[[0.0,\"#0d0887\"],[0.1111111111111111,\"#46039f\"],[0.2222222222222222,\"#7201a8\"],[0.3333333333333333,\"#9c179e\"],[0.4444444444444444,\"#bd3786\"],[0.5555555555555556,\"#d8576b\"],[0.6666666666666666,\"#ed7953\"],[0.7777777777777778,\"#fb9f3a\"],[0.8888888888888888,\"#fdca26\"],[1.0,\"#f0f921\"]]}],\"surface\":[{\"type\":\"surface\",\"colorbar\":{\"outlinewidth\":0,\"ticks\":\"\"},\"colorscale\":[[0.0,\"#0d0887\"],[0.1111111111111111,\"#46039f\"],[0.2222222222222222,\"#7201a8\"],[0.3333333333333333,\"#9c179e\"],[0.4444444444444444,\"#bd3786\"],[0.5555555555555556,\"#d8576b\"],[0.6666666666666666,\"#ed7953\"],[0.7777777777777778,\"#fb9f3a\"],[0.8888888888888888,\"#fdca26\"],[1.0,\"#f0f921\"]]}],\"mesh3d\":[{\"type\":\"mesh3d\",\"colorbar\":{\"outlinewidth\":0,\"ticks\":\"\"}}],\"scatter\":[{\"fillpattern\":{\"fillmode\":\"overlay\",\"size\":10,\"solidity\":0.2},\"type\":\"scatter\"}],\"parcoords\":[{\"type\":\"parcoords\",\"line\":{\"colorbar\":{\"outlinewidth\":0,\"ticks\":\"\"}}}],\"scatterpolargl\":[{\"type\":\"scatterpolargl\",\"marker\":{\"colorbar\":{\"outlinewidth\":0,\"ticks\":\"\"}}}],\"bar\":[{\"error_x\":{\"color\":\"#2a3f5f\"},\"error_y\":{\"color\":\"#2a3f5f\"},\"marker\":{\"line\":{\"color\":\"#E5ECF6\",\"width\":0.5},\"pattern\":{\"fillmode\":\"overlay\",\"size\":10,\"solidity\":0.2}},\"type\":\"bar\"}],\"scattergeo\":[{\"type\":\"scattergeo\",\"marker\":{\"colorbar\":{\"outlinewidth\":0,\"ticks\":\"\"}}}],\"scatterpolar\":[{\"type\":\"scatterpolar\",\"marker\":{\"colorbar\":{\"outlinewidth\":0,\"ticks\":\"\"}}}],\"histogram\":[{\"marker\":{\"pattern\":{\"fillmode\":\"overlay\",\"size\":10,\"solidity\":0.2}},\"type\":\"histogram\"}],\"scattergl\":[{\"type\":\"scattergl\",\"marker\":{\"colorbar\":{\"outlinewidth\":0,\"ticks\":\"\"}}}],\"scatter3d\":[{\"type\":\"scatter3d\",\"line\":{\"colorbar\":{\"outlinewidth\":0,\"ticks\":\"\"}},\"marker\":{\"colorbar\":{\"outlinewidth\":0,\"ticks\":\"\"}}}],\"scattermapbox\":[{\"type\":\"scattermapbox\",\"marker\":{\"colorbar\":{\"outlinewidth\":0,\"ticks\":\"\"}}}],\"scatterternary\":[{\"type\":\"scatterternary\",\"marker\":{\"colorbar\":{\"outlinewidth\":0,\"ticks\":\"\"}}}],\"scattercarpet\":[{\"type\":\"scattercarpet\",\"marker\":{\"colorbar\":{\"outlinewidth\":0,\"ticks\":\"\"}}}],\"carpet\":[{\"aaxis\":{\"endlinecolor\":\"#2a3f5f\",\"gridcolor\":\"white\",\"linecolor\":\"white\",\"minorgridcolor\":\"white\",\"startlinecolor\":\"#2a3f5f\"},\"baxis\":{\"endlinecolor\":\"#2a3f5f\",\"gridcolor\":\"white\",\"linecolor\":\"white\",\"minorgridcolor\":\"white\",\"startlinecolor\":\"#2a3f5f\"},\"type\":\"carpet\"}],\"table\":[{\"cells\":{\"fill\":{\"color\":\"#EBF0F8\"},\"line\":{\"color\":\"white\"}},\"header\":{\"fill\":{\"color\":\"#C8D4E3\"},\"line\":{\"color\":\"white\"}},\"type\":\"table\"}],\"barpolar\":[{\"marker\":{\"line\":{\"color\":\"#E5ECF6\",\"width\":0.5},\"pattern\":{\"fillmode\":\"overlay\",\"size\":10,\"solidity\":0.2}},\"type\":\"barpolar\"}],\"pie\":[{\"automargin\":true,\"type\":\"pie\"}]},\"layout\":{\"autotypenumbers\":\"strict\",\"colorway\":[\"#636efa\",\"#EF553B\",\"#00cc96\",\"#ab63fa\",\"#FFA15A\",\"#19d3f3\",\"#FF6692\",\"#B6E880\",\"#FF97FF\",\"#FECB52\"],\"font\":{\"color\":\"#2a3f5f\"},\"hovermode\":\"closest\",\"hoverlabel\":{\"align\":\"left\"},\"paper_bgcolor\":\"white\",\"plot_bgcolor\":\"#E5ECF6\",\"polar\":{\"bgcolor\":\"#E5ECF6\",\"angularaxis\":{\"gridcolor\":\"white\",\"linecolor\":\"white\",\"ticks\":\"\"},\"radialaxis\":{\"gridcolor\":\"white\",\"linecolor\":\"white\",\"ticks\":\"\"}},\"ternary\":{\"bgcolor\":\"#E5ECF6\",\"aaxis\":{\"gridcolor\":\"white\",\"linecolor\":\"white\",\"ticks\":\"\"},\"baxis\":{\"gridcolor\":\"white\",\"linecolor\":\"white\",\"ticks\":\"\"},\"caxis\":{\"gridcolor\":\"white\",\"linecolor\":\"white\",\"ticks\":\"\"}},\"coloraxis\":{\"colorbar\":{\"outlinewidth\":0,\"ticks\":\"\"}},\"colorscale\":{\"sequential\":[[0.0,\"#0d0887\"],[0.1111111111111111,\"#46039f\"],[0.2222222222222222,\"#7201a8\"],[0.3333333333333333,\"#9c179e\"],[0.4444444444444444,\"#bd3786\"],[0.5555555555555556,\"#d8576b\"],[0.6666666666666666,\"#ed7953\"],[0.7777777777777778,\"#fb9f3a\"],[0.8888888888888888,\"#fdca26\"],[1.0,\"#f0f921\"]],\"sequentialminus\":[[0.0,\"#0d0887\"],[0.1111111111111111,\"#46039f\"],[0.2222222222222222,\"#7201a8\"],[0.3333333333333333,\"#9c179e\"],[0.4444444444444444,\"#bd3786\"],[0.5555555555555556,\"#d8576b\"],[0.6666666666666666,\"#ed7953\"],[0.7777777777777778,\"#fb9f3a\"],[0.8888888888888888,\"#fdca26\"],[1.0,\"#f0f921\"]],\"diverging\":[[0,\"#8e0152\"],[0.1,\"#c51b7d\"],[0.2,\"#de77ae\"],[0.3,\"#f1b6da\"],[0.4,\"#fde0ef\"],[0.5,\"#f7f7f7\"],[0.6,\"#e6f5d0\"],[0.7,\"#b8e186\"],[0.8,\"#7fbc41\"],[0.9,\"#4d9221\"],[1,\"#276419\"]]},\"xaxis\":{\"gridcolor\":\"white\",\"linecolor\":\"white\",\"ticks\":\"\",\"title\":{\"standoff\":15},\"zerolinecolor\":\"white\",\"automargin\":true,\"zerolinewidth\":2},\"yaxis\":{\"gridcolor\":\"white\",\"linecolor\":\"white\",\"ticks\":\"\",\"title\":{\"standoff\":15},\"zerolinecolor\":\"white\",\"automargin\":true,\"zerolinewidth\":2},\"scene\":{\"xaxis\":{\"backgroundcolor\":\"#E5ECF6\",\"gridcolor\":\"white\",\"linecolor\":\"white\",\"showbackground\":true,\"ticks\":\"\",\"zerolinecolor\":\"white\",\"gridwidth\":2},\"yaxis\":{\"backgroundcolor\":\"#E5ECF6\",\"gridcolor\":\"white\",\"linecolor\":\"white\",\"showbackground\":true,\"ticks\":\"\",\"zerolinecolor\":\"white\",\"gridwidth\":2},\"zaxis\":{\"backgroundcolor\":\"#E5ECF6\",\"gridcolor\":\"white\",\"linecolor\":\"white\",\"showbackground\":true,\"ticks\":\"\",\"zerolinecolor\":\"white\",\"gridwidth\":2}},\"shapedefaults\":{\"line\":{\"color\":\"#2a3f5f\"}},\"annotationdefaults\":{\"arrowcolor\":\"#2a3f5f\",\"arrowhead\":0,\"arrowwidth\":1},\"geo\":{\"bgcolor\":\"white\",\"landcolor\":\"#E5ECF6\",\"subunitcolor\":\"white\",\"showland\":true,\"showlakes\":true,\"lakecolor\":\"white\"},\"title\":{\"x\":0.05},\"mapbox\":{\"style\":\"light\"}}},\"xaxis\":{\"anchor\":\"y\",\"domain\":[0.0,1.0],\"title\":{\"text\":\"Instructor\"}},\"yaxis\":{\"anchor\":\"x\",\"domain\":[0.0,1.0],\"title\":{\"text\":\"Valor\"}},\"legend\":{\"tracegroupgap\":0},\"title\":{\"text\":\"Boxplot original\"},\"boxmode\":\"group\"},                        {\"responsive\": true}                    ).then(function(){\n",
              "                            \n",
              "var gd = document.getElementById('50bbceaf-6466-47a8-95ee-c04ef67bce6a');\n",
              "var x = new MutationObserver(function (mutations, observer) {{\n",
              "        var display = window.getComputedStyle(gd).display;\n",
              "        if (!display || display === 'none') {{\n",
              "            console.log([gd, 'removed!']);\n",
              "            Plotly.purge(gd);\n",
              "            observer.disconnect();\n",
              "        }}\n",
              "}});\n",
              "\n",
              "// Listen for the removal of the full notebook cells\n",
              "var notebookContainer = gd.closest('#notebook-container');\n",
              "if (notebookContainer) {{\n",
              "    x.observe(notebookContainer, {childList: true});\n",
              "}}\n",
              "\n",
              "// Listen for the clearing of the current output cell\n",
              "var outputEl = gd.closest('.output');\n",
              "if (outputEl) {{\n",
              "    x.observe(outputEl, {childList: true});\n",
              "}}\n",
              "\n",
              "                        })                };                            </script>        </div>\n",
              "</body>\n",
              "</html>"
            ]
          },
          "metadata": {}
        }
      ]
    },
    {
      "cell_type": "markdown",
      "source": [],
      "metadata": {
        "id": "QiHntRJLCMar"
      }
    },
    {
      "cell_type": "markdown",
      "source": [
        "Evidentemente hay diferencias en los test de Tukey de datosoriginal con respecto a los datos filtrados con DE o IQR. Pero debo averiguar si la perdida de esos datos outliers, al no poder reemplazarlos por la\n",
        "media o mediana esta afectando el resultado del test de tukey"
      ],
      "metadata": {
        "id": "59F5fLfZCOvF"
      }
    },
    {
      "cell_type": "code",
      "source": [
        "datos_largos.info()"
      ],
      "metadata": {
        "colab": {
          "base_uri": "https://localhost:8080/"
        },
        "id": "djREioz_GkK8",
        "outputId": "22529876-3777-4296-ae1f-49f94037d0e1"
      },
      "execution_count": 24,
      "outputs": [
        {
          "output_type": "stream",
          "name": "stdout",
          "text": [
            "<class 'pandas.core.frame.DataFrame'>\n",
            "RangeIndex: 594 entries, 0 to 593\n",
            "Data columns (total 3 columns):\n",
            " #   Column      Non-Null Count  Dtype \n",
            "---  ------      --------------  ----- \n",
            " 0   Instructor  594 non-null    object\n",
            " 1   Pregunta    594 non-null    object\n",
            " 2   Valor       594 non-null    int64 \n",
            "dtypes: int64(1), object(2)\n",
            "memory usage: 14.1+ KB\n"
          ]
        }
      ]
    },
    {
      "cell_type": "code",
      "source": [
        "datos_largos_da.info()"
      ],
      "metadata": {
        "colab": {
          "base_uri": "https://localhost:8080/"
        },
        "id": "SbVxLl_JGwyw",
        "outputId": "36529268-8ad2-47e4-d2c5-b8e5e0915775"
      },
      "execution_count": 25,
      "outputs": [
        {
          "output_type": "stream",
          "name": "stdout",
          "text": [
            "<class 'pandas.core.frame.DataFrame'>\n",
            "Index: 584 entries, 0 to 593\n",
            "Data columns (total 3 columns):\n",
            " #   Column      Non-Null Count  Dtype \n",
            "---  ------      --------------  ----- \n",
            " 0   Instructor  584 non-null    object\n",
            " 1   Pregunta    584 non-null    object\n",
            " 2   Valor       584 non-null    int64 \n",
            "dtypes: int64(1), object(2)\n",
            "memory usage: 18.2+ KB\n"
          ]
        }
      ]
    },
    {
      "cell_type": "code",
      "source": [
        "datos_largos_iqr.info()"
      ],
      "metadata": {
        "colab": {
          "base_uri": "https://localhost:8080/"
        },
        "id": "TYUtBy0lHEK8",
        "outputId": "91476491-8457-4c42-fe7d-bbf43fc7c2eb"
      },
      "execution_count": 26,
      "outputs": [
        {
          "output_type": "stream",
          "name": "stdout",
          "text": [
            "<class 'pandas.core.frame.DataFrame'>\n",
            "Index: 584 entries, 0 to 593\n",
            "Data columns (total 3 columns):\n",
            " #   Column      Non-Null Count  Dtype \n",
            "---  ------      --------------  ----- \n",
            " 0   Instructor  584 non-null    object\n",
            " 1   Pregunta    584 non-null    object\n",
            " 2   Valor       584 non-null    int64 \n",
            "dtypes: int64(1), object(2)\n",
            "memory usage: 18.2+ KB\n"
          ]
        }
      ]
    },
    {
      "cell_type": "code",
      "source": [
        "#este codigo imprime o despliega los valores nulos de datos_largos_da\n",
        "datos_largos_da.isnull().sum()"
      ],
      "metadata": {
        "colab": {
          "base_uri": "https://localhost:8080/",
          "height": 178
        },
        "id": "-IiHGQxuHNHl",
        "outputId": "6dc35738-6f5f-40e5-ce1b-d5950147aef7"
      },
      "execution_count": 27,
      "outputs": [
        {
          "output_type": "execute_result",
          "data": {
            "text/plain": [
              "Instructor    0\n",
              "Pregunta      0\n",
              "Valor         0\n",
              "dtype: int64"
            ],
            "text/html": [
              "<div>\n",
              "<style scoped>\n",
              "    .dataframe tbody tr th:only-of-type {\n",
              "        vertical-align: middle;\n",
              "    }\n",
              "\n",
              "    .dataframe tbody tr th {\n",
              "        vertical-align: top;\n",
              "    }\n",
              "\n",
              "    .dataframe thead th {\n",
              "        text-align: right;\n",
              "    }\n",
              "</style>\n",
              "<table border=\"1\" class=\"dataframe\">\n",
              "  <thead>\n",
              "    <tr style=\"text-align: right;\">\n",
              "      <th></th>\n",
              "      <th>0</th>\n",
              "    </tr>\n",
              "  </thead>\n",
              "  <tbody>\n",
              "    <tr>\n",
              "      <th>Instructor</th>\n",
              "      <td>0</td>\n",
              "    </tr>\n",
              "    <tr>\n",
              "      <th>Pregunta</th>\n",
              "      <td>0</td>\n",
              "    </tr>\n",
              "    <tr>\n",
              "      <th>Valor</th>\n",
              "      <td>0</td>\n",
              "    </tr>\n",
              "  </tbody>\n",
              "</table>\n",
              "</div><br><label><b>dtype:</b> int64</label>"
            ]
          },
          "metadata": {},
          "execution_count": 27
        }
      ]
    },
    {
      "cell_type": "code",
      "source": [
        "#este codigo despliega los valores de la columna Instructor con valor \"Q1\" presente en el dataframes datos_largos\n",
        "datos_largos_da[datos_largos_da['Instructor'] == 'Q1']"
      ],
      "metadata": {
        "colab": {
          "base_uri": "https://localhost:8080/",
          "height": 423
        },
        "id": "4MWfeCV3Hdhx",
        "outputId": "c4d6ea9c-083b-4757-ce3d-e2ca5de924d4"
      },
      "execution_count": 28,
      "outputs": [
        {
          "output_type": "execute_result",
          "data": {
            "text/plain": [
              "    Instructor Pregunta  Valor\n",
              "0           Q1       S1      7\n",
              "1           Q1       S1      5\n",
              "3           Q1       S1      5\n",
              "4           Q1       S1      6\n",
              "5           Q1       S1      6\n",
              "..         ...      ...    ...\n",
              "415         Q1       S3      7\n",
              "416         Q1       S3      6\n",
              "417         Q1       S3      6\n",
              "418         Q1       S3      6\n",
              "419         Q1       S3      5\n",
              "\n",
              "[69 rows x 3 columns]"
            ],
            "text/html": [
              "\n",
              "  <div id=\"df-14e7626c-4137-4f13-84ac-cfc96b62fc0b\" class=\"colab-df-container\">\n",
              "    <div>\n",
              "<style scoped>\n",
              "    .dataframe tbody tr th:only-of-type {\n",
              "        vertical-align: middle;\n",
              "    }\n",
              "\n",
              "    .dataframe tbody tr th {\n",
              "        vertical-align: top;\n",
              "    }\n",
              "\n",
              "    .dataframe thead th {\n",
              "        text-align: right;\n",
              "    }\n",
              "</style>\n",
              "<table border=\"1\" class=\"dataframe\">\n",
              "  <thead>\n",
              "    <tr style=\"text-align: right;\">\n",
              "      <th></th>\n",
              "      <th>Instructor</th>\n",
              "      <th>Pregunta</th>\n",
              "      <th>Valor</th>\n",
              "    </tr>\n",
              "  </thead>\n",
              "  <tbody>\n",
              "    <tr>\n",
              "      <th>0</th>\n",
              "      <td>Q1</td>\n",
              "      <td>S1</td>\n",
              "      <td>7</td>\n",
              "    </tr>\n",
              "    <tr>\n",
              "      <th>1</th>\n",
              "      <td>Q1</td>\n",
              "      <td>S1</td>\n",
              "      <td>5</td>\n",
              "    </tr>\n",
              "    <tr>\n",
              "      <th>3</th>\n",
              "      <td>Q1</td>\n",
              "      <td>S1</td>\n",
              "      <td>5</td>\n",
              "    </tr>\n",
              "    <tr>\n",
              "      <th>4</th>\n",
              "      <td>Q1</td>\n",
              "      <td>S1</td>\n",
              "      <td>6</td>\n",
              "    </tr>\n",
              "    <tr>\n",
              "      <th>5</th>\n",
              "      <td>Q1</td>\n",
              "      <td>S1</td>\n",
              "      <td>6</td>\n",
              "    </tr>\n",
              "    <tr>\n",
              "      <th>...</th>\n",
              "      <td>...</td>\n",
              "      <td>...</td>\n",
              "      <td>...</td>\n",
              "    </tr>\n",
              "    <tr>\n",
              "      <th>415</th>\n",
              "      <td>Q1</td>\n",
              "      <td>S3</td>\n",
              "      <td>7</td>\n",
              "    </tr>\n",
              "    <tr>\n",
              "      <th>416</th>\n",
              "      <td>Q1</td>\n",
              "      <td>S3</td>\n",
              "      <td>6</td>\n",
              "    </tr>\n",
              "    <tr>\n",
              "      <th>417</th>\n",
              "      <td>Q1</td>\n",
              "      <td>S3</td>\n",
              "      <td>6</td>\n",
              "    </tr>\n",
              "    <tr>\n",
              "      <th>418</th>\n",
              "      <td>Q1</td>\n",
              "      <td>S3</td>\n",
              "      <td>6</td>\n",
              "    </tr>\n",
              "    <tr>\n",
              "      <th>419</th>\n",
              "      <td>Q1</td>\n",
              "      <td>S3</td>\n",
              "      <td>5</td>\n",
              "    </tr>\n",
              "  </tbody>\n",
              "</table>\n",
              "<p>69 rows × 3 columns</p>\n",
              "</div>\n",
              "    <div class=\"colab-df-buttons\">\n",
              "\n",
              "  <div class=\"colab-df-container\">\n",
              "    <button class=\"colab-df-convert\" onclick=\"convertToInteractive('df-14e7626c-4137-4f13-84ac-cfc96b62fc0b')\"\n",
              "            title=\"Convert this dataframe to an interactive table.\"\n",
              "            style=\"display:none;\">\n",
              "\n",
              "  <svg xmlns=\"http://www.w3.org/2000/svg\" height=\"24px\" viewBox=\"0 -960 960 960\">\n",
              "    <path d=\"M120-120v-720h720v720H120Zm60-500h600v-160H180v160Zm220 220h160v-160H400v160Zm0 220h160v-160H400v160ZM180-400h160v-160H180v160Zm440 0h160v-160H620v160ZM180-180h160v-160H180v160Zm440 0h160v-160H620v160Z\"/>\n",
              "  </svg>\n",
              "    </button>\n",
              "\n",
              "  <style>\n",
              "    .colab-df-container {\n",
              "      display:flex;\n",
              "      gap: 12px;\n",
              "    }\n",
              "\n",
              "    .colab-df-convert {\n",
              "      background-color: #E8F0FE;\n",
              "      border: none;\n",
              "      border-radius: 50%;\n",
              "      cursor: pointer;\n",
              "      display: none;\n",
              "      fill: #1967D2;\n",
              "      height: 32px;\n",
              "      padding: 0 0 0 0;\n",
              "      width: 32px;\n",
              "    }\n",
              "\n",
              "    .colab-df-convert:hover {\n",
              "      background-color: #E2EBFA;\n",
              "      box-shadow: 0px 1px 2px rgba(60, 64, 67, 0.3), 0px 1px 3px 1px rgba(60, 64, 67, 0.15);\n",
              "      fill: #174EA6;\n",
              "    }\n",
              "\n",
              "    .colab-df-buttons div {\n",
              "      margin-bottom: 4px;\n",
              "    }\n",
              "\n",
              "    [theme=dark] .colab-df-convert {\n",
              "      background-color: #3B4455;\n",
              "      fill: #D2E3FC;\n",
              "    }\n",
              "\n",
              "    [theme=dark] .colab-df-convert:hover {\n",
              "      background-color: #434B5C;\n",
              "      box-shadow: 0px 1px 3px 1px rgba(0, 0, 0, 0.15);\n",
              "      filter: drop-shadow(0px 1px 2px rgba(0, 0, 0, 0.3));\n",
              "      fill: #FFFFFF;\n",
              "    }\n",
              "  </style>\n",
              "\n",
              "    <script>\n",
              "      const buttonEl =\n",
              "        document.querySelector('#df-14e7626c-4137-4f13-84ac-cfc96b62fc0b button.colab-df-convert');\n",
              "      buttonEl.style.display =\n",
              "        google.colab.kernel.accessAllowed ? 'block' : 'none';\n",
              "\n",
              "      async function convertToInteractive(key) {\n",
              "        const element = document.querySelector('#df-14e7626c-4137-4f13-84ac-cfc96b62fc0b');\n",
              "        const dataTable =\n",
              "          await google.colab.kernel.invokeFunction('convertToInteractive',\n",
              "                                                    [key], {});\n",
              "        if (!dataTable) return;\n",
              "\n",
              "        const docLinkHtml = 'Like what you see? Visit the ' +\n",
              "          '<a target=\"_blank\" href=https://colab.research.google.com/notebooks/data_table.ipynb>data table notebook</a>'\n",
              "          + ' to learn more about interactive tables.';\n",
              "        element.innerHTML = '';\n",
              "        dataTable['output_type'] = 'display_data';\n",
              "        await google.colab.output.renderOutput(dataTable, element);\n",
              "        const docLink = document.createElement('div');\n",
              "        docLink.innerHTML = docLinkHtml;\n",
              "        element.appendChild(docLink);\n",
              "      }\n",
              "    </script>\n",
              "  </div>\n",
              "\n",
              "\n",
              "<div id=\"df-508b8e54-77b8-4e16-a720-721bfe486830\">\n",
              "  <button class=\"colab-df-quickchart\" onclick=\"quickchart('df-508b8e54-77b8-4e16-a720-721bfe486830')\"\n",
              "            title=\"Suggest charts\"\n",
              "            style=\"display:none;\">\n",
              "\n",
              "<svg xmlns=\"http://www.w3.org/2000/svg\" height=\"24px\"viewBox=\"0 0 24 24\"\n",
              "     width=\"24px\">\n",
              "    <g>\n",
              "        <path d=\"M19 3H5c-1.1 0-2 .9-2 2v14c0 1.1.9 2 2 2h14c1.1 0 2-.9 2-2V5c0-1.1-.9-2-2-2zM9 17H7v-7h2v7zm4 0h-2V7h2v10zm4 0h-2v-4h2v4z\"/>\n",
              "    </g>\n",
              "</svg>\n",
              "  </button>\n",
              "\n",
              "<style>\n",
              "  .colab-df-quickchart {\n",
              "      --bg-color: #E8F0FE;\n",
              "      --fill-color: #1967D2;\n",
              "      --hover-bg-color: #E2EBFA;\n",
              "      --hover-fill-color: #174EA6;\n",
              "      --disabled-fill-color: #AAA;\n",
              "      --disabled-bg-color: #DDD;\n",
              "  }\n",
              "\n",
              "  [theme=dark] .colab-df-quickchart {\n",
              "      --bg-color: #3B4455;\n",
              "      --fill-color: #D2E3FC;\n",
              "      --hover-bg-color: #434B5C;\n",
              "      --hover-fill-color: #FFFFFF;\n",
              "      --disabled-bg-color: #3B4455;\n",
              "      --disabled-fill-color: #666;\n",
              "  }\n",
              "\n",
              "  .colab-df-quickchart {\n",
              "    background-color: var(--bg-color);\n",
              "    border: none;\n",
              "    border-radius: 50%;\n",
              "    cursor: pointer;\n",
              "    display: none;\n",
              "    fill: var(--fill-color);\n",
              "    height: 32px;\n",
              "    padding: 0;\n",
              "    width: 32px;\n",
              "  }\n",
              "\n",
              "  .colab-df-quickchart:hover {\n",
              "    background-color: var(--hover-bg-color);\n",
              "    box-shadow: 0 1px 2px rgba(60, 64, 67, 0.3), 0 1px 3px 1px rgba(60, 64, 67, 0.15);\n",
              "    fill: var(--button-hover-fill-color);\n",
              "  }\n",
              "\n",
              "  .colab-df-quickchart-complete:disabled,\n",
              "  .colab-df-quickchart-complete:disabled:hover {\n",
              "    background-color: var(--disabled-bg-color);\n",
              "    fill: var(--disabled-fill-color);\n",
              "    box-shadow: none;\n",
              "  }\n",
              "\n",
              "  .colab-df-spinner {\n",
              "    border: 2px solid var(--fill-color);\n",
              "    border-color: transparent;\n",
              "    border-bottom-color: var(--fill-color);\n",
              "    animation:\n",
              "      spin 1s steps(1) infinite;\n",
              "  }\n",
              "\n",
              "  @keyframes spin {\n",
              "    0% {\n",
              "      border-color: transparent;\n",
              "      border-bottom-color: var(--fill-color);\n",
              "      border-left-color: var(--fill-color);\n",
              "    }\n",
              "    20% {\n",
              "      border-color: transparent;\n",
              "      border-left-color: var(--fill-color);\n",
              "      border-top-color: var(--fill-color);\n",
              "    }\n",
              "    30% {\n",
              "      border-color: transparent;\n",
              "      border-left-color: var(--fill-color);\n",
              "      border-top-color: var(--fill-color);\n",
              "      border-right-color: var(--fill-color);\n",
              "    }\n",
              "    40% {\n",
              "      border-color: transparent;\n",
              "      border-right-color: var(--fill-color);\n",
              "      border-top-color: var(--fill-color);\n",
              "    }\n",
              "    60% {\n",
              "      border-color: transparent;\n",
              "      border-right-color: var(--fill-color);\n",
              "    }\n",
              "    80% {\n",
              "      border-color: transparent;\n",
              "      border-right-color: var(--fill-color);\n",
              "      border-bottom-color: var(--fill-color);\n",
              "    }\n",
              "    90% {\n",
              "      border-color: transparent;\n",
              "      border-bottom-color: var(--fill-color);\n",
              "    }\n",
              "  }\n",
              "</style>\n",
              "\n",
              "  <script>\n",
              "    async function quickchart(key) {\n",
              "      const quickchartButtonEl =\n",
              "        document.querySelector('#' + key + ' button');\n",
              "      quickchartButtonEl.disabled = true;  // To prevent multiple clicks.\n",
              "      quickchartButtonEl.classList.add('colab-df-spinner');\n",
              "      try {\n",
              "        const charts = await google.colab.kernel.invokeFunction(\n",
              "            'suggestCharts', [key], {});\n",
              "      } catch (error) {\n",
              "        console.error('Error during call to suggestCharts:', error);\n",
              "      }\n",
              "      quickchartButtonEl.classList.remove('colab-df-spinner');\n",
              "      quickchartButtonEl.classList.add('colab-df-quickchart-complete');\n",
              "    }\n",
              "    (() => {\n",
              "      let quickchartButtonEl =\n",
              "        document.querySelector('#df-508b8e54-77b8-4e16-a720-721bfe486830 button');\n",
              "      quickchartButtonEl.style.display =\n",
              "        google.colab.kernel.accessAllowed ? 'block' : 'none';\n",
              "    })();\n",
              "  </script>\n",
              "</div>\n",
              "\n",
              "    </div>\n",
              "  </div>\n"
            ],
            "application/vnd.google.colaboratory.intrinsic+json": {
              "type": "dataframe",
              "summary": "{\n  \"name\": \"datos_largos_da[datos_largos_da['Instructor'] == 'Q1']\",\n  \"rows\": 69,\n  \"fields\": [\n    {\n      \"column\": \"Instructor\",\n      \"properties\": {\n        \"dtype\": \"category\",\n        \"num_unique_values\": 1,\n        \"samples\": [\n          \"Q1\"\n        ],\n        \"semantic_type\": \"\",\n        \"description\": \"\"\n      }\n    },\n    {\n      \"column\": \"Pregunta\",\n      \"properties\": {\n        \"dtype\": \"category\",\n        \"num_unique_values\": 3,\n        \"samples\": [\n          \"S1\"\n        ],\n        \"semantic_type\": \"\",\n        \"description\": \"\"\n      }\n    },\n    {\n      \"column\": \"Valor\",\n      \"properties\": {\n        \"dtype\": \"number\",\n        \"std\": 0,\n        \"min\": 4,\n        \"max\": 7,\n        \"num_unique_values\": 4,\n        \"samples\": [\n          5\n        ],\n        \"semantic_type\": \"\",\n        \"description\": \"\"\n      }\n    }\n  ]\n}"
            }
          },
          "metadata": {},
          "execution_count": 28
        }
      ]
    },
    {
      "cell_type": "code",
      "source": [
        "#Este codigo despliega los indices de los valores de la columna Instructor \"Q1\" presentes en datos_largos que no se encuentran en datos_largos_da\n",
        "datos_largos[~datos_largos.index.isin(datos_largos_da.index)][datos_largos['Instructor'] == 'Q12'].index"
      ],
      "metadata": {
        "colab": {
          "base_uri": "https://localhost:8080/"
        },
        "id": "y-byRJ5WJwZi",
        "outputId": "6b7bcae4-e495-481f-e4a4-568401783713"
      },
      "execution_count": 34,
      "outputs": [
        {
          "output_type": "stream",
          "name": "stderr",
          "text": [
            "<ipython-input-34-95c93d16ef59>:2: UserWarning:\n",
            "\n",
            "Boolean Series key will be reindexed to match DataFrame index.\n",
            "\n"
          ]
        },
        {
          "output_type": "execute_result",
          "data": {
            "text/plain": [
              "Index([], dtype='int64')"
            ]
          },
          "metadata": {},
          "execution_count": 34
        }
      ]
    },
    {
      "cell_type": "markdown",
      "source": [
        "Cuando en el codigo anterior se reemplza q1 hasta q12: estos son los indices que cambian q1[2,200,398], Q4[65, 263, 461], Q9[346,349,544] y Q11[380]"
      ],
      "metadata": {
        "id": "iurWo-F_NDyw"
      }
    },
    {
      "cell_type": "code",
      "source": [
        "#Ahora debo calcular el valor de mediana de la columna Instructor \"Q1\" presente en datos_largos\n",
        "datos_largos[datos_largos['Instructor'] == 'Q11']['Valor'].median()"
      ],
      "metadata": {
        "colab": {
          "base_uri": "https://localhost:8080/"
        },
        "id": "f7EHT8F5Nddm",
        "outputId": "d7231088-7580-48c1-ebf1-329ebe55336e"
      },
      "execution_count": 30,
      "outputs": [
        {
          "output_type": "execute_result",
          "data": {
            "text/plain": [
              "5.0"
            ]
          },
          "metadata": {},
          "execution_count": 30
        }
      ]
    },
    {
      "cell_type": "markdown",
      "source": [
        "Con el codigo anterior pude sacar los valores de mediana de Q1[6.0], Q4[7.0], Q9[6.0] y Q11[5.0]"
      ],
      "metadata": {
        "id": "oJJVp45TOKrr"
      }
    },
    {
      "cell_type": "code",
      "source": [
        "#Ahora necesito copiar en un dataframe dl_q1(4,9 y 11) copiar los registros con los indices (2,200,398)(65,263,461)(346,349,544)(380) de datos_largos e imprimir dl_q1\n",
        "dl_q11 = datos_largos.loc[[380]]\n",
        "print(dl_q11)"
      ],
      "metadata": {
        "colab": {
          "base_uri": "https://localhost:8080/"
        },
        "id": "2R_qasjtObeM",
        "outputId": "13b7deee-6172-4761-da0e-ba747dd757df"
      },
      "execution_count": 38,
      "outputs": [
        {
          "output_type": "stream",
          "name": "stdout",
          "text": [
            "    Instructor Pregunta  Valor\n",
            "380        Q11       S2      1\n"
          ]
        }
      ]
    },
    {
      "cell_type": "code",
      "source": [
        "#Ahora debo cambiar todos los valores presentes en la columna Valor de dl_q1(4,9 y 11) por el valor 6.0(7,6 y 5)\n",
        "dl_q11['Valor'] = 5.0\n",
        "print(dl_q11)"
      ],
      "metadata": {
        "colab": {
          "base_uri": "https://localhost:8080/"
        },
        "id": "Vrk7rsUHP99T",
        "outputId": "6e6855ac-8f12-417c-e4ae-bba53a99dbf2"
      },
      "execution_count": 42,
      "outputs": [
        {
          "output_type": "stream",
          "name": "stdout",
          "text": [
            "    Instructor Pregunta  Valor\n",
            "380        Q11       S2    5.0\n"
          ]
        }
      ]
    },
    {
      "cell_type": "code",
      "source": [
        "# ahora necesito concatenar dl_q1, dl_q4, dl_q9, dl_q11 y datos_largos_da en un nuevo dataframe datos_largo_dac.\n",
        "datos_largo_dac = pd.concat([datos_largos_da, dl_q1, dl_q4, dl_q9, dl_q11])\n",
        "print(datos_largo_dac)"
      ],
      "metadata": {
        "colab": {
          "base_uri": "https://localhost:8080/"
        },
        "id": "ssBonPG6Q0xC",
        "outputId": "8d86e01a-d612-465a-87ba-8eccc0c40f11"
      },
      "execution_count": 43,
      "outputs": [
        {
          "output_type": "stream",
          "name": "stdout",
          "text": [
            "    Instructor Pregunta  Valor\n",
            "0           Q1       S1    7.0\n",
            "1           Q1       S1    5.0\n",
            "3           Q1       S1    5.0\n",
            "4           Q1       S1    6.0\n",
            "5           Q1       S1    6.0\n",
            "..         ...      ...    ...\n",
            "461         Q4       S3    7.0\n",
            "346         Q9       S2    6.0\n",
            "349         Q9       S2    6.0\n",
            "544         Q9       S3    6.0\n",
            "380        Q11       S2    5.0\n",
            "\n",
            "[594 rows x 3 columns]\n"
          ]
        }
      ]
    },
    {
      "cell_type": "code",
      "source": [
        "#Se compara la info de datos_largos con datos_largos_dac\n",
        "datos_largos.info()\n",
        "datos_largo_dac.info()"
      ],
      "metadata": {
        "colab": {
          "base_uri": "https://localhost:8080/"
        },
        "id": "1blqxMjkSa4p",
        "outputId": "649e92d8-4e62-4d2c-9b89-7fc2c7b79a6b"
      },
      "execution_count": 44,
      "outputs": [
        {
          "output_type": "stream",
          "name": "stdout",
          "text": [
            "<class 'pandas.core.frame.DataFrame'>\n",
            "RangeIndex: 594 entries, 0 to 593\n",
            "Data columns (total 3 columns):\n",
            " #   Column      Non-Null Count  Dtype \n",
            "---  ------      --------------  ----- \n",
            " 0   Instructor  594 non-null    object\n",
            " 1   Pregunta    594 non-null    object\n",
            " 2   Valor       594 non-null    int64 \n",
            "dtypes: int64(1), object(2)\n",
            "memory usage: 14.1+ KB\n",
            "<class 'pandas.core.frame.DataFrame'>\n",
            "Index: 594 entries, 0 to 380\n",
            "Data columns (total 3 columns):\n",
            " #   Column      Non-Null Count  Dtype  \n",
            "---  ------      --------------  -----  \n",
            " 0   Instructor  594 non-null    object \n",
            " 1   Pregunta    594 non-null    object \n",
            " 2   Valor       594 non-null    float64\n",
            "dtypes: float64(1), object(2)\n",
            "memory usage: 18.6+ KB\n"
          ]
        }
      ]
    },
    {
      "cell_type": "code",
      "source": [
        "# el siguiente codigo compara si el dataframe datos_largos es igual o no lo es al dataframe datos_largos_dac\n",
        "datos_largos.equals(datos_largo_dac)"
      ],
      "metadata": {
        "colab": {
          "base_uri": "https://localhost:8080/"
        },
        "id": "bNiMM9WmTKvq",
        "outputId": "3383a972-38ee-4032-d724-ce999aedf56f"
      },
      "execution_count": 45,
      "outputs": [
        {
          "output_type": "execute_result",
          "data": {
            "text/plain": [
              "False"
            ]
          },
          "metadata": {},
          "execution_count": 45
        }
      ]
    },
    {
      "cell_type": "markdown",
      "source": [
        "Ahora que ya tenemos un nuevo dataframe datos_largos_dac en el cual los atipicos de Q1, Q4, Q9 y Q11 se han reemplazado por la mediana. Se procede a comprobar si hay cambios en las cajas y bigotes y sobre todo en el Anova y Test de Tukey"
      ],
      "metadata": {
        "id": "ntU-X2tPTpXw"
      }
    },
    {
      "cell_type": "code",
      "source": [
        "# Este codigo permite comparar en una misma figura los diagramas de cajas y bigotes de los dataframes datos_largos y datos_largos_dac\n",
        "fig = px.box(datos_largos, x='Instructor', y='Valor', title='Boxplot original')\n",
        "fig.add_trace(px.box(datos_largo_dac, x='Instructor', y='Valor', title='Boxplot DEC').data[0])\n",
        "fig.show()"
      ],
      "metadata": {
        "colab": {
          "base_uri": "https://localhost:8080/",
          "height": 542
        },
        "id": "F11iKkx-Tg8j",
        "outputId": "8945f19c-8d81-4333-f84b-426728aca188"
      },
      "execution_count": 46,
      "outputs": [
        {
          "output_type": "display_data",
          "data": {
            "text/html": [
              "<html>\n",
              "<head><meta charset=\"utf-8\" /></head>\n",
              "<body>\n",
              "    <div>            <script src=\"https://cdnjs.cloudflare.com/ajax/libs/mathjax/2.7.5/MathJax.js?config=TeX-AMS-MML_SVG\"></script><script type=\"text/javascript\">if (window.MathJax && window.MathJax.Hub && window.MathJax.Hub.Config) {window.MathJax.Hub.Config({SVG: {font: \"STIX-Web\"}});}</script>                <script type=\"text/javascript\">window.PlotlyConfig = {MathJaxConfig: 'local'};</script>\n",
              "        <script charset=\"utf-8\" src=\"https://cdn.plot.ly/plotly-2.35.2.min.js\"></script>                <div id=\"9f264fad-e382-42d5-a768-3a0496cec486\" class=\"plotly-graph-div\" style=\"height:525px; width:100%;\"></div>            <script type=\"text/javascript\">                                    window.PLOTLYENV=window.PLOTLYENV || {};                                    if (document.getElementById(\"9f264fad-e382-42d5-a768-3a0496cec486\")) {                    Plotly.newPlot(                        \"9f264fad-e382-42d5-a768-3a0496cec486\",                        [{\"alignmentgroup\":\"True\",\"hovertemplate\":\"Instructor=%{x}\\u003cbr\\u003eValor=%{y}\\u003cextra\\u003e\\u003c\\u002fextra\\u003e\",\"legendgroup\":\"\",\"marker\":{\"color\":\"#636efa\"},\"name\":\"\",\"notched\":false,\"offsetgroup\":\"\",\"orientation\":\"v\",\"showlegend\":false,\"x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x0\":\" \",\"xaxis\":\"x\",\"y\":[7,5,1,5,6,6,5,4,6,4,7,7,5,5,5,7,5,6,6,6,7,6,6,4,5,7,4,4,5,5,5,7,5,6,7,5,4,6,2,7,6,6,6,7,7,6,7,6,5,7,5,7,5,6,7,5,7,7,6,6,5,6,6,7,7,1,5,5,7,6,6,7,7,7,5,4,6,7,7,7,7,7,6,6,5,7,7,6,7,7,7,7,5,4,5,5,5,4,4,5,7,5,6,2,7,2,4,7,6,6,7,4,5,3,5,7,5,4,7,7,6,4,4,5,3,5,3,7,6,6,5,4,7,6,7,6,7,7,5,6,4,4,7,6,6,7,6,7,4,7,6,3,6,5,5,7,6,5,6,6,7,6,5,6,5,4,6,6,6,5,5,6,7,5,5,6,6,7,2,5,5,5,2,5,6,7,4,6,5,6,7,6,7,5,5,6,5,6,7,5,1,6,6,6,5,4,6,7,7,7,6,6,5,7,5,7,7,7,7,6,6,7,6,7,7,7,7,5,7,7,6,7,7,7,5,6,2,7,6,7,6,7,7,6,7,6,5,7,7,7,5,7,7,5,7,7,6,6,6,6,7,7,7,1,5,5,7,6,6,7,7,7,7,7,5,7,7,7,7,6,6,6,5,7,7,7,7,7,7,7,5,7,6,6,5,5,6,5,5,5,6,6,7,2,7,7,7,7,6,5,5,3,5,7,5,4,7,7,7,4,6,6,5,6,6,7,6,7,5,4,7,7,7,5,7,7,6,6,5,4,7,6,7,7,7,7,1,7,6,1,7,5,7,7,5,5,7,6,7,6,5,7,6,6,7,6,6,5,5,6,7,5,5,6,7,7,2,5,5,6,1,6,5,7,5,5,5,5,7,4,7,5,6,7,7,6,7,5,1,5,6,5,5,4,5,7,7,6,6,6,5,7,5,7,6,7,6,6,6,5,6,7,4,6,7,5,7,7,5,7,6,6,5,6,2,7,6,5,7,7,6,6,7,6,4,6,7,7,5,7,7,5,7,7,7,6,5,6,6,7,7,1,6,4,6,6,7,7,6,7,6,7,6,7,7,6,7,7,6,6,6,7,7,7,7,7,7,7,5,7,6,6,4,6,6,5,7,5,7,5,7,2,7,7,6,7,6,5,5,4,5,7,5,4,7,7,7,6,6,6,6,6,5,7,6,7,5,4,7,7,7,5,7,7,4,6,4,5,7,6,7,7,7,7,1,6,6,4,7,5,5,7,6,5,7,5,7,6,5,7,6,5,7,6,5,5,6,6,7,5,5,6,4,7,2,5,5,7,4,6,5,6,5,7,5,4,6,7,7,5,6,7,7,6],\"y0\":\" \",\"yaxis\":\"y\",\"type\":\"box\"},{\"alignmentgroup\":\"True\",\"hovertemplate\":\"Instructor=%{x}\\u003cbr\\u003eValor=%{y}\\u003cextra\\u003e\\u003c\\u002fextra\\u003e\",\"legendgroup\":\"\",\"marker\":{\"color\":\"#636efa\"},\"name\":\"\",\"notched\":false,\"offsetgroup\":\"\",\"orientation\":\"v\",\"showlegend\":false,\"x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x0\":\" \",\"xaxis\":\"x\",\"y\":[7.0,5.0,5.0,6.0,6.0,5.0,4.0,6.0,4.0,7.0,7.0,5.0,5.0,5.0,7.0,5.0,6.0,6.0,6.0,7.0,6.0,6.0,4.0,5.0,7.0,4.0,4.0,5.0,5.0,5.0,7.0,5.0,6.0,7.0,5.0,4.0,6.0,2.0,7.0,6.0,6.0,6.0,7.0,7.0,6.0,7.0,6.0,5.0,7.0,5.0,7.0,5.0,6.0,7.0,5.0,7.0,7.0,6.0,6.0,5.0,6.0,6.0,7.0,7.0,5.0,5.0,7.0,6.0,6.0,7.0,7.0,7.0,5.0,4.0,6.0,7.0,7.0,7.0,7.0,7.0,6.0,6.0,5.0,7.0,7.0,6.0,7.0,7.0,7.0,7.0,5.0,4.0,5.0,5.0,5.0,4.0,4.0,5.0,7.0,5.0,6.0,2.0,7.0,2.0,4.0,7.0,6.0,6.0,7.0,4.0,5.0,3.0,5.0,7.0,5.0,4.0,7.0,7.0,6.0,4.0,4.0,5.0,3.0,5.0,3.0,7.0,6.0,6.0,5.0,4.0,7.0,6.0,7.0,6.0,7.0,7.0,5.0,6.0,4.0,4.0,7.0,6.0,6.0,7.0,6.0,7.0,4.0,7.0,6.0,3.0,6.0,5.0,5.0,7.0,6.0,5.0,6.0,6.0,7.0,6.0,5.0,6.0,5.0,4.0,6.0,6.0,6.0,5.0,5.0,6.0,7.0,5.0,5.0,6.0,6.0,7.0,2.0,5.0,5.0,5.0,2.0,5.0,6.0,7.0,4.0,6.0,5.0,6.0,7.0,6.0,7.0,5.0,5.0,6.0,5.0,6.0,7.0,5.0,6.0,6.0,6.0,5.0,4.0,6.0,7.0,7.0,7.0,6.0,6.0,5.0,7.0,5.0,7.0,7.0,7.0,7.0,6.0,6.0,7.0,6.0,7.0,7.0,7.0,7.0,5.0,7.0,7.0,6.0,7.0,7.0,7.0,5.0,6.0,2.0,7.0,6.0,7.0,6.0,7.0,7.0,6.0,7.0,6.0,5.0,7.0,7.0,7.0,5.0,7.0,7.0,5.0,7.0,7.0,6.0,6.0,6.0,6.0,7.0,7.0,7.0,5.0,5.0,7.0,6.0,6.0,7.0,7.0,7.0,7.0,7.0,5.0,7.0,7.0,7.0,7.0,6.0,6.0,6.0,5.0,7.0,7.0,7.0,7.0,7.0,7.0,7.0,5.0,7.0,6.0,6.0,5.0,5.0,6.0,5.0,5.0,5.0,6.0,6.0,7.0,2.0,7.0,7.0,7.0,7.0,6.0,5.0,5.0,3.0,5.0,7.0,5.0,4.0,7.0,7.0,7.0,4.0,6.0,6.0,5.0,6.0,6.0,7.0,6.0,7.0,5.0,4.0,7.0,7.0,7.0,5.0,7.0,7.0,6.0,6.0,5.0,4.0,7.0,6.0,7.0,7.0,7.0,7.0,7.0,6.0,7.0,5.0,7.0,7.0,5.0,5.0,7.0,6.0,7.0,6.0,5.0,7.0,6.0,6.0,7.0,6.0,6.0,5.0,5.0,6.0,7.0,5.0,5.0,6.0,7.0,7.0,2.0,5.0,5.0,6.0,6.0,5.0,7.0,5.0,5.0,5.0,5.0,7.0,4.0,7.0,5.0,6.0,7.0,7.0,6.0,7.0,5.0,5.0,6.0,5.0,5.0,4.0,5.0,7.0,7.0,6.0,6.0,6.0,5.0,7.0,5.0,7.0,6.0,7.0,6.0,6.0,6.0,5.0,6.0,7.0,4.0,6.0,7.0,5.0,7.0,7.0,5.0,7.0,6.0,6.0,5.0,6.0,2.0,7.0,6.0,5.0,7.0,7.0,6.0,6.0,7.0,6.0,4.0,6.0,7.0,7.0,5.0,7.0,7.0,5.0,7.0,7.0,7.0,6.0,5.0,6.0,6.0,7.0,7.0,6.0,4.0,6.0,6.0,7.0,7.0,6.0,7.0,6.0,7.0,6.0,7.0,7.0,6.0,7.0,7.0,6.0,6.0,6.0,7.0,7.0,7.0,7.0,7.0,7.0,7.0,5.0,7.0,6.0,6.0,4.0,6.0,6.0,5.0,7.0,5.0,7.0,5.0,7.0,2.0,7.0,7.0,6.0,7.0,6.0,5.0,5.0,4.0,5.0,7.0,5.0,4.0,7.0,7.0,7.0,6.0,6.0,6.0,6.0,6.0,5.0,7.0,6.0,7.0,5.0,4.0,7.0,7.0,7.0,5.0,7.0,7.0,4.0,6.0,4.0,5.0,7.0,6.0,7.0,7.0,7.0,7.0,6.0,6.0,4.0,7.0,5.0,5.0,7.0,6.0,5.0,7.0,5.0,7.0,6.0,5.0,7.0,6.0,5.0,7.0,6.0,5.0,5.0,6.0,6.0,7.0,5.0,5.0,6.0,4.0,7.0,2.0,5.0,5.0,7.0,4.0,6.0,5.0,6.0,5.0,7.0,5.0,4.0,6.0,7.0,7.0,5.0,6.0,7.0,7.0,6.0,6.0,6.0,6.0,7.0,7.0,7.0,6.0,6.0,6.0,5.0],\"y0\":\" \",\"yaxis\":\"y\",\"type\":\"box\"}],                        {\"template\":{\"data\":{\"histogram2dcontour\":[{\"type\":\"histogram2dcontour\",\"colorbar\":{\"outlinewidth\":0,\"ticks\":\"\"},\"colorscale\":[[0.0,\"#0d0887\"],[0.1111111111111111,\"#46039f\"],[0.2222222222222222,\"#7201a8\"],[0.3333333333333333,\"#9c179e\"],[0.4444444444444444,\"#bd3786\"],[0.5555555555555556,\"#d8576b\"],[0.6666666666666666,\"#ed7953\"],[0.7777777777777778,\"#fb9f3a\"],[0.8888888888888888,\"#fdca26\"],[1.0,\"#f0f921\"]]}],\"choropleth\":[{\"type\":\"choropleth\",\"colorbar\":{\"outlinewidth\":0,\"ticks\":\"\"}}],\"histogram2d\":[{\"type\":\"histogram2d\",\"colorbar\":{\"outlinewidth\":0,\"ticks\":\"\"},\"colorscale\":[[0.0,\"#0d0887\"],[0.1111111111111111,\"#46039f\"],[0.2222222222222222,\"#7201a8\"],[0.3333333333333333,\"#9c179e\"],[0.4444444444444444,\"#bd3786\"],[0.5555555555555556,\"#d8576b\"],[0.6666666666666666,\"#ed7953\"],[0.7777777777777778,\"#fb9f3a\"],[0.8888888888888888,\"#fdca26\"],[1.0,\"#f0f921\"]]}],\"heatmap\":[{\"type\":\"heatmap\",\"colorbar\":{\"outlinewidth\":0,\"ticks\":\"\"},\"colorscale\":[[0.0,\"#0d0887\"],[0.1111111111111111,\"#46039f\"],[0.2222222222222222,\"#7201a8\"],[0.3333333333333333,\"#9c179e\"],[0.4444444444444444,\"#bd3786\"],[0.5555555555555556,\"#d8576b\"],[0.6666666666666666,\"#ed7953\"],[0.7777777777777778,\"#fb9f3a\"],[0.8888888888888888,\"#fdca26\"],[1.0,\"#f0f921\"]]}],\"heatmapgl\":[{\"type\":\"heatmapgl\",\"colorbar\":{\"outlinewidth\":0,\"ticks\":\"\"},\"colorscale\":[[0.0,\"#0d0887\"],[0.1111111111111111,\"#46039f\"],[0.2222222222222222,\"#7201a8\"],[0.3333333333333333,\"#9c179e\"],[0.4444444444444444,\"#bd3786\"],[0.5555555555555556,\"#d8576b\"],[0.6666666666666666,\"#ed7953\"],[0.7777777777777778,\"#fb9f3a\"],[0.8888888888888888,\"#fdca26\"],[1.0,\"#f0f921\"]]}],\"contourcarpet\":[{\"type\":\"contourcarpet\",\"colorbar\":{\"outlinewidth\":0,\"ticks\":\"\"}}],\"contour\":[{\"type\":\"contour\",\"colorbar\":{\"outlinewidth\":0,\"ticks\":\"\"},\"colorscale\":[[0.0,\"#0d0887\"],[0.1111111111111111,\"#46039f\"],[0.2222222222222222,\"#7201a8\"],[0.3333333333333333,\"#9c179e\"],[0.4444444444444444,\"#bd3786\"],[0.5555555555555556,\"#d8576b\"],[0.6666666666666666,\"#ed7953\"],[0.7777777777777778,\"#fb9f3a\"],[0.8888888888888888,\"#fdca26\"],[1.0,\"#f0f921\"]]}],\"surface\":[{\"type\":\"surface\",\"colorbar\":{\"outlinewidth\":0,\"ticks\":\"\"},\"colorscale\":[[0.0,\"#0d0887\"],[0.1111111111111111,\"#46039f\"],[0.2222222222222222,\"#7201a8\"],[0.3333333333333333,\"#9c179e\"],[0.4444444444444444,\"#bd3786\"],[0.5555555555555556,\"#d8576b\"],[0.6666666666666666,\"#ed7953\"],[0.7777777777777778,\"#fb9f3a\"],[0.8888888888888888,\"#fdca26\"],[1.0,\"#f0f921\"]]}],\"mesh3d\":[{\"type\":\"mesh3d\",\"colorbar\":{\"outlinewidth\":0,\"ticks\":\"\"}}],\"scatter\":[{\"fillpattern\":{\"fillmode\":\"overlay\",\"size\":10,\"solidity\":0.2},\"type\":\"scatter\"}],\"parcoords\":[{\"type\":\"parcoords\",\"line\":{\"colorbar\":{\"outlinewidth\":0,\"ticks\":\"\"}}}],\"scatterpolargl\":[{\"type\":\"scatterpolargl\",\"marker\":{\"colorbar\":{\"outlinewidth\":0,\"ticks\":\"\"}}}],\"bar\":[{\"error_x\":{\"color\":\"#2a3f5f\"},\"error_y\":{\"color\":\"#2a3f5f\"},\"marker\":{\"line\":{\"color\":\"#E5ECF6\",\"width\":0.5},\"pattern\":{\"fillmode\":\"overlay\",\"size\":10,\"solidity\":0.2}},\"type\":\"bar\"}],\"scattergeo\":[{\"type\":\"scattergeo\",\"marker\":{\"colorbar\":{\"outlinewidth\":0,\"ticks\":\"\"}}}],\"scatterpolar\":[{\"type\":\"scatterpolar\",\"marker\":{\"colorbar\":{\"outlinewidth\":0,\"ticks\":\"\"}}}],\"histogram\":[{\"marker\":{\"pattern\":{\"fillmode\":\"overlay\",\"size\":10,\"solidity\":0.2}},\"type\":\"histogram\"}],\"scattergl\":[{\"type\":\"scattergl\",\"marker\":{\"colorbar\":{\"outlinewidth\":0,\"ticks\":\"\"}}}],\"scatter3d\":[{\"type\":\"scatter3d\",\"line\":{\"colorbar\":{\"outlinewidth\":0,\"ticks\":\"\"}},\"marker\":{\"colorbar\":{\"outlinewidth\":0,\"ticks\":\"\"}}}],\"scattermapbox\":[{\"type\":\"scattermapbox\",\"marker\":{\"colorbar\":{\"outlinewidth\":0,\"ticks\":\"\"}}}],\"scatterternary\":[{\"type\":\"scatterternary\",\"marker\":{\"colorbar\":{\"outlinewidth\":0,\"ticks\":\"\"}}}],\"scattercarpet\":[{\"type\":\"scattercarpet\",\"marker\":{\"colorbar\":{\"outlinewidth\":0,\"ticks\":\"\"}}}],\"carpet\":[{\"aaxis\":{\"endlinecolor\":\"#2a3f5f\",\"gridcolor\":\"white\",\"linecolor\":\"white\",\"minorgridcolor\":\"white\",\"startlinecolor\":\"#2a3f5f\"},\"baxis\":{\"endlinecolor\":\"#2a3f5f\",\"gridcolor\":\"white\",\"linecolor\":\"white\",\"minorgridcolor\":\"white\",\"startlinecolor\":\"#2a3f5f\"},\"type\":\"carpet\"}],\"table\":[{\"cells\":{\"fill\":{\"color\":\"#EBF0F8\"},\"line\":{\"color\":\"white\"}},\"header\":{\"fill\":{\"color\":\"#C8D4E3\"},\"line\":{\"color\":\"white\"}},\"type\":\"table\"}],\"barpolar\":[{\"marker\":{\"line\":{\"color\":\"#E5ECF6\",\"width\":0.5},\"pattern\":{\"fillmode\":\"overlay\",\"size\":10,\"solidity\":0.2}},\"type\":\"barpolar\"}],\"pie\":[{\"automargin\":true,\"type\":\"pie\"}]},\"layout\":{\"autotypenumbers\":\"strict\",\"colorway\":[\"#636efa\",\"#EF553B\",\"#00cc96\",\"#ab63fa\",\"#FFA15A\",\"#19d3f3\",\"#FF6692\",\"#B6E880\",\"#FF97FF\",\"#FECB52\"],\"font\":{\"color\":\"#2a3f5f\"},\"hovermode\":\"closest\",\"hoverlabel\":{\"align\":\"left\"},\"paper_bgcolor\":\"white\",\"plot_bgcolor\":\"#E5ECF6\",\"polar\":{\"bgcolor\":\"#E5ECF6\",\"angularaxis\":{\"gridcolor\":\"white\",\"linecolor\":\"white\",\"ticks\":\"\"},\"radialaxis\":{\"gridcolor\":\"white\",\"linecolor\":\"white\",\"ticks\":\"\"}},\"ternary\":{\"bgcolor\":\"#E5ECF6\",\"aaxis\":{\"gridcolor\":\"white\",\"linecolor\":\"white\",\"ticks\":\"\"},\"baxis\":{\"gridcolor\":\"white\",\"linecolor\":\"white\",\"ticks\":\"\"},\"caxis\":{\"gridcolor\":\"white\",\"linecolor\":\"white\",\"ticks\":\"\"}},\"coloraxis\":{\"colorbar\":{\"outlinewidth\":0,\"ticks\":\"\"}},\"colorscale\":{\"sequential\":[[0.0,\"#0d0887\"],[0.1111111111111111,\"#46039f\"],[0.2222222222222222,\"#7201a8\"],[0.3333333333333333,\"#9c179e\"],[0.4444444444444444,\"#bd3786\"],[0.5555555555555556,\"#d8576b\"],[0.6666666666666666,\"#ed7953\"],[0.7777777777777778,\"#fb9f3a\"],[0.8888888888888888,\"#fdca26\"],[1.0,\"#f0f921\"]],\"sequentialminus\":[[0.0,\"#0d0887\"],[0.1111111111111111,\"#46039f\"],[0.2222222222222222,\"#7201a8\"],[0.3333333333333333,\"#9c179e\"],[0.4444444444444444,\"#bd3786\"],[0.5555555555555556,\"#d8576b\"],[0.6666666666666666,\"#ed7953\"],[0.7777777777777778,\"#fb9f3a\"],[0.8888888888888888,\"#fdca26\"],[1.0,\"#f0f921\"]],\"diverging\":[[0,\"#8e0152\"],[0.1,\"#c51b7d\"],[0.2,\"#de77ae\"],[0.3,\"#f1b6da\"],[0.4,\"#fde0ef\"],[0.5,\"#f7f7f7\"],[0.6,\"#e6f5d0\"],[0.7,\"#b8e186\"],[0.8,\"#7fbc41\"],[0.9,\"#4d9221\"],[1,\"#276419\"]]},\"xaxis\":{\"gridcolor\":\"white\",\"linecolor\":\"white\",\"ticks\":\"\",\"title\":{\"standoff\":15},\"zerolinecolor\":\"white\",\"automargin\":true,\"zerolinewidth\":2},\"yaxis\":{\"gridcolor\":\"white\",\"linecolor\":\"white\",\"ticks\":\"\",\"title\":{\"standoff\":15},\"zerolinecolor\":\"white\",\"automargin\":true,\"zerolinewidth\":2},\"scene\":{\"xaxis\":{\"backgroundcolor\":\"#E5ECF6\",\"gridcolor\":\"white\",\"linecolor\":\"white\",\"showbackground\":true,\"ticks\":\"\",\"zerolinecolor\":\"white\",\"gridwidth\":2},\"yaxis\":{\"backgroundcolor\":\"#E5ECF6\",\"gridcolor\":\"white\",\"linecolor\":\"white\",\"showbackground\":true,\"ticks\":\"\",\"zerolinecolor\":\"white\",\"gridwidth\":2},\"zaxis\":{\"backgroundcolor\":\"#E5ECF6\",\"gridcolor\":\"white\",\"linecolor\":\"white\",\"showbackground\":true,\"ticks\":\"\",\"zerolinecolor\":\"white\",\"gridwidth\":2}},\"shapedefaults\":{\"line\":{\"color\":\"#2a3f5f\"}},\"annotationdefaults\":{\"arrowcolor\":\"#2a3f5f\",\"arrowhead\":0,\"arrowwidth\":1},\"geo\":{\"bgcolor\":\"white\",\"landcolor\":\"#E5ECF6\",\"subunitcolor\":\"white\",\"showland\":true,\"showlakes\":true,\"lakecolor\":\"white\"},\"title\":{\"x\":0.05},\"mapbox\":{\"style\":\"light\"}}},\"xaxis\":{\"anchor\":\"y\",\"domain\":[0.0,1.0],\"title\":{\"text\":\"Instructor\"}},\"yaxis\":{\"anchor\":\"x\",\"domain\":[0.0,1.0],\"title\":{\"text\":\"Valor\"}},\"legend\":{\"tracegroupgap\":0},\"title\":{\"text\":\"Boxplot original\"},\"boxmode\":\"group\"},                        {\"responsive\": true}                    ).then(function(){\n",
              "                            \n",
              "var gd = document.getElementById('9f264fad-e382-42d5-a768-3a0496cec486');\n",
              "var x = new MutationObserver(function (mutations, observer) {{\n",
              "        var display = window.getComputedStyle(gd).display;\n",
              "        if (!display || display === 'none') {{\n",
              "            console.log([gd, 'removed!']);\n",
              "            Plotly.purge(gd);\n",
              "            observer.disconnect();\n",
              "        }}\n",
              "}});\n",
              "\n",
              "// Listen for the removal of the full notebook cells\n",
              "var notebookContainer = gd.closest('#notebook-container');\n",
              "if (notebookContainer) {{\n",
              "    x.observe(notebookContainer, {childList: true});\n",
              "}}\n",
              "\n",
              "// Listen for the clearing of the current output cell\n",
              "var outputEl = gd.closest('.output');\n",
              "if (outputEl) {{\n",
              "    x.observe(outputEl, {childList: true});\n",
              "}}\n",
              "\n",
              "                        })                };                            </script>        </div>\n",
              "</body>\n",
              "</html>"
            ]
          },
          "metadata": {}
        }
      ]
    },
    {
      "cell_type": "markdown",
      "source": [
        "Efectivamente hay diferencias, ahora veremos que nos dice el anova y posterior, espero, test de tukey de datos_largos_dac"
      ],
      "metadata": {
        "id": "OD5pULE5U6Vv"
      }
    },
    {
      "cell_type": "code",
      "source": [
        "#Este codigo permite realizar una prueba anova de diferencias significativas de la columna Instructor en datos_largos_dac\n",
        "# e imprime los resultados\n",
        "modelo4 = ols('Valor ~ C(Instructor)', data=datos_largo_dac).fit()\n",
        "anova_resultado4 = anova_lm(modelo4, typ=2)\n",
        "print(\"\\nResultados de ANOVA DEC:\")\n",
        "print(anova_resultado4)"
      ],
      "metadata": {
        "colab": {
          "base_uri": "https://localhost:8080/"
        },
        "id": "F5K89PA7Ubxy",
        "outputId": "9288bbd0-c54f-4751-afa9-cd3a544c4e83"
      },
      "execution_count": 47,
      "outputs": [
        {
          "output_type": "stream",
          "name": "stdout",
          "text": [
            "\n",
            "Resultados de ANOVA DEC:\n",
            "                   sum_sq     df         F        PR(>F)\n",
            "C(Instructor)   73.673655   11.0  5.815891  5.638466e-09\n",
            "Residual       670.233752  582.0       NaN           NaN\n"
          ]
        }
      ]
    },
    {
      "cell_type": "markdown",
      "source": [
        "Efectivamente hay diferencias significativas, ahora averiguaremos entre que parejas de instructores para datos_largos_dac"
      ],
      "metadata": {
        "id": "OK89k3l3Vebm"
      }
    },
    {
      "cell_type": "code",
      "source": [
        "#este codigo permite generar un test de tukey a datos_largos_dac\n",
        "tukey_resultado = pairwise_tukeyhsd(endog=datos_largo_dac['Valor'], groups=datos_largo_dac['Instructor'], alpha=0.05)\n",
        "print(\"\\nResultados de Tukey HSD: datos_largos_dac\")\n",
        "print(tukey_resultado)"
      ],
      "metadata": {
        "colab": {
          "base_uri": "https://localhost:8080/"
        },
        "id": "VvXoU_-LVraX",
        "outputId": "e562f599-b0dc-4b39-b4ed-1cc7428b7666"
      },
      "execution_count": 48,
      "outputs": [
        {
          "output_type": "stream",
          "name": "stdout",
          "text": [
            "\n",
            "Resultados de Tukey HSD: datos_largos_dac\n",
            "Multiple Comparison of Means - Tukey HSD, FWER=0.05 \n",
            "====================================================\n",
            "group1 group2 meandiff p-adj   lower   upper  reject\n",
            "----------------------------------------------------\n",
            "    Q1    Q10  -0.0741    1.0  -0.708  0.5599  False\n",
            "    Q1    Q11  -0.5794 0.1911 -1.2631  0.1044  False\n",
            "    Q1    Q12  -0.0171    1.0 -0.7172   0.683  False\n",
            "    Q1     Q2  -0.1046    1.0 -0.7491  0.5399  False\n",
            "    Q1     Q3   0.3778 0.9014 -0.3874   1.143  False\n",
            "    Q1     Q4   0.4444 0.2823 -0.1166  1.0055  False\n",
            "    Q1     Q5   0.6239 0.1351 -0.0762  1.3241  False\n",
            "    Q1     Q6  -0.4949 0.5547 -1.2352  0.2453  False\n",
            "    Q1     Q7     -0.4 0.7193 -1.0692  0.2692  False\n",
            "    Q1     Q8  -0.2735 0.9812 -0.9736  0.4266  False\n",
            "    Q1     Q9    0.254 0.9684 -0.3535  0.8615  False\n",
            "   Q10    Q11  -0.5053 0.4859 -1.2298  0.2192  False\n",
            "   Q10    Q12    0.057    1.0  -0.683   0.797  False\n",
            "   Q10     Q2  -0.0305    1.0 -0.7181  0.6571  False\n",
            "   Q10     Q3   0.4519 0.7898   -0.35  1.2537  False\n",
            "   Q10     Q4   0.5185 0.1874 -0.0915  1.1286  False\n",
            "   Q10     Q5    0.698 0.0859  -0.042   1.438  False\n",
            "   Q10     Q6  -0.4209 0.8311  -1.199  0.3572  False\n",
            "   Q10     Q7  -0.3259 0.9391 -1.0367  0.3848  False\n",
            "   Q10     Q8  -0.1994 0.9992 -0.9394  0.5406  False\n",
            "   Q10     Q9    0.328 0.8902  -0.325  0.9811  False\n",
            "   Q11    Q12   0.5623 0.4379 -0.2208  1.3453  False\n",
            "   Q11     Q2   0.4748 0.6062  -0.259  1.2085  False\n",
            "   Q11     Q3   0.9571 0.0112  0.1154  1.7989   True\n",
            "   Q11     Q4   1.0238    0.0  0.3622  1.6855   True\n",
            "   Q11     Q5   1.2033    0.0  0.4202  1.9864   True\n",
            "   Q11     Q6   0.0844    1.0 -0.7347  0.9036  False\n",
            "   Q11     Q7   0.1794 0.9998 -0.5762  0.9349  False\n",
            "   Q11     Q8   0.3059 0.9812 -0.4772  1.0889  False\n",
            "   Q11     Q9   0.8333  0.006  0.1319  1.5348   True\n",
            "   Q12     Q2  -0.0875    1.0 -0.8365  0.6616  False\n",
            "   Q12     Q3   0.3949 0.9361 -0.4603    1.25  False\n",
            "   Q12     Q4   0.4615 0.5271 -0.2171  1.1401  False\n",
            "   Q12     Q5    0.641 0.2611 -0.1564  1.4385  False\n",
            "   Q12     Q6  -0.4779 0.7697 -1.3108   0.355  False\n",
            "   Q12     Q7  -0.3829 0.8971 -1.1533  0.3875  False\n",
            "   Q12     Q8  -0.2564 0.9963 -1.0539   0.541  False\n",
            "   Q12     Q9   0.2711 0.9855 -0.4464  0.9886  False\n",
            "    Q2     Q3   0.4824 0.7246 -0.3279  1.2926  False\n",
            "    Q2     Q4    0.549 0.1432  -0.072    1.17  False\n",
            "    Q2     Q5   0.7285 0.0653 -0.0206  1.4776  False\n",
            "    Q2     Q6  -0.3904 0.8982 -1.1771  0.3963  False\n",
            "    Q2     Q7  -0.2954 0.9726 -1.0156  0.4248  False\n",
            "    Q2     Q8  -0.1689 0.9999  -0.918  0.5801  False\n",
            "    Q2     Q9   0.3585 0.8317 -0.3048  1.0218  False\n",
            "    Q3     Q4   0.0667    1.0 -0.6789  0.8122  False\n",
            "    Q3     Q5   0.2462 0.9986  -0.609  1.1013  False\n",
            "    Q3     Q6  -0.8727 0.0594  -1.761  0.0156  False\n",
            "    Q3     Q7  -0.7778 0.0908 -1.6078  0.0522  False\n",
            "    Q3     Q8  -0.6513 0.3425 -1.5064  0.2039  False\n",
            "    Q3     Q9  -0.1238    1.0 -0.9049  0.6573  False\n",
            "    Q4     Q5   0.1795 0.9994 -0.4991  0.8581  False\n",
            "    Q4     Q6  -0.9394 0.0013 -1.6593 -0.2195   True\n",
            "    Q4     Q7  -0.8444 0.0013  -1.491 -0.1978   True\n",
            "    Q4     Q8  -0.7179 0.0274 -1.3965 -0.0394   True\n",
            "    Q4     Q9  -0.1905 0.9957  -0.773  0.3921  False\n",
            "    Q5     Q6  -1.1189 0.0008 -1.9518  -0.286   True\n",
            "    Q5     Q7  -1.0239 0.0009 -1.7943 -0.2535   True\n",
            "    Q5     Q8  -0.8974 0.0129 -1.6949    -0.1   True\n",
            "    Q5     Q9    -0.37 0.8715 -1.0875  0.3475  False\n",
            "    Q6     Q7   0.0949    1.0 -0.7121   0.902  False\n",
            "    Q6     Q8   0.2214 0.9993 -0.6115  1.0543  False\n",
            "    Q6     Q9   0.7489 0.0553 -0.0078  1.5056  False\n",
            "    Q7     Q8   0.1265    1.0 -0.6439  0.8969  False\n",
            "    Q7     Q9    0.654 0.0796 -0.0333  1.3413  False\n",
            "    Q8     Q9   0.5275 0.3992   -0.19   1.245  False\n",
            "----------------------------------------------------\n"
          ]
        }
      ]
    },
    {
      "cell_type": "markdown",
      "source": [
        "Conclusion: el analisis de tukey de datos_largos_dac donde los atipicos eliminados con DE y reemplazados por la mediana, dieron el mismo conjunto parejas que el analisis de tukey de datos_largos_da. Fueron en total 10 parejas, 4 mas que las obtenidas con datos_largos(donde no se han retirado los atipicos).Estas son las 10 comparaciones:\n",
        "\n",
        "Q11-(Q3,Q4,Q5,Q9)\n",
        "Q4-(Q6,Q7,Q8)\n",
        "Q5-(Q6,Q7,Q8)"
      ],
      "metadata": {
        "id": "1j8S_EZ3XtkL"
      }
    },
    {
      "cell_type": "markdown",
      "source": [
        "TEST DE NORMALIDAD"
      ],
      "metadata": {
        "id": "BwbhiINCS190"
      }
    },
    {
      "cell_type": "code",
      "source": [
        "#El siguiente codigo me permite realizar un test de normalidad a los datos de cada instrcutor (Q1 a Q12) presentes en el\n",
        "#dataframe datos_largos, y para cada instructor (Q1 a Q12) me despliega si la distribución es normal o no.\n",
        "import scipy.stats as stats\n",
        "for instructor in ['Q1', 'Q2', 'Q3', 'Q4', 'Q5', 'Q6', 'Q7', 'Q8', 'Q9', 'Q10', 'Q11', 'Q12']:\n",
        "    data = datos_largos[datos_largos['Instructor'] == instructor]['Valor']\n",
        "    p_value = stats.shapiro(data)\n",
        "    if p_value.pvalue > 0.05:\n",
        "      print(f\"La distribución de {instructor} es normal (p-value = {p_value.pvalue:.4f})\")\n",
        "    else:\n",
        "      print(f\"La distribución de {instructor} no es normal (p-value = {p_value.pvalue:.4f})\")"
      ],
      "metadata": {
        "colab": {
          "base_uri": "https://localhost:8080/"
        },
        "id": "mHSDCpq8S53N",
        "outputId": "64e40ae3-f8c6-459b-f1e5-822271218710"
      },
      "execution_count": 58,
      "outputs": [
        {
          "output_type": "stream",
          "name": "stdout",
          "text": [
            "La distribución de Q1 no es normal (p-value = 0.0000)\n",
            "La distribución de Q2 no es normal (p-value = 0.0000)\n",
            "La distribución de Q3 no es normal (p-value = 0.0000)\n",
            "La distribución de Q4 no es normal (p-value = 0.0000)\n",
            "La distribución de Q5 no es normal (p-value = 0.0000)\n",
            "La distribución de Q6 no es normal (p-value = 0.0023)\n",
            "La distribución de Q7 no es normal (p-value = 0.0000)\n",
            "La distribución de Q8 no es normal (p-value = 0.0006)\n",
            "La distribución de Q9 no es normal (p-value = 0.0000)\n",
            "La distribución de Q10 no es normal (p-value = 0.0000)\n",
            "La distribución de Q11 no es normal (p-value = 0.0000)\n",
            "La distribución de Q12 no es normal (p-value = 0.0001)\n"
          ]
        }
      ]
    },
    {
      "cell_type": "markdown",
      "source": [
        "El resultado anterior era de esperar los datos en escala de likert no siguen una distribucion normal, sera que los datos de datos_largos_dac si lo haran, no lo espero..."
      ],
      "metadata": {
        "id": "k6TEbwTVjZ4m"
      }
    },
    {
      "cell_type": "code",
      "source": [
        "#El siguiente codigo me permite realizar un test de normalidad a los datos de cada instrcutor (Q1 a Q12) presentes en el\n",
        "#dataframe datos_largo_dac, y para cada instructor (Q1 a Q12) me despliega si la distribución es normal o no.\n",
        "#import scipy.stats as stats\n",
        "for instructor in ['Q1', 'Q2', 'Q3', 'Q4', 'Q5', 'Q6', 'Q7', 'Q8', 'Q9', 'Q10', 'Q11', 'Q12']:\n",
        "    data_dac = datos_largo_dac[datos_largo_dac['Instructor'] == instructor]['Valor']\n",
        "    p_value_dac = stats.shapiro(data_dac)\n",
        "    if p_value_dac.pvalue > 0.05:\n",
        "      print(f\"La distribución de {instructor} es normal (p-value = {p_value_dac.pvalue:.4f})\")\n",
        "    else:\n",
        "      print(f\"La distribución de {instructor} no es normal (p-value = {p_value_dac.pvalue:.4f})\")\n"
      ],
      "metadata": {
        "colab": {
          "base_uri": "https://localhost:8080/"
        },
        "id": "5j3bEPQGchiy",
        "outputId": "81732cef-1976-4bec-f89a-9405e00bc3e3"
      },
      "execution_count": 61,
      "outputs": [
        {
          "output_type": "stream",
          "name": "stdout",
          "text": [
            "La distribución de Q1 no es normal (p-value = 0.0000)\n",
            "La distribución de Q2 no es normal (p-value = 0.0000)\n",
            "La distribución de Q3 no es normal (p-value = 0.0000)\n",
            "La distribución de Q4 no es normal (p-value = 0.0000)\n",
            "La distribución de Q5 no es normal (p-value = 0.0000)\n",
            "La distribución de Q6 no es normal (p-value = 0.0023)\n",
            "La distribución de Q7 no es normal (p-value = 0.0000)\n",
            "La distribución de Q8 no es normal (p-value = 0.0006)\n",
            "La distribución de Q9 no es normal (p-value = 0.0000)\n",
            "La distribución de Q10 no es normal (p-value = 0.0000)\n",
            "La distribución de Q11 no es normal (p-value = 0.0000)\n",
            "La distribución de Q12 no es normal (p-value = 0.0001)\n"
          ]
        }
      ]
    },
    {
      "cell_type": "markdown",
      "source": [
        "Ambas estrcutura de los datos de presencia social de los 12 instrcutores: crudos (datos_largo) y sin_atipicos(datos_largo_dac) presentan distribucion no normal, lo que implica que de ahora en adelante se deben usar pruebas no paramétricas."
      ],
      "metadata": {
        "id": "W8Q1zz3EMAu9"
      }
    },
    {
      "cell_type": "markdown",
      "source": [
        "PRUEBAS NO PARAMETRICAS"
      ],
      "metadata": {
        "id": "TmoEXfGUNpBY"
      }
    },
    {
      "cell_type": "markdown",
      "source": [
        "A. MEDIDAS DE PS SIN ATIPICOS"
      ],
      "metadata": {
        "id": "uxOkR68ZMZ3G"
      }
    },
    {
      "cell_type": "markdown",
      "source": [
        "Ahora realizaremos una prueba parametrica de Kruskal Wallis con el fin de identificar si hay diferencias significativas entre los 12 instructores presentes en la estrcutura datos_largo_dac, la cual fue filtrada de atipicos y reemplazados por la mediana:"
      ],
      "metadata": {
        "id": "JxfvM-7n4-If"
      }
    },
    {
      "cell_type": "code",
      "source": [
        "#Este codigo permite realizar una prueba kruskal wallis de diferencias significativas de la columna Instructor en datos_largo_dac\n",
        "# e imprime los resultados\n",
        "kruskal_resultado = stats.kruskal(*[datos_largo_dac[datos_largo_dac['Instructor'] == instructor]['Valor'] for instructor in ['Q1', 'Q2', 'Q3', 'Q4', 'Q5', 'Q6', 'Q7', 'Q8', 'Q9', 'Q10', 'Q11', 'Q12']])\n",
        "print(\"\\nResultados de Kruskal Wallis:\")\n",
        "print(kruskal_resultado)"
      ],
      "metadata": {
        "colab": {
          "base_uri": "https://localhost:8080/"
        },
        "id": "_C-N8osK5Oaw",
        "outputId": "195201e5-30cf-41bd-f375-830d9b5591c1"
      },
      "execution_count": 62,
      "outputs": [
        {
          "output_type": "stream",
          "name": "stdout",
          "text": [
            "\n",
            "Resultados de Kruskal Wallis:\n",
            "KruskalResult(statistic=57.81341001181173, pvalue=2.3556441673160497e-08)\n"
          ]
        }
      ]
    },
    {
      "cell_type": "markdown",
      "source": [
        "El resultado indica que si hay diferencias sigificativas, ahora toca averiguar cual es el correspondiente post test"
      ],
      "metadata": {
        "id": "0EnnumGS7Y2p"
      }
    },
    {
      "cell_type": "code",
      "source": [
        "#Este codigo organiza una prueba post-hoc (especificamente un test de Dunn con corrección de Bonferroni) para las 66 combinaciones\n",
        "#de los 12 instructores presentes en el dataframe datos_largo_dac.Al final imprime los resultados estadisticos relevantes\n",
        "#solamente de las parejas de instructores con diferencias significativas:\n",
        "#%pip install scikit_posthocs\n",
        "import scikit_posthocs as sp\n",
        "post_hoc_Dunn = sp.posthoc_dunn(datos_largo_dac, val_col='Valor', group_col='Instructor', p_adjust='bonferroni')\n",
        "print(\"\\nResultados de Post-Hoc (Dunn con Bonferroni):\")\n",
        "print(post_hoc_Dunn)"
      ],
      "metadata": {
        "colab": {
          "base_uri": "https://localhost:8080/"
        },
        "id": "h_xJVqvR9Jl4",
        "outputId": "326a1baa-dac3-4c55-b085-3807b87321a5"
      },
      "execution_count": 68,
      "outputs": [
        {
          "output_type": "stream",
          "name": "stdout",
          "text": [
            "\n",
            "Resultados de Post-Hoc (Dunn con Bonferroni):\n",
            "           Q1       Q10       Q11       Q12        Q2        Q3        Q4  \\\n",
            "Q1   1.000000  1.000000  1.000000  1.000000  1.000000  1.000000  0.207031   \n",
            "Q10  1.000000  1.000000  1.000000  1.000000  1.000000  1.000000  0.059303   \n",
            "Q11  1.000000  1.000000  1.000000  1.000000  1.000000  0.075038  0.000339   \n",
            "Q12  1.000000  1.000000  1.000000  1.000000  1.000000  1.000000  0.931511   \n",
            "Q2   1.000000  1.000000  1.000000  1.000000  1.000000  1.000000  1.000000   \n",
            "Q3   1.000000  1.000000  0.075038  1.000000  1.000000  1.000000  1.000000   \n",
            "Q4   0.207031  0.059303  0.000339  0.931511  1.000000  1.000000  1.000000   \n",
            "Q5   0.060476  0.018397  0.000172  0.230421  0.298338  1.000000  1.000000   \n",
            "Q6   1.000000  1.000000  1.000000  1.000000  1.000000  0.080675  0.000801   \n",
            "Q7   1.000000  1.000000  1.000000  1.000000  1.000000  1.000000  0.068335   \n",
            "Q8   1.000000  1.000000  1.000000  1.000000  1.000000  1.000000  0.054547   \n",
            "Q9   1.000000  1.000000  0.020984  1.000000  1.000000  1.000000  1.000000   \n",
            "\n",
            "           Q5        Q6        Q7        Q8        Q9  \n",
            "Q1   0.060476  1.000000  1.000000  1.000000  1.000000  \n",
            "Q10  0.018397  1.000000  1.000000  1.000000  1.000000  \n",
            "Q11  0.000172  1.000000  1.000000  1.000000  0.020984  \n",
            "Q12  0.230421  1.000000  1.000000  1.000000  1.000000  \n",
            "Q2   0.298338  1.000000  1.000000  1.000000  1.000000  \n",
            "Q3   1.000000  0.080675  1.000000  1.000000  1.000000  \n",
            "Q4   1.000000  0.000801  0.068335  0.054547  1.000000  \n",
            "Q5   1.000000  0.000309  0.019824  0.015535  1.000000  \n",
            "Q6   0.000309  1.000000  1.000000  1.000000  0.029195  \n",
            "Q7   0.019824  1.000000  1.000000  1.000000  1.000000  \n",
            "Q8   0.015535  1.000000  1.000000  1.000000  0.872388  \n",
            "Q9   1.000000  0.029195  1.000000  0.872388  1.000000  \n"
          ]
        }
      ]
    },
    {
      "cell_type": "code",
      "source": [
        "#Este codigo imprime las parejas presentes en post_hoc_Duun cuyo valor sea menor a 0.05\n",
        "print(post_hoc_Dunn[post_hoc_Dunn < 0.05])"
      ],
      "metadata": {
        "colab": {
          "base_uri": "https://localhost:8080/"
        },
        "id": "kyvdsMupJGdM",
        "outputId": "ad615f18-d5e7-449f-c45e-ceef054566d7"
      },
      "execution_count": 69,
      "outputs": [
        {
          "output_type": "stream",
          "name": "stdout",
          "text": [
            "     Q1       Q10       Q11  Q12  Q2  Q3        Q4        Q5        Q6  \\\n",
            "Q1  NaN       NaN       NaN  NaN NaN NaN       NaN       NaN       NaN   \n",
            "Q10 NaN       NaN       NaN  NaN NaN NaN       NaN  0.018397       NaN   \n",
            "Q11 NaN       NaN       NaN  NaN NaN NaN  0.000339  0.000172       NaN   \n",
            "Q12 NaN       NaN       NaN  NaN NaN NaN       NaN       NaN       NaN   \n",
            "Q2  NaN       NaN       NaN  NaN NaN NaN       NaN       NaN       NaN   \n",
            "Q3  NaN       NaN       NaN  NaN NaN NaN       NaN       NaN       NaN   \n",
            "Q4  NaN       NaN  0.000339  NaN NaN NaN       NaN       NaN  0.000801   \n",
            "Q5  NaN  0.018397  0.000172  NaN NaN NaN       NaN       NaN  0.000309   \n",
            "Q6  NaN       NaN       NaN  NaN NaN NaN  0.000801  0.000309       NaN   \n",
            "Q7  NaN       NaN       NaN  NaN NaN NaN       NaN  0.019824       NaN   \n",
            "Q8  NaN       NaN       NaN  NaN NaN NaN       NaN  0.015535       NaN   \n",
            "Q9  NaN       NaN  0.020984  NaN NaN NaN       NaN       NaN  0.029195   \n",
            "\n",
            "           Q7        Q8        Q9  \n",
            "Q1        NaN       NaN       NaN  \n",
            "Q10       NaN       NaN       NaN  \n",
            "Q11       NaN       NaN  0.020984  \n",
            "Q12       NaN       NaN       NaN  \n",
            "Q2        NaN       NaN       NaN  \n",
            "Q3        NaN       NaN       NaN  \n",
            "Q4        NaN       NaN       NaN  \n",
            "Q5   0.019824  0.015535       NaN  \n",
            "Q6        NaN       NaN  0.029195  \n",
            "Q7        NaN       NaN       NaN  \n",
            "Q8        NaN       NaN       NaN  \n",
            "Q9        NaN       NaN       NaN  \n"
          ]
        }
      ]
    },
    {
      "cell_type": "markdown",
      "source": [],
      "metadata": {
        "id": "Rjcpl1NWkNyr"
      }
    },
    {
      "cell_type": "markdown",
      "source": [
        "De acuerdo, con el resultado anterior las 9 parejas que presentan diferencias significativas son:\n",
        "\n",
        "Q5-(Q10,Q11,Q6,Q7,Q8)\n",
        "Q4-(Q11,Q6)\n",
        "Q9-(Q11,Q6)"
      ],
      "metadata": {
        "id": "M8ysHQh0MjJJ"
      }
    },
    {
      "cell_type": "markdown",
      "source": [
        "B. MEDIDAS DE PS CRUDAS"
      ],
      "metadata": {
        "id": "Qt9PnRgxNaXx"
      }
    },
    {
      "cell_type": "markdown",
      "source": [
        "Ahora realizaremos una prueba no parametrica de Kruskal Wallis con el fin de identificar si hay diferencias significativas entre los 12 instructores presentes en la estrcutura datos_largos, la cual NO fue filtrada de atipicos y contiene los datso originales CRUDOS."
      ],
      "metadata": {
        "id": "SpaPRiwUOIWS"
      }
    },
    {
      "cell_type": "code",
      "source": [
        "#Este codigo permite realizar una prueba kruskal wallis de diferencias significativas de la columna Instructor en datos_largos\n",
        "# e imprime los resultados\n",
        "kruskal_resultado_c = stats.kruskal(*[datos_largos[datos_largos['Instructor'] == instructor]['Valor'] for instructor in ['Q1', 'Q2', 'Q3', 'Q4', 'Q5', 'Q6', 'Q7', 'Q8', 'Q9', 'Q10', 'Q11', 'Q12']])\n",
        "print(\"\\nResultados de Kruskal Wallis:\")\n",
        "print(kruskal_resultado_c)"
      ],
      "metadata": {
        "colab": {
          "base_uri": "https://localhost:8080/"
        },
        "id": "bpErrYrdOAlj",
        "outputId": "3ed0f2ea-7df8-46e6-afc9-9127b554a1f6"
      },
      "execution_count": 70,
      "outputs": [
        {
          "output_type": "stream",
          "name": "stdout",
          "text": [
            "\n",
            "Resultados de Kruskal Wallis:\n",
            "KruskalResult(statistic=48.853880522757265, pvalue=1.0048583336368172e-06)\n"
          ]
        }
      ]
    },
    {
      "cell_type": "markdown",
      "source": [
        "El resultado anterior indica que hay diferencias significativas, toca identificar ahora entre que parejas para estos datos crudos."
      ],
      "metadata": {
        "id": "GMcHkhowO894"
      }
    },
    {
      "cell_type": "code",
      "source": [
        "#Este codigo organiza una prueba post-hoc (especificamente un test de Dunn con corrección de Bonferroni) para las 66 combinaciones\n",
        "#de los 12 instructores presentes en el dataframe datos_largos.Al final imprime los resultados estadisticos relevantes\n",
        "#solamente de las parejas de instructores con diferencias significativas:\n",
        "#%pip install scikit_posthocs\n",
        "import scikit_posthocs as sp\n",
        "post_hoc_Dunn_c = sp.posthoc_dunn(datos_largos, val_col='Valor', group_col='Instructor', p_adjust='bonferroni')\n",
        "print(\"\\nResultados de Post-Hoc C (Dunn con Bonferroni):\")\n",
        "print(post_hoc_Dunn_c[post_hoc_Dunn_c < 0.05])"
      ],
      "metadata": {
        "colab": {
          "base_uri": "https://localhost:8080/"
        },
        "id": "jOjUuRxTPFts",
        "outputId": "ae5255dd-e505-4842-faaf-c31a2c0cf840"
      },
      "execution_count": 71,
      "outputs": [
        {
          "output_type": "stream",
          "name": "stdout",
          "text": [
            "\n",
            "Resultados de Post-Hoc C (Dunn con Bonferroni):\n",
            "           Q1       Q10       Q11  Q12  Q2  Q3        Q4        Q5        Q6  \\\n",
            "Q1        NaN       NaN       NaN  NaN NaN NaN       NaN  0.021231       NaN   \n",
            "Q10       NaN       NaN       NaN  NaN NaN NaN       NaN  0.026048       NaN   \n",
            "Q11       NaN       NaN       NaN  NaN NaN NaN  0.003857  0.000194       NaN   \n",
            "Q12       NaN       NaN       NaN  NaN NaN NaN       NaN       NaN       NaN   \n",
            "Q2        NaN       NaN       NaN  NaN NaN NaN       NaN       NaN       NaN   \n",
            "Q3        NaN       NaN       NaN  NaN NaN NaN       NaN       NaN       NaN   \n",
            "Q4        NaN       NaN  0.003857  NaN NaN NaN       NaN       NaN  0.010355   \n",
            "Q5   0.021231  0.026048  0.000194  NaN NaN NaN       NaN       NaN  0.000516   \n",
            "Q6        NaN       NaN       NaN  NaN NaN NaN  0.010355  0.000516       NaN   \n",
            "Q7        NaN       NaN       NaN  NaN NaN NaN       NaN  0.026767       NaN   \n",
            "Q8        NaN       NaN       NaN  NaN NaN NaN       NaN  0.021472       NaN   \n",
            "Q9        NaN       NaN       NaN  NaN NaN NaN       NaN       NaN       NaN   \n",
            "\n",
            "           Q7        Q8  Q9  \n",
            "Q1        NaN       NaN NaN  \n",
            "Q10       NaN       NaN NaN  \n",
            "Q11       NaN       NaN NaN  \n",
            "Q12       NaN       NaN NaN  \n",
            "Q2        NaN       NaN NaN  \n",
            "Q3        NaN       NaN NaN  \n",
            "Q4        NaN       NaN NaN  \n",
            "Q5   0.026767  0.021472 NaN  \n",
            "Q6        NaN       NaN NaN  \n",
            "Q7        NaN       NaN NaN  \n",
            "Q8        NaN       NaN NaN  \n",
            "Q9        NaN       NaN NaN  \n"
          ]
        }
      ]
    },
    {
      "cell_type": "markdown",
      "source": [],
      "metadata": {
        "id": "SBMjl0W4Q3QM"
      }
    },
    {
      "cell_type": "markdown",
      "source": [
        "De acuerdo, con el resultado anterior las 8 parejas que presentan diferencias significativas son:\n",
        "\n",
        "Q5-(Q1,Q10,Q11,Q6,Q7,Q8)\n",
        "Q4-(Q11,Q6)"
      ],
      "metadata": {
        "id": "R11-cr0DRhiM"
      }
    }
  ]
}