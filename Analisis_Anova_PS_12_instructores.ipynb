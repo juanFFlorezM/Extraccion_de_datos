{
  "nbformat": 4,
  "nbformat_minor": 0,
  "metadata": {
    "colab": {
      "provenance": [],
      "authorship_tag": "ABX9TyO1sSATfetfkLGcFpEkptVW",
      "include_colab_link": true
    },
    "kernelspec": {
      "name": "python3",
      "display_name": "Python 3"
    },
    "language_info": {
      "name": "python"
    }
  },
  "cells": [
    {
      "cell_type": "markdown",
      "metadata": {
        "id": "view-in-github",
        "colab_type": "text"
      },
      "source": [
        "<a href=\"https://colab.research.google.com/github/juanFFlorezM/Extraccion_de_datos/blob/main/Analisis_Anova_PS_12_instructores.ipynb\" target=\"_parent\"><img src=\"https://colab.research.google.com/assets/colab-badge.svg\" alt=\"Open In Colab\"/></a>"
      ]
    },
    {
      "cell_type": "code",
      "execution_count": 1,
      "metadata": {
        "id": "6ewqiutpsABZ"
      },
      "outputs": [],
      "source": [
        "import pandas as pd\n",
        "import statsmodels.api as sm\n",
        "from statsmodels.formula.api import ols\n",
        "from statsmodels.stats.anova import anova_lm\n",
        "from statsmodels.stats.multicomp import pairwise_tukeyhsd"
      ]
    },
    {
      "cell_type": "code",
      "source": [
        "# Paso 1: Cargar el archivo Excel\n",
        "archivo_excel = 'Qt_3PS_excel.xlsx'  # Cambia esto por la ruta a tu archivo\n",
        "datos = pd.read_excel(archivo_excel)"
      ],
      "metadata": {
        "id": "ulBEY2twsiEF"
      },
      "execution_count": 2,
      "outputs": []
    },
    {
      "cell_type": "code",
      "source": [
        "# Paso 2: Verifica la estructura de los datos\n",
        "print(\"Datos cargados:\")\n",
        "print(datos.head())"
      ],
      "metadata": {
        "colab": {
          "base_uri": "https://localhost:8080/"
        },
        "id": "yVJJHB6Fst8L",
        "outputId": "8a50d567-18de-4c21-bbce-4e0e56e5ffd6"
      },
      "execution_count": 3,
      "outputs": [
        {
          "output_type": "stream",
          "name": "stdout",
          "text": [
            "Datos cargados:\n",
            "  Instructor  S1  S2  S3\n",
            "0         Q1   7   7   7\n",
            "1         Q1   5   5   5\n",
            "2         Q1   1   1   1\n",
            "3         Q1   5   6   5\n",
            "4         Q1   6   6   6\n"
          ]
        }
      ]
    },
    {
      "cell_type": "code",
      "source": [
        "# Paso 3: Transformar los datos a formato largo\n",
        "# Usamos pd.melt para transformar el DataFrame\n",
        "datos_largos = pd.melt(datos, id_vars=['Instructor'], value_vars=['S1', 'S2', 'S3'],\n",
        "                       var_name='Pregunta', value_name='Valor')"
      ],
      "metadata": {
        "id": "QsgjdF1dsyJx"
      },
      "execution_count": 4,
      "outputs": []
    },
    {
      "cell_type": "code",
      "source": [
        "# Paso 4: Verifica la transformación\n",
        "print(\"\\nDatos transformados a formato largo:\")\n",
        "print(datos_largos.head())"
      ],
      "metadata": {
        "id": "YWtJv5BetJU3",
        "colab": {
          "base_uri": "https://localhost:8080/"
        },
        "outputId": "879fadc6-6d75-422e-b90c-619fd33ff609"
      },
      "execution_count": 5,
      "outputs": [
        {
          "output_type": "stream",
          "name": "stdout",
          "text": [
            "\n",
            "Datos transformados a formato largo:\n",
            "  Instructor Pregunta  Valor\n",
            "0         Q1       S1      7\n",
            "1         Q1       S1      5\n",
            "2         Q1       S1      1\n",
            "3         Q1       S1      5\n",
            "4         Q1       S1      6\n"
          ]
        }
      ]
    },
    {
      "cell_type": "code",
      "source": [
        "# Paso 5: Realizar ANOVA\n",
        "modelo = ols('Valor ~ C(Instructor)', data=datos_largos).fit()  # Ajusta el modelo OLS\n",
        "anova_resultado = anova_lm(modelo, typ=2)                      # Realiza ANOVA\n",
        "print(\"\\nResultados de ANOVA:\")\n",
        "print(anova_resultado)"
      ],
      "metadata": {
        "colab": {
          "base_uri": "https://localhost:8080/"
        },
        "id": "qp-crQiQwIfI",
        "outputId": "95cea489-4fe2-4470-99e2-ee65769fd275"
      },
      "execution_count": null,
      "outputs": [
        {
          "output_type": "stream",
          "name": "stdout",
          "text": [
            "\n",
            "Resultados de ANOVA:\n",
            "                   sum_sq     df         F    PR(>F)\n",
            "C(Instructor)   62.864785   11.0  3.643621  0.000052\n",
            "Residual       912.860805  582.0       NaN       NaN\n"
          ]
        }
      ]
    },
    {
      "cell_type": "code",
      "source": [
        "# Paso 6: Interpretar el resultado ANOVA\n",
        "p_value_anova = anova_resultado['PR(>F)'][0]\n",
        "if p_value_anova < 0.05:\n",
        "    print(\"Hay diferencias significativas entre los instructores (p < 0.05).\")"
      ],
      "metadata": {
        "colab": {
          "base_uri": "https://localhost:8080/"
        },
        "id": "SO9HBGx2_K3_",
        "outputId": "e6444090-0a76-43db-a8a5-e25be288a7a7"
      },
      "execution_count": null,
      "outputs": [
        {
          "output_type": "stream",
          "name": "stdout",
          "text": [
            "Hay diferencias significativas entre los instructores (p < 0.05).\n"
          ]
        },
        {
          "output_type": "stream",
          "name": "stderr",
          "text": [
            "<ipython-input-17-532034d692fc>:2: FutureWarning: Series.__getitem__ treating keys as positions is deprecated. In a future version, integer keys will always be treated as labels (consistent with DataFrame behavior). To access a value by position, use `ser.iloc[pos]`\n",
            "  p_value_anova = anova_resultado['PR(>F)'][0]\n"
          ]
        }
      ]
    },
    {
      "cell_type": "code",
      "source": [
        "# Paso 7: Realizar la prueba post-hoc Tukey HSD si hay diferencias significativas\n",
        "if p_value_anova < 0.05:\n",
        "    tukey_resultado = pairwise_tukeyhsd(endog=datos_largos['Valor'], groups=datos_largos['Instructor'], alpha=0.05)\n",
        "    print(\"\\nResultados de Tukey HSD:\")\n",
        "    print(tukey_resultado)\n",
        "else:\n",
        "    print(\"No hay diferencias significativas entre los instructores (p >= 0.05).\")"
      ],
      "metadata": {
        "colab": {
          "base_uri": "https://localhost:8080/"
        },
        "id": "TUzIw3nr_Uv-",
        "outputId": "ce4277d4-c4f6-4ffb-ac69-8c2e0811d87d"
      },
      "execution_count": null,
      "outputs": [
        {
          "output_type": "stream",
          "name": "stdout",
          "text": [
            "\n",
            "Resultados de Tukey HSD:\n",
            "Multiple Comparison of Means - Tukey HSD, FWER=0.05 \n",
            "====================================================\n",
            "group1 group2 meandiff p-adj   lower   upper  reject\n",
            "----------------------------------------------------\n",
            "    Q1    Q10   0.1343    1.0 -0.6056  0.8741  False\n",
            "    Q1    Q11  -0.4663  0.748 -1.2642  0.3317  False\n",
            "    Q1    Q12   0.1912 0.9998 -0.6258  1.0083  False\n",
            "    Q1     Q2   0.1038    1.0 -0.6484  0.8559  False\n",
            "    Q1     Q3   0.5861 0.5842 -0.3069  1.4792  False\n",
            "    Q1     Q4   0.4459  0.525 -0.2089  1.1006  False\n",
            "    Q1     Q5   0.8323 0.0415  0.0152  1.6494   True\n",
            "    Q1     Q6  -0.2866 0.9951 -1.1505  0.5773  False\n",
            "    Q1     Q7  -0.1917 0.9997 -0.9726  0.5893  False\n",
            "    Q1     Q8  -0.0652    1.0 -0.8823  0.7519  False\n",
            "    Q1     Q9   0.2242 0.9968 -0.4848  0.9332  False\n",
            "   Q10    Q11  -0.6005 0.4559  -1.446   0.245  False\n",
            "   Q10    Q12    0.057    1.0 -0.8066  0.9206  False\n",
            "   Q10     Q2  -0.0305    1.0  -0.833   0.772  False\n",
            "   Q10     Q3   0.4519 0.9143  -0.484  1.3877  False\n",
            "   Q10     Q4   0.3116 0.9559 -0.4003  1.0236  False\n",
            "   Q10     Q5    0.698 0.2534 -0.1656  1.5616  False\n",
            "   Q10     Q6  -0.4209 0.9345 -1.3289  0.4872  False\n",
            "   Q10     Q7  -0.3259 0.9803 -1.1554  0.5036  False\n",
            "   Q10     Q8  -0.1994 0.9998  -1.063  0.6642  False\n",
            "   Q10     Q9   0.0899    1.0 -0.6722  0.8521  False\n",
            "   Q11    Q12   0.6575 0.4346 -0.2564  1.5714  False\n",
            "   Q11     Q2     0.57 0.5617 -0.2863  1.4264  False\n",
            "   Q11     Q3   1.0524 0.0237    0.07  2.0348   True\n",
            "   Q11     Q4   0.9122 0.0066    0.14  1.6843   True\n",
            "   Q11     Q5   1.2985 0.0002  0.3846  2.2124   True\n",
            "   Q11     Q6   0.1797    1.0 -0.7763  1.1356  False\n",
            "   Q11     Q7   0.2746 0.9972 -0.6071  1.1563  False\n",
            "   Q11     Q8   0.4011 0.9551 -0.5128   1.315  False\n",
            "   Q11     Q9   0.6905 0.1968 -0.1282  1.5091  False\n",
            "   Q12     Q2  -0.0875    1.0 -0.9617  0.7867  False\n",
            "   Q12     Q3   0.3949 0.9792 -0.6031  1.3929  False\n",
            "   Q12     Q4   0.2546 0.9963 -0.5373  1.0466  False\n",
            "   Q12     Q5    0.641 0.5064 -0.2896  1.5717  False\n",
            "   Q12     Q6  -0.4779 0.9039 -1.4499  0.4942  False\n",
            "   Q12     Q7  -0.3829 0.9638  -1.282  0.5162  False\n",
            "   Q12     Q8  -0.2564 0.9991 -1.1871  0.6742  False\n",
            "   Q12     Q9    0.033    1.0 -0.8044  0.8703  False\n",
            "    Q2     Q3   0.4824 0.8795 -0.4632  1.4279  False\n",
            "    Q2     Q4   0.3421  0.926 -0.3826  1.0669  False\n",
            "    Q2     Q5   0.7285  0.212 -0.1457  1.6027  False\n",
            "    Q2     Q6  -0.3904 0.9642 -1.3085  0.5278  False\n",
            "    Q2     Q7  -0.2954  0.992 -1.1359  0.5451  False\n",
            "    Q2     Q8  -0.1689    1.0 -1.0431  0.7053  False\n",
            "    Q2     Q9   0.1204    1.0 -0.6537  0.8946  False\n",
            "    Q3     Q4  -0.1402    1.0 -1.0103  0.7299  False\n",
            "    Q3     Q5   0.2462 0.9997 -0.7519  1.2442  False\n",
            "    Q3     Q6  -0.8727 0.1992 -1.9094   0.164  False\n",
            "    Q3     Q7  -0.7778 0.2627 -1.7464  0.1909  False\n",
            "    Q3     Q8  -0.6513 0.5931 -1.6493  0.3467  False\n",
            "    Q3     Q9  -0.3619 0.9786 -1.2735  0.5497  False\n",
            "    Q4     Q5   0.3864 0.9084 -0.4056  1.1783  False\n",
            "    Q4     Q6  -0.7325 0.1581 -1.5727  0.1077  False\n",
            "    Q4     Q7  -0.6375 0.1947 -1.3922  0.1171  False\n",
            "    Q4     Q8  -0.5111 0.6104  -1.303  0.2809  False\n",
            "    Q4     Q9  -0.2217 0.9958 -0.9015  0.4582  False\n",
            "    Q5     Q6  -1.1189 0.0095 -2.0909 -0.1468   True\n",
            "    Q5     Q7  -1.0239  0.011  -1.923 -0.1248   True\n",
            "    Q5     Q8  -0.8974 0.0707 -1.8281  0.0332  False\n",
            "    Q5     Q9  -0.6081 0.4194 -1.4454  0.2293  False\n",
            "    Q6     Q7   0.0949    1.0 -0.8469  1.0368  False\n",
            "    Q6     Q8   0.2214 0.9999 -0.7506  1.1935  False\n",
            "    Q6     Q9   0.5108 0.7602 -0.3723  1.3939  False\n",
            "    Q7     Q8   0.1265    1.0 -0.7726  1.0256  False\n",
            "    Q7     Q9   0.4159 0.8673 -0.3863   1.218  False\n",
            "    Q8     Q9   0.2894  0.993  -0.548  1.1267  False\n",
            "----------------------------------------------------\n"
          ]
        }
      ]
    },
    {
      "cell_type": "code",
      "source": [
        "# Este es un codigo que me permite realizar un diagrama de cajas y bigotes con la data en datos_largos\n",
        "import plotly.express as px\n",
        "fig = px.box(datos_largos, x='Instructor', y='Valor', title='Diagrama de Caja y Bigotes')\n",
        "fig.show()"
      ],
      "metadata": {
        "colab": {
          "base_uri": "https://localhost:8080/",
          "height": 542
        },
        "id": "myehIBYpb6gP",
        "outputId": "b974e296-059b-4dcb-b8c4-afc2a470320f"
      },
      "execution_count": 6,
      "outputs": [
        {
          "output_type": "display_data",
          "data": {
            "text/html": [
              "<html>\n",
              "<head><meta charset=\"utf-8\" /></head>\n",
              "<body>\n",
              "    <div>            <script src=\"https://cdnjs.cloudflare.com/ajax/libs/mathjax/2.7.5/MathJax.js?config=TeX-AMS-MML_SVG\"></script><script type=\"text/javascript\">if (window.MathJax && window.MathJax.Hub && window.MathJax.Hub.Config) {window.MathJax.Hub.Config({SVG: {font: \"STIX-Web\"}});}</script>                <script type=\"text/javascript\">window.PlotlyConfig = {MathJaxConfig: 'local'};</script>\n",
              "        <script charset=\"utf-8\" src=\"https://cdn.plot.ly/plotly-2.35.2.min.js\"></script>                <div id=\"b4a7652b-83c0-44ea-857d-03312b260ae8\" class=\"plotly-graph-div\" style=\"height:525px; width:100%;\"></div>            <script type=\"text/javascript\">                                    window.PLOTLYENV=window.PLOTLYENV || {};                                    if (document.getElementById(\"b4a7652b-83c0-44ea-857d-03312b260ae8\")) {                    Plotly.newPlot(                        \"b4a7652b-83c0-44ea-857d-03312b260ae8\",                        [{\"alignmentgroup\":\"True\",\"hovertemplate\":\"Instructor=%{x}\\u003cbr\\u003eValor=%{y}\\u003cextra\\u003e\\u003c\\u002fextra\\u003e\",\"legendgroup\":\"\",\"marker\":{\"color\":\"#636efa\"},\"name\":\"\",\"notched\":false,\"offsetgroup\":\"\",\"orientation\":\"v\",\"showlegend\":false,\"x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x0\":\" \",\"xaxis\":\"x\",\"y\":[7,5,1,5,6,6,5,4,6,4,7,7,5,5,5,7,5,6,6,6,7,6,6,4,5,7,4,4,5,5,5,7,5,6,7,5,4,6,2,7,6,6,6,7,7,6,7,6,5,7,5,7,5,6,7,5,7,7,6,6,5,6,6,7,7,1,5,5,7,6,6,7,7,7,5,4,6,7,7,7,7,7,6,6,5,7,7,6,7,7,7,7,5,4,5,5,5,4,4,5,7,5,6,2,7,2,4,7,6,6,7,4,5,3,5,7,5,4,7,7,6,4,4,5,3,5,3,7,6,6,5,4,7,6,7,6,7,7,5,6,4,4,7,6,6,7,6,7,4,7,6,3,6,5,5,7,6,5,6,6,7,6,5,6,5,4,6,6,6,5,5,6,7,5,5,6,6,7,2,5,5,5,2,5,6,7,4,6,5,6,7,6,7,5,5,6,5,6,7,5,1,6,6,6,5,4,6,7,7,7,6,6,5,7,5,7,7,7,7,6,6,7,6,7,7,7,7,5,7,7,6,7,7,7,5,6,2,7,6,7,6,7,7,6,7,6,5,7,7,7,5,7,7,5,7,7,6,6,6,6,7,7,7,1,5,5,7,6,6,7,7,7,7,7,5,7,7,7,7,6,6,6,5,7,7,7,7,7,7,7,5,7,6,6,5,5,6,5,5,5,6,6,7,2,7,7,7,7,6,5,5,3,5,7,5,4,7,7,7,4,6,6,5,6,6,7,6,7,5,4,7,7,7,5,7,7,6,6,5,4,7,6,7,7,7,7,1,7,6,1,7,5,7,7,5,5,7,6,7,6,5,7,6,6,7,6,6,5,5,6,7,5,5,6,7,7,2,5,5,6,1,6,5,7,5,5,5,5,7,4,7,5,6,7,7,6,7,5,1,5,6,5,5,4,5,7,7,6,6,6,5,7,5,7,6,7,6,6,6,5,6,7,4,6,7,5,7,7,5,7,6,6,5,6,2,7,6,5,7,7,6,6,7,6,4,6,7,7,5,7,7,5,7,7,7,6,5,6,6,7,7,1,6,4,6,6,7,7,6,7,6,7,6,7,7,6,7,7,6,6,6,7,7,7,7,7,7,7,5,7,6,6,4,6,6,5,7,5,7,5,7,2,7,7,6,7,6,5,5,4,5,7,5,4,7,7,7,6,6,6,6,6,5,7,6,7,5,4,7,7,7,5,7,7,4,6,4,5,7,6,7,7,7,7,1,6,6,4,7,5,5,7,6,5,7,5,7,6,5,7,6,5,7,6,5,5,6,6,7,5,5,6,4,7,2,5,5,7,4,6,5,6,5,7,5,4,6,7,7,5,6,7,7,6],\"y0\":\" \",\"yaxis\":\"y\",\"type\":\"box\"}],                        {\"template\":{\"data\":{\"histogram2dcontour\":[{\"type\":\"histogram2dcontour\",\"colorbar\":{\"outlinewidth\":0,\"ticks\":\"\"},\"colorscale\":[[0.0,\"#0d0887\"],[0.1111111111111111,\"#46039f\"],[0.2222222222222222,\"#7201a8\"],[0.3333333333333333,\"#9c179e\"],[0.4444444444444444,\"#bd3786\"],[0.5555555555555556,\"#d8576b\"],[0.6666666666666666,\"#ed7953\"],[0.7777777777777778,\"#fb9f3a\"],[0.8888888888888888,\"#fdca26\"],[1.0,\"#f0f921\"]]}],\"choropleth\":[{\"type\":\"choropleth\",\"colorbar\":{\"outlinewidth\":0,\"ticks\":\"\"}}],\"histogram2d\":[{\"type\":\"histogram2d\",\"colorbar\":{\"outlinewidth\":0,\"ticks\":\"\"},\"colorscale\":[[0.0,\"#0d0887\"],[0.1111111111111111,\"#46039f\"],[0.2222222222222222,\"#7201a8\"],[0.3333333333333333,\"#9c179e\"],[0.4444444444444444,\"#bd3786\"],[0.5555555555555556,\"#d8576b\"],[0.6666666666666666,\"#ed7953\"],[0.7777777777777778,\"#fb9f3a\"],[0.8888888888888888,\"#fdca26\"],[1.0,\"#f0f921\"]]}],\"heatmap\":[{\"type\":\"heatmap\",\"colorbar\":{\"outlinewidth\":0,\"ticks\":\"\"},\"colorscale\":[[0.0,\"#0d0887\"],[0.1111111111111111,\"#46039f\"],[0.2222222222222222,\"#7201a8\"],[0.3333333333333333,\"#9c179e\"],[0.4444444444444444,\"#bd3786\"],[0.5555555555555556,\"#d8576b\"],[0.6666666666666666,\"#ed7953\"],[0.7777777777777778,\"#fb9f3a\"],[0.8888888888888888,\"#fdca26\"],[1.0,\"#f0f921\"]]}],\"heatmapgl\":[{\"type\":\"heatmapgl\",\"colorbar\":{\"outlinewidth\":0,\"ticks\":\"\"},\"colorscale\":[[0.0,\"#0d0887\"],[0.1111111111111111,\"#46039f\"],[0.2222222222222222,\"#7201a8\"],[0.3333333333333333,\"#9c179e\"],[0.4444444444444444,\"#bd3786\"],[0.5555555555555556,\"#d8576b\"],[0.6666666666666666,\"#ed7953\"],[0.7777777777777778,\"#fb9f3a\"],[0.8888888888888888,\"#fdca26\"],[1.0,\"#f0f921\"]]}],\"contourcarpet\":[{\"type\":\"contourcarpet\",\"colorbar\":{\"outlinewidth\":0,\"ticks\":\"\"}}],\"contour\":[{\"type\":\"contour\",\"colorbar\":{\"outlinewidth\":0,\"ticks\":\"\"},\"colorscale\":[[0.0,\"#0d0887\"],[0.1111111111111111,\"#46039f\"],[0.2222222222222222,\"#7201a8\"],[0.3333333333333333,\"#9c179e\"],[0.4444444444444444,\"#bd3786\"],[0.5555555555555556,\"#d8576b\"],[0.6666666666666666,\"#ed7953\"],[0.7777777777777778,\"#fb9f3a\"],[0.8888888888888888,\"#fdca26\"],[1.0,\"#f0f921\"]]}],\"surface\":[{\"type\":\"surface\",\"colorbar\":{\"outlinewidth\":0,\"ticks\":\"\"},\"colorscale\":[[0.0,\"#0d0887\"],[0.1111111111111111,\"#46039f\"],[0.2222222222222222,\"#7201a8\"],[0.3333333333333333,\"#9c179e\"],[0.4444444444444444,\"#bd3786\"],[0.5555555555555556,\"#d8576b\"],[0.6666666666666666,\"#ed7953\"],[0.7777777777777778,\"#fb9f3a\"],[0.8888888888888888,\"#fdca26\"],[1.0,\"#f0f921\"]]}],\"mesh3d\":[{\"type\":\"mesh3d\",\"colorbar\":{\"outlinewidth\":0,\"ticks\":\"\"}}],\"scatter\":[{\"fillpattern\":{\"fillmode\":\"overlay\",\"size\":10,\"solidity\":0.2},\"type\":\"scatter\"}],\"parcoords\":[{\"type\":\"parcoords\",\"line\":{\"colorbar\":{\"outlinewidth\":0,\"ticks\":\"\"}}}],\"scatterpolargl\":[{\"type\":\"scatterpolargl\",\"marker\":{\"colorbar\":{\"outlinewidth\":0,\"ticks\":\"\"}}}],\"bar\":[{\"error_x\":{\"color\":\"#2a3f5f\"},\"error_y\":{\"color\":\"#2a3f5f\"},\"marker\":{\"line\":{\"color\":\"#E5ECF6\",\"width\":0.5},\"pattern\":{\"fillmode\":\"overlay\",\"size\":10,\"solidity\":0.2}},\"type\":\"bar\"}],\"scattergeo\":[{\"type\":\"scattergeo\",\"marker\":{\"colorbar\":{\"outlinewidth\":0,\"ticks\":\"\"}}}],\"scatterpolar\":[{\"type\":\"scatterpolar\",\"marker\":{\"colorbar\":{\"outlinewidth\":0,\"ticks\":\"\"}}}],\"histogram\":[{\"marker\":{\"pattern\":{\"fillmode\":\"overlay\",\"size\":10,\"solidity\":0.2}},\"type\":\"histogram\"}],\"scattergl\":[{\"type\":\"scattergl\",\"marker\":{\"colorbar\":{\"outlinewidth\":0,\"ticks\":\"\"}}}],\"scatter3d\":[{\"type\":\"scatter3d\",\"line\":{\"colorbar\":{\"outlinewidth\":0,\"ticks\":\"\"}},\"marker\":{\"colorbar\":{\"outlinewidth\":0,\"ticks\":\"\"}}}],\"scattermapbox\":[{\"type\":\"scattermapbox\",\"marker\":{\"colorbar\":{\"outlinewidth\":0,\"ticks\":\"\"}}}],\"scatterternary\":[{\"type\":\"scatterternary\",\"marker\":{\"colorbar\":{\"outlinewidth\":0,\"ticks\":\"\"}}}],\"scattercarpet\":[{\"type\":\"scattercarpet\",\"marker\":{\"colorbar\":{\"outlinewidth\":0,\"ticks\":\"\"}}}],\"carpet\":[{\"aaxis\":{\"endlinecolor\":\"#2a3f5f\",\"gridcolor\":\"white\",\"linecolor\":\"white\",\"minorgridcolor\":\"white\",\"startlinecolor\":\"#2a3f5f\"},\"baxis\":{\"endlinecolor\":\"#2a3f5f\",\"gridcolor\":\"white\",\"linecolor\":\"white\",\"minorgridcolor\":\"white\",\"startlinecolor\":\"#2a3f5f\"},\"type\":\"carpet\"}],\"table\":[{\"cells\":{\"fill\":{\"color\":\"#EBF0F8\"},\"line\":{\"color\":\"white\"}},\"header\":{\"fill\":{\"color\":\"#C8D4E3\"},\"line\":{\"color\":\"white\"}},\"type\":\"table\"}],\"barpolar\":[{\"marker\":{\"line\":{\"color\":\"#E5ECF6\",\"width\":0.5},\"pattern\":{\"fillmode\":\"overlay\",\"size\":10,\"solidity\":0.2}},\"type\":\"barpolar\"}],\"pie\":[{\"automargin\":true,\"type\":\"pie\"}]},\"layout\":{\"autotypenumbers\":\"strict\",\"colorway\":[\"#636efa\",\"#EF553B\",\"#00cc96\",\"#ab63fa\",\"#FFA15A\",\"#19d3f3\",\"#FF6692\",\"#B6E880\",\"#FF97FF\",\"#FECB52\"],\"font\":{\"color\":\"#2a3f5f\"},\"hovermode\":\"closest\",\"hoverlabel\":{\"align\":\"left\"},\"paper_bgcolor\":\"white\",\"plot_bgcolor\":\"#E5ECF6\",\"polar\":{\"bgcolor\":\"#E5ECF6\",\"angularaxis\":{\"gridcolor\":\"white\",\"linecolor\":\"white\",\"ticks\":\"\"},\"radialaxis\":{\"gridcolor\":\"white\",\"linecolor\":\"white\",\"ticks\":\"\"}},\"ternary\":{\"bgcolor\":\"#E5ECF6\",\"aaxis\":{\"gridcolor\":\"white\",\"linecolor\":\"white\",\"ticks\":\"\"},\"baxis\":{\"gridcolor\":\"white\",\"linecolor\":\"white\",\"ticks\":\"\"},\"caxis\":{\"gridcolor\":\"white\",\"linecolor\":\"white\",\"ticks\":\"\"}},\"coloraxis\":{\"colorbar\":{\"outlinewidth\":0,\"ticks\":\"\"}},\"colorscale\":{\"sequential\":[[0.0,\"#0d0887\"],[0.1111111111111111,\"#46039f\"],[0.2222222222222222,\"#7201a8\"],[0.3333333333333333,\"#9c179e\"],[0.4444444444444444,\"#bd3786\"],[0.5555555555555556,\"#d8576b\"],[0.6666666666666666,\"#ed7953\"],[0.7777777777777778,\"#fb9f3a\"],[0.8888888888888888,\"#fdca26\"],[1.0,\"#f0f921\"]],\"sequentialminus\":[[0.0,\"#0d0887\"],[0.1111111111111111,\"#46039f\"],[0.2222222222222222,\"#7201a8\"],[0.3333333333333333,\"#9c179e\"],[0.4444444444444444,\"#bd3786\"],[0.5555555555555556,\"#d8576b\"],[0.6666666666666666,\"#ed7953\"],[0.7777777777777778,\"#fb9f3a\"],[0.8888888888888888,\"#fdca26\"],[1.0,\"#f0f921\"]],\"diverging\":[[0,\"#8e0152\"],[0.1,\"#c51b7d\"],[0.2,\"#de77ae\"],[0.3,\"#f1b6da\"],[0.4,\"#fde0ef\"],[0.5,\"#f7f7f7\"],[0.6,\"#e6f5d0\"],[0.7,\"#b8e186\"],[0.8,\"#7fbc41\"],[0.9,\"#4d9221\"],[1,\"#276419\"]]},\"xaxis\":{\"gridcolor\":\"white\",\"linecolor\":\"white\",\"ticks\":\"\",\"title\":{\"standoff\":15},\"zerolinecolor\":\"white\",\"automargin\":true,\"zerolinewidth\":2},\"yaxis\":{\"gridcolor\":\"white\",\"linecolor\":\"white\",\"ticks\":\"\",\"title\":{\"standoff\":15},\"zerolinecolor\":\"white\",\"automargin\":true,\"zerolinewidth\":2},\"scene\":{\"xaxis\":{\"backgroundcolor\":\"#E5ECF6\",\"gridcolor\":\"white\",\"linecolor\":\"white\",\"showbackground\":true,\"ticks\":\"\",\"zerolinecolor\":\"white\",\"gridwidth\":2},\"yaxis\":{\"backgroundcolor\":\"#E5ECF6\",\"gridcolor\":\"white\",\"linecolor\":\"white\",\"showbackground\":true,\"ticks\":\"\",\"zerolinecolor\":\"white\",\"gridwidth\":2},\"zaxis\":{\"backgroundcolor\":\"#E5ECF6\",\"gridcolor\":\"white\",\"linecolor\":\"white\",\"showbackground\":true,\"ticks\":\"\",\"zerolinecolor\":\"white\",\"gridwidth\":2}},\"shapedefaults\":{\"line\":{\"color\":\"#2a3f5f\"}},\"annotationdefaults\":{\"arrowcolor\":\"#2a3f5f\",\"arrowhead\":0,\"arrowwidth\":1},\"geo\":{\"bgcolor\":\"white\",\"landcolor\":\"#E5ECF6\",\"subunitcolor\":\"white\",\"showland\":true,\"showlakes\":true,\"lakecolor\":\"white\"},\"title\":{\"x\":0.05},\"mapbox\":{\"style\":\"light\"}}},\"xaxis\":{\"anchor\":\"y\",\"domain\":[0.0,1.0],\"title\":{\"text\":\"Instructor\"}},\"yaxis\":{\"anchor\":\"x\",\"domain\":[0.0,1.0],\"title\":{\"text\":\"Valor\"}},\"legend\":{\"tracegroupgap\":0},\"title\":{\"text\":\"Diagrama de Caja y Bigotes\"},\"boxmode\":\"group\"},                        {\"responsive\": true}                    ).then(function(){\n",
              "                            \n",
              "var gd = document.getElementById('b4a7652b-83c0-44ea-857d-03312b260ae8');\n",
              "var x = new MutationObserver(function (mutations, observer) {{\n",
              "        var display = window.getComputedStyle(gd).display;\n",
              "        if (!display || display === 'none') {{\n",
              "            console.log([gd, 'removed!']);\n",
              "            Plotly.purge(gd);\n",
              "            observer.disconnect();\n",
              "        }}\n",
              "}});\n",
              "\n",
              "// Listen for the removal of the full notebook cells\n",
              "var notebookContainer = gd.closest('#notebook-container');\n",
              "if (notebookContainer) {{\n",
              "    x.observe(notebookContainer, {childList: true});\n",
              "}}\n",
              "\n",
              "// Listen for the clearing of the current output cell\n",
              "var outputEl = gd.closest('.output');\n",
              "if (outputEl) {{\n",
              "    x.observe(outputEl, {childList: true});\n",
              "}}\n",
              "\n",
              "                        })                };                            </script>        </div>\n",
              "</body>\n",
              "</html>"
            ]
          },
          "metadata": {}
        }
      ]
    }
  ]
}